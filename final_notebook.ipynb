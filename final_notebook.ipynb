{
 "cells": [
  {
   "cell_type": "markdown",
   "id": "da02009e",
   "metadata": {},
   "source": [
    "## **Sentiment Analysis- Arabic News** \n",
    "### *Evaluating Arabic News Attitudes towards America through NLP Analysis and a Predictive Classification Model*\n",
    "\n",
    "***\n",
    "\n",
    "by: Andrew Rachuig, Kyle Green, Mindy Shiben, and Paige Rackley"
   ]
  },
  {
   "cell_type": "markdown",
   "id": "d5283494",
   "metadata": {},
   "source": [
    "### Introduction : \n",
    "*** \n",
    "The United States has made itself a key player in the Middle East by using its diplomatic, economic, and military power in support of national and international interests. Since the 9/11 terrorist attacks on U.S. soil, one of the most consequntial events in the modern world, tensions between the two regions have been undoubtedly high. With remarkable communication and technology enhancements in the 21st century, we've become more aware of biases portrayed in mainstream media, and Middle Eastern media is no exception. Two-thirds of Arab nationals overall say they trust mass media such as newspapers, TV, and radio to report news fully, fairly, and accurately (mideastmedia.org, 2017). Through examining almost half a million Arabic news articles between 2000 and 2014 from 10 different Middle Eastern news outlets, we can see how different factors (such as international events) may drive overall sentiment and sentiment towards America. Having this insight may inform policy makers and influence decision making moving forward. This project delivers an integral piece of the puzzle of America's foreign policy towards the world."
   ]
  },
  {
   "cell_type": "markdown",
   "id": "152c7147",
   "metadata": {},
   "source": [
    "### Project Goals:\n",
    "*** \n",
    "The goal "
   ]
  },
  {
   "cell_type": "markdown",
   "id": "5f2a0d35",
   "metadata": {},
   "source": [
    "### Summary of Findings & Recommendations:\n",
    "***\n",
    "- words "
   ]
  },
  {
   "cell_type": "markdown",
   "id": "b6917d42",
   "metadata": {},
   "source": [
    "### Acquiring the Data"
   ]
  },
  {
   "cell_type": "markdown",
   "id": "5caf381b",
   "metadata": {},
   "source": [
    "### Prepare the Data"
   ]
  },
  {
   "cell_type": "markdown",
   "id": "295590a3",
   "metadata": {},
   "source": [
    "### Explore"
   ]
  },
  {
   "cell_type": "markdown",
   "id": "e527d99e",
   "metadata": {},
   "source": [
    "#### Initial Hypothesis and Questions: **** We need to choose if we want to remove any of these questions or add any new **\n",
    "    - What’s the relationship between article sentiment and world events?\n",
    "    - What is the relationship between news sources and the target? \n",
    "    - What is the relationship between country of source and target?\n",
    "    - What is the relationsheep between tag and target?\n",
    "    - Is there a relationship between time and sentiment?\n",
    "    - Is there a relationship between sentiment of the headline and sentiment of text?"
   ]
  },
  {
   "cell_type": "markdown",
   "id": "19c758b8",
   "metadata": {},
   "source": [
    "### Example of how we can format our questions:\n",
    "\n",
    "\n",
    "Question:\n",
    "\n",
    "\n",
    "Visual:\n",
    "\n",
    "\n",
    "Stat testing if needed\n",
    "\n",
    "\n",
    "Takeway"
   ]
  },
  {
   "cell_type": "markdown",
   "id": "257c496f",
   "metadata": {},
   "source": [
    "#### Exploration Summary: Summarizes all takeways from visuals, stat tests and questions. "
   ]
  },
  {
   "cell_type": "markdown",
   "id": "2f8a10c1",
   "metadata": {},
   "source": [
    "### Model"
   ]
  },
  {
   "cell_type": "markdown",
   "id": "39070edc",
   "metadata": {},
   "source": [
    "Depending on our steps here, we can show prep such as splitting, explanations for specific features we want to use and why, etc.\n",
    "\n",
    "\n",
    "What are we focusing on? What is our baseline? Why is that our baseline?\n",
    "\n",
    "\n",
    "If we will be testing on different models, show results - train then takeways\n",
    "\n",
    "Validate - validate checks for overfitting if needed and helps us decide which model to take into test if the results are very close during train. If we need to show validate, its best to explain what we're looking for and what our final decision is \n",
    "\n",
    "Test - one final model and results of model."
   ]
  },
  {
   "cell_type": "markdown",
   "id": "960a60e2",
   "metadata": {},
   "source": [
    "### In conclusion (or better way of saying that)\n",
    "\n",
    "Where we talk about our results compared to baseline, did we beat it, what kind of model, etc.\n",
    "\n",
    "#### With more time:\n",
    "   - Next steps we may expand on next week, things we want to look further into\n",
    "   \n",
    "#### Recommendations:\n",
    "    - Can kind of depend what to put here."
   ]
  },
  {
   "cell_type": "code",
   "execution_count": null,
   "id": "37583151",
   "metadata": {},
   "outputs": [],
   "source": []
  }
 ],
 "metadata": {
  "kernelspec": {
   "display_name": "Python 3 (ipykernel)",
   "language": "python",
   "name": "python3"
  },
  "language_info": {
   "codemirror_mode": {
    "name": "ipython",
    "version": 3
   },
   "file_extension": ".py",
   "mimetype": "text/x-python",
   "name": "python",
   "nbconvert_exporter": "python",
   "pygments_lexer": "ipython3",
   "version": "3.9.7"
  }
 },
 "nbformat": 4,
 "nbformat_minor": 5
}
