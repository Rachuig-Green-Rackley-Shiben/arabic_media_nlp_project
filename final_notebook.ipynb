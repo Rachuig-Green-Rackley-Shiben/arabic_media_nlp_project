{
 "cells": [
  {
   "cell_type": "markdown",
   "id": "da02009e",
   "metadata": {},
   "source": [
    "## **Sentiment Analysis- Arabic News** \n",
    "### *Evaluating Arabic News Attitudes towards America through NLP Analysis and a Predictive Classification Model*\n",
    "\n",
    "***"
   ]
  },
  {
   "cell_type": "markdown",
   "id": "d5283494",
   "metadata": {},
   "source": [
    "### Introduction : \n",
    "*** \n",
    "The United States has made itself a key player in the Middle East by using its diplomatic, economic, and military power in support of national and international interests. Since the 9/11 terrorist attacks on U.S. soil, one of the most consequntial events in the modern world, tensions between the two regions have been undoubtedly high. With remarkable communication and technology enhancements in the 21st century, we've become more aware of biases portrayed in mainstream media, and Middle Eastern media is no exception. Two-thirds of Arab nationals overall say they trust mass media such as newspapers, TV, and radio to report news fully, fairly, and accurately (mideastmedia.org, 2017). Through examining almost half a million Arabic news articles between 2000 and 2014 from 10 different Middle Eastern news outlets, we can see how different factors (such as international events) may drive overall sentiment and sentiment towards America. Having this insight may inform policy makers and influence decision making. This project delivers an integral piece of the puzzle of America's foreign policy towards the world."
   ]
  },
  {
   "cell_type": "markdown",
   "id": "152c7147",
   "metadata": {},
   "source": [
    "### Project Goals:\n",
    "*** \n",
    "- words"
   ]
  },
  {
   "cell_type": "markdown",
   "id": "5f2a0d35",
   "metadata": {},
   "source": [
    "### Summary of Findings & Recommendations:\n",
    "***\n",
    "- words "
   ]
  },
  {
   "cell_type": "code",
   "execution_count": null,
   "id": "92ff9923",
   "metadata": {},
   "outputs": [],
   "source": []
  }
 ],
 "metadata": {
  "kernelspec": {
   "display_name": "Python 3 (ipykernel)",
   "language": "python",
   "name": "python3"
  },
  "language_info": {
   "codemirror_mode": {
    "name": "ipython",
    "version": 3
   },
   "file_extension": ".py",
   "mimetype": "text/x-python",
   "name": "python",
   "nbconvert_exporter": "python",
   "pygments_lexer": "ipython3",
   "version": "3.9.7"
  }
 },
 "nbformat": 4,
 "nbformat_minor": 5
}
