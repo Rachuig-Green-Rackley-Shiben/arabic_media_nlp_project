{
 "cells": [
  {
   "cell_type": "markdown",
   "id": "da744c98",
   "metadata": {},
   "source": [
    "## Additional Librabies for Project\n",
    "- translation tool\n",
    "- sentiment analysis tool\n",
    "\n",
    "### Translation tool- install:\n",
    "\n",
    "pip install googletrans==4.0.0-rc1\n",
    "\n",
    "#### note: I had a few issues as I had an older version installed that was conflicting. I ended up using the uninstall instructions here and then installing again with the install above. Just incase you have an older version of googletran- here it is https://stackoverflow.com/questions/52455774/googletrans-stopped-working-with-error-nonetype-object-has-no-attribute-group\n",
    "\n",
    "### Translation tool- install:\n",
    "\n",
    "pip install camel-tools"
   ]
  },
  {
   "cell_type": "code",
   "execution_count": 3,
   "id": "4351b11a",
   "metadata": {},
   "outputs": [],
   "source": [
    "import pandas as pd\n",
    "from googletrans import Translator\n",
    "from camel_tools.sentiment import SentimentAnalyzer\n",
    "from transformers import pipeline"
   ]
  },
  {
   "cell_type": "markdown",
   "id": "b458c30e",
   "metadata": {},
   "source": [
    "### Translation example"
   ]
  },
  {
   "cell_type": "code",
   "execution_count": 2,
   "id": "d75d8718",
   "metadata": {},
   "outputs": [
    {
     "data": {
      "text/plain": [
       "'Hello how are you?'"
      ]
     },
     "execution_count": 2,
     "metadata": {},
     "output_type": "execute_result"
    }
   ],
   "source": [
    "#example using translator Arabic to Engligh\n",
    "translator = Translator()\n",
    "\n",
    "translation = translator.translate(\"مرحبا كيف حالك؟\",  dest='en')\n",
    "translation.text"
   ]
  },
  {
   "cell_type": "code",
   "execution_count": 4,
   "id": "d355fc21",
   "metadata": {},
   "outputs": [
    {
     "data": {
      "text/plain": [
       "'مرحبًاّ! كيف حالك؟'"
      ]
     },
     "execution_count": 4,
     "metadata": {},
     "output_type": "execute_result"
    }
   ],
   "source": [
    "#example using translator English to Arabic\n",
    "translator = Translator()\n",
    "\n",
    "translation = translator.translate(\"Hello, how are you?\",  dest='ar')\n",
    "translation.text"
   ]
  },
  {
   "cell_type": "markdown",
   "id": "32dc5988",
   "metadata": {},
   "source": [
    "### Sentiment Example\n",
    "\n",
    "- note, MSA stands for Modern Standard Arabic (which is the form of Arabic language that the news is written in)"
   ]
  },
  {
   "cell_type": "code",
   "execution_count": 5,
   "id": "8f0d742d",
   "metadata": {},
   "outputs": [],
   "source": [
    "msa = pipeline('text-classification', model=\"CAMeL-Lab/bert-base-arabic-camelbert-msa-sentiment\")\n",
    "# this calls to use the open source pre-trained sentiment analysis tool"
   ]
  },
  {
   "cell_type": "code",
   "execution_count": 6,
   "id": "a3ad9eae",
   "metadata": {},
   "outputs": [
    {
     "data": {
      "text/plain": [
       "[{'label': 'negative', 'score': 0.9962539672851562}]"
      ]
     },
     "execution_count": 6,
     "metadata": {},
     "output_type": "execute_result"
    }
   ],
   "source": [
    "test_1 = 'أمريكا فظيعة' #America is terrible\n",
    "msa(test_1) "
   ]
  },
  {
   "cell_type": "markdown",
   "id": "5b81343c",
   "metadata": {},
   "source": [
    "Above shows the model is correct as we'd expect it to be negative. the score is how confident the model"
   ]
  },
  {
   "cell_type": "code",
   "execution_count": 7,
   "id": "e36583ea",
   "metadata": {},
   "outputs": [
    {
     "data": {
      "text/plain": [
       "[{'label': 'neutral', 'score': 0.5996049642562866}]"
      ]
     },
     "execution_count": 7,
     "metadata": {},
     "output_type": "execute_result"
    }
   ],
   "source": [
    "#example from English... need to translate first\n",
    "\n",
    "translator = Translator()\n",
    "\n",
    "test_2 = translator.translate(\"US President Biden says many will still get COVID-19, but available vaccines, testing and treatment have made the coronavirus less deadly\",  dest='ar')\n",
    "test_2 = test_2.text \n",
    "msa(test_2) "
   ]
  },
  {
   "cell_type": "code",
   "execution_count": null,
   "id": "fdafcb8e",
   "metadata": {},
   "outputs": [],
   "source": []
  }
 ],
 "metadata": {
  "kernelspec": {
   "display_name": "Python 3 (ipykernel)",
   "language": "python",
   "name": "python3"
  },
  "language_info": {
   "codemirror_mode": {
    "name": "ipython",
    "version": 3
   },
   "file_extension": ".py",
   "mimetype": "text/x-python",
   "name": "python",
   "nbconvert_exporter": "python",
   "pygments_lexer": "ipython3",
   "version": "3.9.7"
  }
 },
 "nbformat": 4,
 "nbformat_minor": 5
}
