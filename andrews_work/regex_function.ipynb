{
 "cells": [
  {
   "cell_type": "code",
   "execution_count": 2,
   "id": "3e18e3d8",
   "metadata": {},
   "outputs": [],
   "source": [
    "import pandas as pd\n",
    "import re"
   ]
  },
  {
   "cell_type": "code",
   "execution_count": 31,
   "id": "4c4a6d76",
   "metadata": {},
   "outputs": [],
   "source": [
    "df = pd.read_csv('daily08_01.csv')\n",
    "df = df.drop(columns = ['Unnamed: 0', 'index'])"
   ]
  },
  {
   "cell_type": "code",
   "execution_count": null,
   "id": "0c30f525",
   "metadata": {},
   "outputs": [],
   "source": [
    "\n",
    "def find_month(df_dateline):\n",
    "    exp = '\\d\\d.*\\d\\d\\d\\d'\n",
    "    try:\n",
    "        month = re.search(exp, df_dateline).group()[2:-4]\n",
    "        months = {'January' : 'يناير',\n",
    "                        'February' : 'فبراير',\n",
    "                        'March' : 'مارس',\n",
    "                        'April' : 'أبريل',\n",
    "                        'June' : 'يوني',\n",
    "                        'July' : 'يولي',\n",
    "                        'August' : 'أغسطس',\n",
    "                        'September' : 'سبتمبر',\n",
    "                        'October' : 'أكتوبر',\n",
    "                        'November' : 'نوفمبر',\n",
    "                        'December' : 'ديسمبر',\n",
    "                        'April1' : 'إبريل',\n",
    "                        'May': 'ماي'}\n",
    "    \n",
    "        months = flip_key_value_pairs(months)\n",
    "        \n",
    "        return re.search(exp, df_dateline).group()[2:-4]\n",
    "    except:\n",
    "        \n",
    "        try:\n",
    "            return re.search('20\\d\\d\\W\\d\\d\\W\\d\\d', val).group()\n",
    "\n",
    "        except:\n",
    "            return False\n",
    "\n",
    "def flip_key_value_pairs(dicts):\n",
    "    res = dict((v,k) for k,v in dicts.items())\n",
    "    return res\n",
    "\n",
    "df.dateline.apply(find_month)"
   ]
  },
  {
   "cell_type": "code",
   "execution_count": 33,
   "id": "10c82f44",
   "metadata": {},
   "outputs": [
    {
     "data": {
      "text/plain": [
       "SaudiYoum         3127\n",
       "Techreen          2142\n",
       "Youm7             2142\n",
       "Alittihad         2142\n",
       "Almustaqbal       1967\n",
       "Ryiadh            1785\n",
       "Alqabas           1603\n",
       "Almasryalyoum     1071\n",
       "Sabanews           443\n",
       "Echoroukonline     357\n",
       "Name: source, dtype: int64"
      ]
     },
     "execution_count": 33,
     "metadata": {},
     "output_type": "execute_result"
    }
   ],
   "source": [
    "df.source.value_counts()"
   ]
  },
  {
   "cell_type": "code",
   "execution_count": 206,
   "id": "c4897b71",
   "metadata": {},
   "outputs": [
    {
     "data": {
      "text/plain": [
       "3213        تاريخ النشر: الأحد 21 مارس 2010\n",
       "3214        تاريخ النشر: الأحد 21 مارس 2010\n",
       "3215        تاريخ النشر: الأحد 21 مارس 2010\n",
       "3216        تاريخ النشر: الأحد 21 مارس 2010\n",
       "3217      تاريخ النشر: الإثنين 22 مارس 2010\n",
       "                        ...                \n",
       "13918    تاريخ النشر: الجمعة 15 فبراير 2008\n",
       "13919    تاريخ النشر: الجمعة 15 فبراير 2008\n",
       "13920    تاريخ النشر: الجمعة 15 فبراير 2008\n",
       "13921    تاريخ النشر: الجمعة 15 فبراير 2008\n",
       "13922    تاريخ النشر: الجمعة 15 فبراير 2008\n",
       "Name: dateline, Length: 2142, dtype: object"
      ]
     },
     "execution_count": 206,
     "metadata": {},
     "output_type": "execute_result"
    }
   ],
   "source": [
    "df[df.source == 'Alittihad'].dateline"
   ]
  },
  {
   "cell_type": "code",
   "execution_count": 209,
   "id": "8333c1e2",
   "metadata": {},
   "outputs": [],
   "source": [
    "def alittihad_date(date_entry):\n",
    "    months_map = {'يناير':'01',\n",
    "            'فبراير':'02',\n",
    "            'مارس':'03',\n",
    "            'أبريل':'04',\n",
    "            'مايو':'05',\n",
    "            'يونيو':'06',\n",
    "            'يوليو':'07',\n",
    "            'أغسطس':'08',\n",
    "            'سبتمبر':'09',\n",
    "            'أكتوبر':'10',\n",
    "            'نوفمبر':'11',\n",
    "            'ديسمبر':'12',\n",
    "            'إبريل':'04',\n",
    "            'ماي':'05',\n",
    "            'يونيه':'06',\n",
    "            'يوليه':'07'}\n",
    "    exp = r'(\\d?\\d)(.*)(\\d\\d\\d\\d)'\n",
    "    match = re.search(exp, date_entry)\n",
    "    day =  match[1]\n",
    "    month = match[2].strip()\n",
    "    year = match[3]\n",
    "    month = months_map[month]\n",
    "    date = year+ '-' + month + '-' + day\n",
    "    return date"
   ]
  },
  {
   "cell_type": "code",
   "execution_count": 210,
   "id": "e9b7a407",
   "metadata": {},
   "outputs": [
    {
     "data": {
      "text/plain": [
       "3213     2010-03-21\n",
       "3214     2010-03-21\n",
       "3215     2010-03-21\n",
       "3216     2010-03-21\n",
       "3217     2010-03-22\n",
       "            ...    \n",
       "13918    2008-02-15\n",
       "13919    2008-02-15\n",
       "13920    2008-02-15\n",
       "13921    2008-02-15\n",
       "13922    2008-02-15\n",
       "Name: dateline, Length: 2142, dtype: object"
      ]
     },
     "execution_count": 210,
     "metadata": {},
     "output_type": "execute_result"
    }
   ],
   "source": [
    "df[df.source == 'Alittihad'].dateline.apply(alittihad_date)"
   ]
  },
  {
   "cell_type": "code",
   "execution_count": 126,
   "id": "a6eb5ffb",
   "metadata": {},
   "outputs": [
    {
     "data": {
      "text/plain": [
       "{'يناير': 'January',\n",
       " 'فبراير': 'February',\n",
       " 'مارس': 'March',\n",
       " 'أبريل': 'April',\n",
       " 'مايو': 'May',\n",
       " 'يونيو': 'June',\n",
       " 'يوليو': 'July',\n",
       " 'أغسطس': 'August',\n",
       " 'سبتمبر': 'September',\n",
       " 'أكتوبر': 'October',\n",
       " 'نوفمبر': 'November',\n",
       " 'ديسمبر': 'December',\n",
       " 'إبريل': 'April',\n",
       " 'ماي': 'May',\n",
       " 'يونيه': 'June',\n",
       " 'يوليه': 'July'}"
      ]
     },
     "execution_count": 126,
     "metadata": {},
     "output_type": "execute_result"
    }
   ],
   "source": [
    "months_map"
   ]
  },
  {
   "cell_type": "code",
   "execution_count": 253,
   "id": "d15c7a7c",
   "metadata": {},
   "outputs": [
    {
     "data": {
      "text/plain": [
       "9995     الجمعه 2 ربيع الأول 1427هـ - 31 مارس 2006م - ا...\n",
       "11067                                           14/02/2003\n",
       "11068                                           13/02/2003\n",
       "11069                                           13/02/2003\n",
       "11070                                           13/02/2003\n",
       "Name: dateline, dtype: object"
      ]
     },
     "execution_count": 253,
     "metadata": {},
     "output_type": "execute_result"
    }
   ],
   "source": [
    "df[df.source == 'Ryiadh'].dateline.iloc[1070:1075]"
   ]
  },
  {
   "cell_type": "code",
   "execution_count": 257,
   "id": "0a87d064",
   "metadata": {},
   "outputs": [],
   "source": [
    "def ryiadh_date(date_entry):\n",
    "    months_map = {'يناير':'01',\n",
    "            'فبراير':'02',\n",
    "            'مارس':'03',\n",
    "            'أبريل':'04',\n",
    "            'مايو':'05',\n",
    "            'يونيو':'06',\n",
    "            'يوليو':'07',\n",
    "            'أغسطس':'08',\n",
    "            'سبتمبر':'09',\n",
    "            'أكتوبر':'10',\n",
    "            'نوفمبر':'11',\n",
    "            'ديسمبر':'12',\n",
    "            'إبريل':'04',\n",
    "            'ماي':'05',\n",
    "            'يونيه':'06',\n",
    "            'يوليه':'07'}\n",
    "    try:\n",
    "        exp = r'-\\s(\\d?\\d)\\s?(.+)\\s(\\d\\d\\d\\d)\\s?م'\n",
    "        match = re.search(exp, date_entry)\n",
    "        day =  match[1]\n",
    "        month = match[2].strip()\n",
    "        year = match[3]\n",
    "        month = months_map[month]\n",
    "        date = year+ '-' + month + '-' + day\n",
    "        return date\n",
    "    except:\n",
    "        exp = r'(\\d\\d)/(\\d\\d)/(\\d\\d\\d\\d)'\n",
    "        match = re.search(exp, date_entry)\n",
    "        day =  match[1]\n",
    "        month = match[2]\n",
    "        year = match[3]\n",
    "        date = year+ '-' + month + '-' + day\n",
    "        return date"
   ]
  },
  {
   "cell_type": "code",
   "execution_count": 259,
   "id": "02f5f356",
   "metadata": {},
   "outputs": [
    {
     "data": {
      "text/plain": [
       "2856    2005-11-25\n",
       "2857    2005-11-25\n",
       "2858    2005-11-25\n",
       "2859    2005-11-25\n",
       "2860    2005-11-25\n",
       "           ...    \n",
       "13204   2007-12-14\n",
       "13205   2007-12-14\n",
       "13206   2007-12-14\n",
       "13207   2007-12-14\n",
       "13208   2007-12-14\n",
       "Name: dateline, Length: 1785, dtype: datetime64[ns]"
      ]
     },
     "execution_count": 259,
     "metadata": {},
     "output_type": "execute_result"
    }
   ],
   "source": [
    "pd.to_datetime(df[df.source == 'Ryiadh'].dateline.apply(ryiadh_date))"
   ]
  },
  {
   "cell_type": "code",
   "execution_count": 262,
   "id": "26c53313",
   "metadata": {},
   "outputs": [
    {
     "data": {
      "text/plain": [
       "4998     تم النشر في 2014/03/02\n",
       "4999     تم النشر في 2014/03/02\n",
       "5000     تم النشر في 2014/03/02\n",
       "5001     تم النشر في 2014/03/02\n",
       "5002     تم النشر في 2014/03/02\n",
       "                  ...          \n",
       "16774    تم النشر في 2012/10/29\n",
       "16775    تم النشر في 2012/10/29\n",
       "16776    تم النشر في 2012/10/29\n",
       "16777    تم النشر في 2012/10/29\n",
       "16778    تم النشر في 2012/10/29\n",
       "Name: dateline, Length: 1603, dtype: object"
      ]
     },
     "execution_count": 262,
     "metadata": {},
     "output_type": "execute_result"
    }
   ],
   "source": [
    "df[df.source == 'Alqabas'].dateline"
   ]
  },
  {
   "cell_type": "code",
   "execution_count": 281,
   "id": "64aab099",
   "metadata": {},
   "outputs": [],
   "source": [
    "def alqabas_date(date_entry):\n",
    "    exp = r'(\\d\\d\\d\\d)/(\\d\\d)/(\\d\\d)'\n",
    "    match = re.search(exp, date_entry)\n",
    "    day =  match[3]\n",
    "    month = match[2]\n",
    "    year = match[1]\n",
    "    date = year+ '-' + month + '-' + day\n",
    "    return date"
   ]
  },
  {
   "cell_type": "code",
   "execution_count": 283,
   "id": "aaf2df86",
   "metadata": {},
   "outputs": [
    {
     "data": {
      "text/plain": [
       "4998    2014-03-02\n",
       "4999    2014-03-02\n",
       "5000    2014-03-02\n",
       "5001    2014-03-02\n",
       "5002    2014-03-02\n",
       "           ...    \n",
       "16774   2012-10-29\n",
       "16775   2012-10-29\n",
       "16776   2012-10-29\n",
       "16777   2012-10-29\n",
       "16778   2012-10-29\n",
       "Name: dateline, Length: 1603, dtype: datetime64[ns]"
      ]
     },
     "execution_count": 283,
     "metadata": {},
     "output_type": "execute_result"
    }
   ],
   "source": [
    "pd.to_datetime(df[df.source == 'Alqabas'].dateline.apply(alqabas_date))"
   ]
  },
  {
   "cell_type": "code",
   "execution_count": 284,
   "id": "59b30927",
   "metadata": {},
   "outputs": [
    {
     "data": {
      "text/plain": [
       "2142     25/5/2013\n",
       "2143     25/5/2013\n",
       "2144     25/5/2013\n",
       "2145     25/5/2013\n",
       "2146     25/5/2013\n",
       "           ...    \n",
       "16060    15/7/2008\n",
       "16061    15/7/2008\n",
       "16062    16/7/2008\n",
       "16063    16/7/2008\n",
       "16064    16/7/2008\n",
       "Name: dateline, Length: 1071, dtype: object"
      ]
     },
     "execution_count": 284,
     "metadata": {},
     "output_type": "execute_result"
    }
   ],
   "source": [
    "df[df.source == 'Almasryalyoum'].dateline"
   ]
  },
  {
   "cell_type": "code",
   "execution_count": 299,
   "id": "a220d491",
   "metadata": {},
   "outputs": [],
   "source": [
    "def almasryalyoum_date(date_entry):\n",
    "    exp = r'(\\d?\\d)/(\\d?\\d)/(\\d\\d\\d\\d)'\n",
    "    match = re.search(exp, date_entry)\n",
    "    day =  match[1]\n",
    "    month = match[2]\n",
    "    year = match[3]\n",
    "    date = year+ '-' + month + '-' + day\n",
    "    return date"
   ]
  },
  {
   "cell_type": "code",
   "execution_count": 301,
   "id": "2b1913da",
   "metadata": {},
   "outputs": [
    {
     "data": {
      "text/plain": [
       "2142    2013-05-25\n",
       "2143    2013-05-25\n",
       "2144    2013-05-25\n",
       "2145    2013-05-25\n",
       "2146    2013-05-25\n",
       "           ...    \n",
       "16060   2008-07-15\n",
       "16061   2008-07-15\n",
       "16062   2008-07-16\n",
       "16063   2008-07-16\n",
       "16064   2008-07-16\n",
       "Name: dateline, Length: 1071, dtype: datetime64[ns]"
      ]
     },
     "execution_count": 301,
     "metadata": {},
     "output_type": "execute_result"
    }
   ],
   "source": [
    "pd.to_datetime(df[df.source == 'Almasryalyoum'].dateline.apply(almasryalyoum_date))"
   ]
  },
  {
   "cell_type": "code",
   "execution_count": 296,
   "id": "5e9307ae",
   "metadata": {},
   "outputs": [
    {
     "data": {
      "text/plain": [
       "2227    31/5/2013\n",
       "2228    31/5/2013\n",
       "2229    31/5/2013\n",
       "2230    31/5/2013\n",
       "2231     1/6/2013\n",
       "2232     1/6/2013\n",
       "2233     1/6/2013\n",
       "2234     1/6/2013\n",
       "2235     1/6/2013\n",
       "2236     1/6/2013\n",
       "Name: dateline, dtype: object"
      ]
     },
     "execution_count": 296,
     "metadata": {},
     "output_type": "execute_result"
    }
   ],
   "source": [
    "df[df.source == 'Almasryalyoum'].dateline.iloc[85:95]"
   ]
  },
  {
   "cell_type": "code",
   "execution_count": 303,
   "id": "9d64fda1",
   "metadata": {},
   "outputs": [
    {
     "data": {
      "text/plain": [
       "'13/مايو/2014'"
      ]
     },
     "execution_count": 303,
     "metadata": {},
     "output_type": "execute_result"
    }
   ],
   "source": [
    "df[df.source == 'Sabanews'].dateline.iloc[0]"
   ]
  },
  {
   "cell_type": "code",
   "execution_count": 315,
   "id": "22312a7b",
   "metadata": {},
   "outputs": [],
   "source": [
    "def sabanews_date(date_entry):\n",
    "    months_map = {'يناير':'01',\n",
    "            'فبراير':'02',\n",
    "            'مارس':'03',\n",
    "            'أبريل':'04',\n",
    "            'مايو':'05',\n",
    "            'يونيو':'06',\n",
    "            'يوليو':'07',\n",
    "            'أغسطس':'08',\n",
    "            'سبتمبر':'09',\n",
    "            'أكتوبر':'10',\n",
    "            'نوفمبر':'11',\n",
    "            'ديسمبر':'12',\n",
    "            'إبريل':'04',\n",
    "            'ماي':'05',\n",
    "            'يونيه':'06',\n",
    "            'يوليه':'07'}\n",
    "    exp = r'(\\d?\\d)/(.+)/(\\d\\d\\d\\d)'\n",
    "    match = re.search(exp, date_entry)\n",
    "    day =  match[1]\n",
    "    month = match[2].strip()\n",
    "    month = months_map[month]\n",
    "    year = match[3]\n",
    "    date = year+ '-' + month + '-' + day\n",
    "    return date"
   ]
  },
  {
   "cell_type": "code",
   "execution_count": 317,
   "id": "0f088674",
   "metadata": {},
   "outputs": [
    {
     "data": {
      "text/plain": [
       "357    2014-05-13\n",
       "358    2014-05-14\n",
       "359    2014-05-14\n",
       "360    2014-05-14\n",
       "361    2014-05-14\n",
       "          ...    \n",
       "7135   2012-09-11\n",
       "7136   2012-09-11\n",
       "7137   2012-09-11\n",
       "7138   2012-09-11\n",
       "7139   2012-09-12\n",
       "Name: dateline, Length: 443, dtype: datetime64[ns]"
      ]
     },
     "execution_count": 317,
     "metadata": {},
     "output_type": "execute_result"
    }
   ],
   "source": [
    "pd.to_datetime(df[df.source == 'Sabanews'].dateline.apply(sabanews_date))"
   ]
  },
  {
   "cell_type": "code",
   "execution_count": 319,
   "id": "eab2509f",
   "metadata": {},
   "outputs": [
    {
     "data": {
      "text/plain": [
       "14280    2012/12/01\n",
       "14281    2012/12/01\n",
       "14282    2012/12/01\n",
       "14283    2012/12/01\n",
       "14284    2012/12/01\n",
       "            ...    \n",
       "14632    2013/01/10\n",
       "14633    2013/01/10\n",
       "14634    2013/01/10\n",
       "14635    2013/01/10\n",
       "14636    2013/01/10\n",
       "Name: dateline, Length: 357, dtype: object"
      ]
     },
     "execution_count": 319,
     "metadata": {},
     "output_type": "execute_result"
    }
   ],
   "source": [
    "df[df.source == 'Echoroukonline'].dateline"
   ]
  },
  {
   "cell_type": "code",
   "execution_count": 335,
   "id": "62d86374",
   "metadata": {},
   "outputs": [],
   "source": [
    "def echoroukonline_date(date_entry):\n",
    "    exp = r'(\\d\\d\\d\\d)/(\\d?\\d)/(\\d?\\d)'\n",
    "    match = re.search(exp, date_entry)\n",
    "    day =  match[3]\n",
    "    month = match[2]\n",
    "    year = match[1]\n",
    "    date = year+ '-' + month + '-' + day\n",
    "    return date"
   ]
  },
  {
   "cell_type": "code",
   "execution_count": 337,
   "id": "e0b81af9",
   "metadata": {},
   "outputs": [
    {
     "data": {
      "text/plain": [
       "14280   2012-12-01\n",
       "14281   2012-12-01\n",
       "14282   2012-12-01\n",
       "14283   2012-12-01\n",
       "14284   2012-12-01\n",
       "           ...    \n",
       "14632   2013-01-10\n",
       "14633   2013-01-10\n",
       "14634   2013-01-10\n",
       "14635   2013-01-10\n",
       "14636   2013-01-10\n",
       "Name: dateline, Length: 319, dtype: datetime64[ns]"
      ]
     },
     "execution_count": 337,
     "metadata": {},
     "output_type": "execute_result"
    }
   ],
   "source": [
    "pd.to_datetime(df[df.source == 'Echoroukonline'].dropna().dateline.apply(echoroukonline_date))"
   ]
  },
  {
   "cell_type": "code",
   "execution_count": 333,
   "id": "737610cb",
   "metadata": {},
   "outputs": [
    {
     "name": "stdout",
     "output_type": "stream",
     "text": [
      "<class 'pandas.core.series.Series'>\n",
      "Int64Index: 319 entries, 14280 to 14636\n",
      "Series name: dateline\n",
      "Non-Null Count  Dtype \n",
      "--------------  ----- \n",
      "319 non-null    object\n",
      "dtypes: object(1)\n",
      "memory usage: 5.0+ KB\n"
     ]
    }
   ],
   "source": []
  },
  {
   "cell_type": "code",
   "execution_count": 347,
   "id": "8b1eb2c0",
   "metadata": {},
   "outputs": [
    {
     "ename": "SyntaxError",
     "evalue": "invalid syntax (509476467.py, line 8)",
     "output_type": "error",
     "traceback": [
      "\u001b[0;36m  File \u001b[0;32m\"/var/folders/r6/g880v64s6vj401drwcc37nf00000gn/T/ipykernel_32633/509476467.py\"\u001b[0;36m, line \u001b[0;32m8\u001b[0m\n\u001b[0;31m    date_list.append(saudiyoum_date(df.iloc.[i]['dateline']))\u001b[0m\n\u001b[0m                                            ^\u001b[0m\n\u001b[0;31mSyntaxError\u001b[0m\u001b[0;31m:\u001b[0m invalid syntax\n"
     ]
    }
   ],
   "source": [
    "def main(dataframe, months_map):\n",
    "    df = dataframe\n",
    "    m_maps = months_map\n",
    "    date_list = []\n",
    "\n",
    "    for i in range(len(df)):\n",
    "        if df.iloc[i].source == 'SaudiYoum':\n",
    "            date_list.append(saudiyoum_date(df.iloc.[i]['dateline']))\n",
    "            \n",
    "        elif df.iloc[i].source == 'Techreen':\n",
    "            date_list.append(techreen_date(df.iloc.[i]['dateline']))\n",
    "            \n",
    "        elif df.iloc[i].source == 'Youm7':\n",
    "            date_list.append(youm7_date(df.iloc.[i]['dateline'], m_maps))\n",
    "            \n",
    "        elif df.iloc[i].source == 'Alittihad':\n",
    "            date_list.append(alittihad_date(df.iloc.[i]['dateline'], m_maps))\n",
    "            \n",
    "        elif df.iloc[i].source == 'Almustaqbal':\n",
    "            date_list.append(almustaqbal_date(df.iloc.[i]['dateline']))\n",
    "            \n",
    "        elif df.iloc[i].source == 'Ryiadh':\n",
    "            date_list.append(ryiadh_date(df.iloc.[i]['dateline'], m_maps))\n",
    "            \n",
    "        elif df.iloc[i].source == 'Alqabas':\n",
    "            date_list.append(alqabas_date(df.iloc.[i]['dateline']))\n",
    "            \n",
    "        elif df.iloc[i].source == 'Almasryalyoum':\n",
    "            date_list.append(almasryalyoum_date(df.iloc.[i]['dateline']))\n",
    "            \n",
    "        elif df.iloc[i].source == 'Sabanews':\n",
    "            date_list.append(sabanews_date(df.iloc.[i]['dateline'], m_maps))\n",
    "            \n",
    "        elif df.iloc[i].source == 'Echoroukonline':\n",
    "            date_list.append(echoroukonline_date(df.iloc.[i]['dateline']))\n",
    "        \n",
    "        \n",
    "    return df"
   ]
  },
  {
   "cell_type": "code",
   "execution_count": 344,
   "id": "20da7016",
   "metadata": {},
   "outputs": [
    {
     "data": {
      "text/plain": [
       "SaudiYoum         3127\n",
       "Techreen          2142\n",
       "Youm7             2142\n",
       "Alittihad         2142\n",
       "Almustaqbal       1967\n",
       "Ryiadh            1785\n",
       "Alqabas           1603\n",
       "Almasryalyoum     1071\n",
       "Sabanews           443\n",
       "Echoroukonline     357\n",
       "Name: source, dtype: int64"
      ]
     },
     "execution_count": 344,
     "metadata": {},
     "output_type": "execute_result"
    }
   ],
   "source": [
    "df.source.value_counts()"
   ]
  },
  {
   "cell_type": "code",
   "execution_count": 345,
   "id": "08a8fcea",
   "metadata": {},
   "outputs": [
    {
     "ename": "SyntaxError",
     "evalue": "invalid syntax (date_fixer.py, line 149)",
     "output_type": "error",
     "traceback": [
      "Traceback \u001b[0;36m(most recent call last)\u001b[0m:\n",
      "  File \u001b[1;32m\"/opt/homebrew/anaconda3/lib/python3.9/site-packages/IPython/core/interactiveshell.py\"\u001b[0m, line \u001b[1;32m3444\u001b[0m, in \u001b[1;35mrun_code\u001b[0m\n    exec(code_obj, self.user_global_ns, self.user_ns)\n",
      "\u001b[0;36m  File \u001b[0;32m\"/var/folders/r6/g880v64s6vj401drwcc37nf00000gn/T/ipykernel_32633/583248626.py\"\u001b[0;36m, line \u001b[0;32m1\u001b[0;36m, in \u001b[0;35m<module>\u001b[0;36m\u001b[0m\n\u001b[0;31m    import date_fixer\u001b[0m\n",
      "\u001b[0;36m  File \u001b[0;32m\"/Users/amanda22/codeup-data-science/arabic_media_nlp_project/andrews_work/date_fixer.py\"\u001b[0;36m, line \u001b[0;32m149\u001b[0m\n\u001b[0;31m    df.iloc.[i]['dateline'] = saudiyoum_date(df.iloc.[i]['dateline'])\u001b[0m\n\u001b[0m            ^\u001b[0m\n\u001b[0;31mSyntaxError\u001b[0m\u001b[0;31m:\u001b[0m invalid syntax\n"
     ]
    }
   ],
   "source": [
    "import date_fixer"
   ]
  },
  {
   "cell_type": "code",
   "execution_count": null,
   "id": "e5879612",
   "metadata": {},
   "outputs": [],
   "source": []
  }
 ],
 "metadata": {
  "kernelspec": {
   "display_name": "Python 3 (ipykernel)",
   "language": "python",
   "name": "python3"
  },
  "language_info": {
   "codemirror_mode": {
    "name": "ipython",
    "version": 3
   },
   "file_extension": ".py",
   "mimetype": "text/x-python",
   "name": "python",
   "nbconvert_exporter": "python",
   "pygments_lexer": "ipython3",
   "version": "3.9.7"
  }
 },
 "nbformat": 4,
 "nbformat_minor": 5
}
