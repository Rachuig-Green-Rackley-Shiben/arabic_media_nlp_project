{
 "cells": [
  {
   "cell_type": "code",
   "execution_count": null,
   "id": "11c0611c",
   "metadata": {},
   "outputs": [],
   "source": [
    "import pandas as pd"
   ]
  },
  {
   "cell_type": "code",
   "execution_count": null,
   "id": "bc74be96",
   "metadata": {},
   "outputs": [],
   "source": [
    "df = pd.read_csv('block_2.csv')"
   ]
  },
  {
   "cell_type": "code",
   "execution_count": null,
   "id": "20bf525d",
   "metadata": {
    "scrolled": true
   },
   "outputs": [],
   "source": [
    "\n",
    "df"
   ]
  },
  {
   "cell_type": "code",
   "execution_count": null,
   "id": "05320827",
   "metadata": {},
   "outputs": [],
   "source": [
    "df.text[4][round(len(df.text[4])/2):]"
   ]
  },
  {
   "cell_type": "code",
   "execution_count": null,
   "id": "35229fc9",
   "metadata": {},
   "outputs": [],
   "source": [
    "len(df.text[4])"
   ]
  },
  {
   "cell_type": "code",
   "execution_count": null,
   "id": "6a6698ee",
   "metadata": {
    "scrolled": true
   },
   "outputs": [],
   "source": [
    "df_text[:round(len(df.text[4])/2)]"
   ]
  },
  {
   "cell_type": "code",
   "execution_count": null,
   "id": "89dc48d5",
   "metadata": {},
   "outputs": [],
   "source": [
    "first_half = msa(df_text[:round(len(df.text[4])/2)]) \n",
    "second_half = msa(df_text[round(len(df.text[4])/2):])\n",
    "if first_half[0]['label'] == second_half[0]['label']:\n",
    "    label = first_half[0]['label']\n",
    "    score = (test_1[0]['score'] + test_2[0]['score'])/2\n",
    "done = [{'label': label, 'score': score}]"
   ]
  },
  {
   "cell_type": "code",
   "execution_count": null,
   "id": "70971119",
   "metadata": {},
   "outputs": [],
   "source": [
    "beginning = msa(df_text[:round(len(df.text[4])/3)]) \n",
    "middle = msa(df_text[round(len(df.text[4])/3):round(len(df.text[4])2/3)])\n",
    "end = msa(df_text[round(len(df.text[4])2/3):])\n",
    "\n",
    "if (beginning[0]['label'] == middle[0]['label']) and (beginning[0]['label'] == end[0]['label']):\n",
    "    label = first_half[0]['label']\n",
    "    score = (beginning[0]['score'] + middle[0]['score'] + end[0]['score'])/3\n",
    "    done = [{'label': label, 'score': score}]\n",
    "    return done"
   ]
  },
  {
   "cell_type": "code",
   "execution_count": null,
   "id": "8bc73f4b",
   "metadata": {},
   "outputs": [],
   "source": [
    "df.text.iloc[1]"
   ]
  },
  {
   "cell_type": "code",
   "execution_count": null,
   "id": "47cf22d9",
   "metadata": {},
   "outputs": [],
   "source": [
    "df = pd.read_csv('block_2.csv')"
   ]
  },
  {
   "cell_type": "code",
   "execution_count": null,
   "id": "d3022814",
   "metadata": {},
   "outputs": [],
   "source": [
    "df.dropna().info()"
   ]
  },
  {
   "cell_type": "code",
   "execution_count": null,
   "id": "1e337baa",
   "metadata": {},
   "outputs": [],
   "source": [
    "df.info()"
   ]
  },
  {
   "cell_type": "code",
   "execution_count": null,
   "id": "9ec05780",
   "metadata": {},
   "outputs": [],
   "source": [
    "import pyautogui\n",
    "\n",
    "\n",
    "def main():\n",
    "    pyautogui.PAUSE = 45\n",
    "    pyautogui.FAILSAFE = True\n",
    "    while True:\n",
    "        pyautogui.moveTo(100, 200, 2)\n",
    "        pyautogui.moveTo(200,100, 2)\n",
    "\n",
    "main()"
   ]
  },
  {
   "cell_type": "code",
   "execution_count": null,
   "id": "4f96bb79",
   "metadata": {},
   "outputs": [],
   "source": [
    "import pandas as pd\n",
    "from googletrans import Translator\n",
    "from camel_tools.sentiment import SentimentAnalyzer\n",
    "from transformers import pipeline"
   ]
  },
  {
   "cell_type": "code",
   "execution_count": null,
   "id": "fadfc40a",
   "metadata": {},
   "outputs": [],
   "source": [
    "df = pd.read_csv('block_2.csv')"
   ]
  },
  {
   "cell_type": "code",
   "execution_count": null,
   "id": "95087560",
   "metadata": {},
   "outputs": [],
   "source": [
    "df.info()"
   ]
  },
  {
   "cell_type": "code",
   "execution_count": null,
   "id": "db606191",
   "metadata": {
    "scrolled": false
   },
   "outputs": [],
   "source": [
    "df[df.text.str.len() < 5000]"
   ]
  },
  {
   "cell_type": "code",
   "execution_count": null,
   "id": "5eff2bcc",
   "metadata": {
    "scrolled": true
   },
   "outputs": [],
   "source": [
    "df.iloc[45300: 45350].to_csv('sample.csv')"
   ]
  },
  {
   "cell_type": "code",
   "execution_count": null,
   "id": "7c070409",
   "metadata": {},
   "outputs": [],
   "source": [
    "df.head(170).to_csv('sample.csv')"
   ]
  },
  {
   "cell_type": "code",
   "execution_count": null,
   "id": "131850d6",
   "metadata": {},
   "outputs": [],
   "source": [
    "import pandas as pd\n",
    "from googletrans import Translator\n",
    "from camel_tools.sentiment import SentimentAnalyzer\n",
    "from transformers import pipeline\n",
    "\n",
    "\"\"\" \n",
    "Change name to which file you're doing sentiment analysis on, NOT including the '.csv' \n",
    "Output file will be 'labeled_<filename>.csv'\n",
    "\"\"\"\n",
    "\n",
    "msa = pipeline('text-classification', model=\"CAMeL-Lab/bert-base-arabic-camelbert-msa-sentiment\")\n",
    "name = 'sample'\n",
    "\n",
    "\n",
    "def load_and_label_df(name):\n",
    "    df = load_csv('/Users/amanda22/codeup-data-science/arabic_media_nlp_project/andrews_work/'+name+'.csv')\n",
    "    print(f'loaded {name}.csv')\n",
    "    print('labeling/scoring...')\n",
    "    df = create_labels_scores(df, name)\n",
    "    print('done labeling/scoring!')\n",
    "    return df\n",
    "\n",
    "def load_csv(filename):\n",
    "    df = pd.read_csv(filename)\n",
    "    df['text_label'] = 'invalid'\n",
    "    df['text_score'] = 'invalid'\n",
    "    df['headline_label'] = 'invalid'\n",
    "    df['headline_score'] = 'invalid'\n",
    "    return df\n",
    "\n",
    "def make_msa(df_text):\n",
    "    try:\n",
    "        done = msa(df_text)\n",
    "        return done\n",
    "    except:\n",
    "        \n",
    "        try:\n",
    "            first_half = msa(df_text[:round(len(df_text)/2)]) \n",
    "            second_half = msa(df_text[round(len(df_text)/2):])\n",
    "            if first_half[0]['label'] == second_half[0]['label']:\n",
    "                label = first_half[0]['label']\n",
    "                score = (first_half[0]['score'] + second_half[0]['score'])/2\n",
    "            done = [{'label': label, 'score': score}]\n",
    "            return done\n",
    "        except:\n",
    "            return [{'label': 'unlabeled', 'score': 'unscored'}]\n",
    "        \n",
    "def analyze_text(df):\n",
    "    scores = []\n",
    "    scores = df.text.apply(make_msa)\n",
    "    return scores\n",
    "\n",
    "def analyze_headline(df):\n",
    "    headline_scores = []\n",
    "    scores = df.headline.apply(make_msa)\n",
    "    return scores\n",
    "\n",
    "def label_and_scores(msa_scores):\n",
    "    labels = []\n",
    "    scores = []\n",
    "    for val in msa_scores:\n",
    "        try:\n",
    "            labels.append(val[0]['label'])\n",
    "            scores.append(val[0]['score'])\n",
    "        except:\n",
    "            labels.append(False)\n",
    "            scores.append(False)\n",
    "\n",
    "    return labels, scores\n",
    "\n",
    "def create_labels_scores(df, name):\n",
    "    text_scores = analyze_text(df)\n",
    "    labels, scores = label_and_scores(text_scores)\n",
    "    df['text_label'] = labels\n",
    "    df['text_score'] = scores\n",
    "\n",
    "    headline_scores = analyze_headline(df)\n",
    "    labels, scores = label_and_scores(headline_scores)\n",
    "    df['headline_label'] = labels\n",
    "    df['headline_score'] = scores\n",
    "\n",
    "    # CHANGE 'BLOCK_NAME' TO WHATEVER YOU WANT\n",
    "    df.to_csv('labeled_'+ name + '.csv', index=False)\n",
    "\n",
    "    return df\n",
    "\n",
    "load_and_label_df('sample')"
   ]
  },
  {
   "cell_type": "code",
   "execution_count": null,
   "id": "e0857db5",
   "metadata": {},
   "outputs": [],
   "source": [
    "load_and_label_df('sample')"
   ]
  },
  {
   "cell_type": "code",
   "execution_count": null,
   "id": "b4bbcf2e",
   "metadata": {},
   "outputs": [],
   "source": [
    "import pandas as pd"
   ]
  },
  {
   "cell_type": "code",
   "execution_count": null,
   "id": "9fc57126",
   "metadata": {},
   "outputs": [],
   "source": [
    "df = pd.read_csv('block_2.csv')"
   ]
  },
  {
   "cell_type": "code",
   "execution_count": null,
   "id": "8e9f411f",
   "metadata": {},
   "outputs": [],
   "source": [
    "df"
   ]
  },
  {
   "cell_type": "code",
   "execution_count": null,
   "id": "abe107e3",
   "metadata": {},
   "outputs": [],
   "source": [
    "range_list = [0, 10000, 20000, 30000, 40000, 50000, 60000, 70000, 80000, 90000, 100000, 110000, 119254]\n",
    "\n",
    "for i in range(12):\n",
    "    first = int(range_list[i])\n",
    "    second = int(range_list[i+1])\n",
    "    print(first, second)\n",
    "    df.iloc[first:second].to_csv('block_2_'+str(i)+'.csv')\n",
    "    "
   ]
  },
  {
   "cell_type": "code",
   "execution_count": null,
   "id": "216c6414",
   "metadata": {},
   "outputs": [],
   "source": [
    "import pandas as pd"
   ]
  },
  {
   "cell_type": "code",
   "execution_count": null,
   "id": "724f968c",
   "metadata": {},
   "outputs": [],
   "source": [
    "df = pd.read_csv('labeled_block_2_0.csv')\n"
   ]
  },
  {
   "cell_type": "code",
   "execution_count": null,
   "id": "c4699819",
   "metadata": {},
   "outputs": [],
   "source": [
    "df.text_label.value_counts()"
   ]
  },
  {
   "cell_type": "code",
   "execution_count": null,
   "id": "0223d639",
   "metadata": {},
   "outputs": [],
   "source": [
    "df.source.value_counts()"
   ]
  },
  {
   "cell_type": "code",
   "execution_count": 8,
   "id": "2b1bcd3b",
   "metadata": {},
   "outputs": [],
   "source": [
    "import pandas as pd\n",
    "import date_fixer\n"
   ]
  },
  {
   "cell_type": "code",
   "execution_count": 9,
   "id": "6b97b4b5",
   "metadata": {},
   "outputs": [],
   "source": [
    "df = pd.read_csv('daily8_2.csv')"
   ]
  },
  {
   "cell_type": "code",
   "execution_count": null,
   "id": "96918d48",
   "metadata": {},
   "outputs": [],
   "source": [
    "df.source.value_counts()"
   ]
  },
  {
   "cell_type": "code",
   "execution_count": null,
   "id": "0c045646",
   "metadata": {},
   "outputs": [],
   "source": [
    "new = date_fixer.make_datetime(df)"
   ]
  },
  {
   "cell_type": "code",
   "execution_count": null,
   "id": "8db7b165",
   "metadata": {},
   "outputs": [],
   "source": [
    "new.info()"
   ]
  },
  {
   "cell_type": "code",
   "execution_count": null,
   "id": "082e0b70",
   "metadata": {},
   "outputs": [],
   "source": [
    "sns.catplot(data = subset, x = 'dateline', y = 'text_label')"
   ]
  },
  {
   "cell_type": "code",
   "execution_count": null,
   "id": "f47c5834",
   "metadata": {},
   "outputs": [],
   "source": [
    "subset = df[df.text_label != 'False']"
   ]
  },
  {
   "cell_type": "code",
   "execution_count": null,
   "id": "e3be82ea",
   "metadata": {},
   "outputs": [],
   "source": [
    "subset.text_label.value_counts()"
   ]
  },
  {
   "cell_type": "code",
   "execution_count": null,
   "id": "7af59a78",
   "metadata": {},
   "outputs": [],
   "source": [
    "df.source.value_counts()"
   ]
  },
  {
   "cell_type": "code",
   "execution_count": 6,
   "id": "08f1412f",
   "metadata": {},
   "outputs": [],
   "source": [
    "from camel_tools.utils.normalize import normalize_unicode\n",
    "from camel_tools.utils.normalize import normalize_alef_maksura_ar\n",
    "from camel_tools.utils.normalize import normalize_alef_ar\n",
    "from camel_tools.utils.normalize import normalize_teh_marbuta_ar\n",
    "from camel_tools.utils.dediac import dediac_ar\n",
    "from camel_tools.tokenizers.word import simple_word_tokenize\n",
    "from camel_tools.disambig.mle import MLEDisambiguator\n",
    "from camel_tools.tokenizers.morphological import MorphologicalTokenizer\n",
    "import re"
   ]
  },
  {
   "cell_type": "code",
   "execution_count": null,
   "id": "2598fc19",
   "metadata": {},
   "outputs": [],
   "source": [
    "# mle = MLEDisambiguator.pretrained('calima-msa-r13')\n",
    "# tokenizer = MorphologicalTokenizer(mle, scheme='d3tok')\n",
    "# tokens = tokenizer.tokenize(sentence)\n",
    "text = normalize_unicode(df.text[7])\n",
    "text = re.sub(r\"[+,*:;.|!()${}/«»\\-\\'\\\"،؟]|\\n\", '', text)\n",
    "text = re.sub(r\"[0-9]\", '', text)\n",
    "text = normalize_alef_ar(text)\n",
    "text = normalize_alef_maksura_ar(text)\n",
    "text = normalize_teh_marbuta_ar(text)\n",
    "text = dediac_ar(text)\n",
    "text = simple_word_tokenize(text)\n",
    "\n",
    "text"
   ]
  },
  {
   "cell_type": "code",
   "execution_count": 4,
   "id": "8d3303b5",
   "metadata": {},
   "outputs": [],
   "source": [
    "def clean_text(df):\n",
    "    cleaned_list = []\n",
    "    for i in range(len(df)):\n",
    "        text = df.text[i]\n",
    "        text = normalize_unicode(text)\n",
    "        text = re.sub(r\"[+,*:;.|!()${}/«»\\-\\'\\\"،؟]|\\n\", '', text)\n",
    "        text = re.sub(r\"[0-9]\", '', text)\n",
    "        text = normalize_alef_ar(text)\n",
    "        text = normalize_alef_maksura_ar(text)\n",
    "        text = normalize_teh_marbuta_ar(text)\n",
    "        text = dediac_ar(text)\n",
    "        text = simple_word_tokenize(text)\n",
    "        cleaned_list.append(text)\n",
    "        print(i)\n",
    "    df['cleaned_text'] = cleaned_list\n",
    "    return df"
   ]
  },
  {
   "cell_type": "code",
   "execution_count": null,
   "id": "8bfbbcdc",
   "metadata": {
    "scrolled": true
   },
   "outputs": [],
   "source": [
    "df = clean_text(df)"
   ]
  },
  {
   "cell_type": "code",
   "execution_count": 11,
   "id": "e13f8d6a",
   "metadata": {},
   "outputs": [],
   "source": [
    "import pandas as pd"
   ]
  },
  {
   "cell_type": "code",
   "execution_count": 2,
   "id": "ecf995bf",
   "metadata": {},
   "outputs": [
    {
     "name": "stderr",
     "output_type": "stream",
     "text": [
      "distributed.diskutils - INFO - Found stale lock file and directory '/Users/amanda22/codeup-data-science/arabic_media_nlp_project/andrews_work/dask-worker-space/worker-anzfbi0h', purging\n",
      "distributed.diskutils - INFO - Found stale lock file and directory '/Users/amanda22/codeup-data-science/arabic_media_nlp_project/andrews_work/dask-worker-space/worker-y4nyf906', purging\n",
      "distributed.diskutils - INFO - Found stale lock file and directory '/Users/amanda22/codeup-data-science/arabic_media_nlp_project/andrews_work/dask-worker-space/worker-g77lu5fv', purging\n",
      "distributed.diskutils - INFO - Found stale lock file and directory '/Users/amanda22/codeup-data-science/arabic_media_nlp_project/andrews_work/dask-worker-space/worker-kf6juy1v', purging\n",
      "2022-08-02 10:53:37,069\tINFO services.py:1456 -- View the Ray dashboard at \u001b[1m\u001b[32mhttp://127.0.0.1:8265\u001b[39m\u001b[22m\n"
     ]
    },
    {
     "data": {
      "text/plain": [
       "RayContext(dashboard_url='127.0.0.1:8265', python_version='3.9.7', ray_version='1.12.1', ray_commit='4863e33856b54ccf8add5cbe75e41558850a1b75', address_info={'node_ip_address': '127.0.0.1', 'raylet_ip_address': '127.0.0.1', 'redis_address': None, 'object_store_address': '/tmp/ray/session_2022-08-02_10-53-34_947493_39398/sockets/plasma_store', 'raylet_socket_name': '/tmp/ray/session_2022-08-02_10-53-34_947493_39398/sockets/raylet', 'webui_url': '127.0.0.1:8265', 'session_dir': '/tmp/ray/session_2022-08-02_10-53-34_947493_39398', 'metrics_export_port': 58736, 'gcs_address': '127.0.0.1:62657', 'address': '127.0.0.1:62657', 'node_id': '08cf191b9a30cafd32b74a0de45008f81acc62d61b7f82ab16633dab'})"
      ]
     },
     "execution_count": 2,
     "metadata": {},
     "output_type": "execute_result"
    }
   ],
   "source": [
    "from distributed import Client\n",
    "\n",
    "client = Client()\n",
    "import ray\n",
    "ray.init()"
   ]
  },
  {
   "cell_type": "code",
   "execution_count": 12,
   "id": "181255ed",
   "metadata": {},
   "outputs": [],
   "source": [
    "df = pd.read_csv('corpus_based_stopwords.csv')"
   ]
  },
  {
   "cell_type": "code",
   "execution_count": 13,
   "id": "9850f63b",
   "metadata": {},
   "outputs": [
    {
     "data": {
      "text/html": [
       "<div>\n",
       "<style scoped>\n",
       "    .dataframe tbody tr th:only-of-type {\n",
       "        vertical-align: middle;\n",
       "    }\n",
       "\n",
       "    .dataframe tbody tr th {\n",
       "        vertical-align: top;\n",
       "    }\n",
       "\n",
       "    .dataframe thead th {\n",
       "        text-align: right;\n",
       "    }\n",
       "</style>\n",
       "<table border=\"1\" class=\"dataframe\">\n",
       "  <thead>\n",
       "    <tr style=\"text-align: right;\">\n",
       "      <th></th>\n",
       "      <th>stopwords</th>\n",
       "    </tr>\n",
       "  </thead>\n",
       "  <tbody>\n",
       "    <tr>\n",
       "      <th>0</th>\n",
       "      <td>ابر</td>\n",
       "    </tr>\n",
       "    <tr>\n",
       "      <th>1</th>\n",
       "      <td>ابو</td>\n",
       "    </tr>\n",
       "    <tr>\n",
       "      <th>2</th>\n",
       "      <td>اجتماع</td>\n",
       "    </tr>\n",
       "    <tr>\n",
       "      <th>3</th>\n",
       "      <td>اجل</td>\n",
       "    </tr>\n",
       "    <tr>\n",
       "      <th>4</th>\n",
       "      <td>احد</td>\n",
       "    </tr>\n",
       "    <tr>\n",
       "      <th>...</th>\n",
       "      <td>...</td>\n",
       "    </tr>\n",
       "    <tr>\n",
       "      <th>230</th>\n",
       "      <td>يمكن</td>\n",
       "    </tr>\n",
       "    <tr>\n",
       "      <th>231</th>\n",
       "      <td>ينا</td>\n",
       "    </tr>\n",
       "    <tr>\n",
       "      <th>232</th>\n",
       "      <td>يول</td>\n",
       "    </tr>\n",
       "    <tr>\n",
       "      <th>233</th>\n",
       "      <td>يون</td>\n",
       "    </tr>\n",
       "    <tr>\n",
       "      <th>234</th>\n",
       "      <td>يونيو</td>\n",
       "    </tr>\n",
       "  </tbody>\n",
       "</table>\n",
       "<p>235 rows × 1 columns</p>\n",
       "</div>"
      ],
      "text/plain": [
       "    stopwords\n",
       "0         ابر\n",
       "1         ابو\n",
       "2      اجتماع\n",
       "3         اجل\n",
       "4         احد\n",
       "..        ...\n",
       "230      يمكن\n",
       "231       ينا\n",
       "232       يول\n",
       "233       يون\n",
       "234     يونيو\n",
       "\n",
       "[235 rows x 1 columns]"
      ]
     },
     "execution_count": 13,
     "metadata": {},
     "output_type": "execute_result"
    }
   ],
   "source": [
    "df"
   ]
  },
  {
   "cell_type": "markdown",
   "id": "a09b73ca",
   "metadata": {},
   "source": [
    "df"
   ]
  },
  {
   "cell_type": "code",
   "execution_count": 10,
   "id": "54c86121",
   "metadata": {},
   "outputs": [
    {
     "data": {
      "text/html": [
       "<div>\n",
       "<style scoped>\n",
       "    .dataframe tbody tr th:only-of-type {\n",
       "        vertical-align: middle;\n",
       "    }\n",
       "\n",
       "    .dataframe tbody tr th {\n",
       "        vertical-align: top;\n",
       "    }\n",
       "\n",
       "    .dataframe thead th {\n",
       "        text-align: right;\n",
       "    }\n",
       "</style>\n",
       "<table border=\"1\" class=\"dataframe\">\n",
       "  <thead>\n",
       "    <tr style=\"text-align: right;\">\n",
       "      <th></th>\n",
       "      <th>index</th>\n",
       "      <th>Unnamed: 0</th>\n",
       "      <th>id</th>\n",
       "      <th>url</th>\n",
       "      <th>headline</th>\n",
       "      <th>dateline</th>\n",
       "      <th>text</th>\n",
       "      <th>tags</th>\n",
       "      <th>source</th>\n",
       "      <th>text_label</th>\n",
       "      <th>text_score</th>\n",
       "      <th>headline_label</th>\n",
       "      <th>headline_score</th>\n",
       "    </tr>\n",
       "  </thead>\n",
       "  <tbody>\n",
       "    <tr>\n",
       "      <th>0</th>\n",
       "      <td>0</td>\n",
       "      <td>274890</td>\n",
       "      <td>TRN_ARB_0297955</td>\n",
       "      <td>http://tishreen.news.sy/tishreen/public/read/2...</td>\n",
       "      <td>وزير الخارجية الصيني: سنقوم بدور بنّاء وإيجابي...</td>\n",
       "      <td>20/09/2013</td>\n",
       "      <td>\\n20/09/2013\\nوزير الخارجية الصيني: سنقوم بدور...</td>\n",
       "      <td>['واشنطن']</td>\n",
       "      <td>Techreen</td>\n",
       "      <td>neutral</td>\n",
       "      <td>0.9574713706970215</td>\n",
       "      <td>neutral</td>\n",
       "      <td>0.538953</td>\n",
       "    </tr>\n",
       "    <tr>\n",
       "      <th>1</th>\n",
       "      <td>1</td>\n",
       "      <td>274891</td>\n",
       "      <td>TRN_ARB_0297957</td>\n",
       "      <td>http://tishreen.news.sy/tishreen/public/read/2...</td>\n",
       "      <td>قواتنا الباسلة تضيّق الخناق على إرهابيي «القاع...</td>\n",
       "      <td>20/09/2013</td>\n",
       "      <td>\\n20/09/2013\\nضبط مستودع أسلحة للإرهابيين في د...</td>\n",
       "      <td>['القاعدة']</td>\n",
       "      <td>Techreen</td>\n",
       "      <td>False</td>\n",
       "      <td>False</td>\n",
       "      <td>positive</td>\n",
       "      <td>0.899801</td>\n",
       "    </tr>\n",
       "    <tr>\n",
       "      <th>2</th>\n",
       "      <td>2</td>\n",
       "      <td>274892</td>\n",
       "      <td>TRN_ARB_0297958</td>\n",
       "      <td>http://tishreen.news.sy/tishreen/public/read/2...</td>\n",
       "      <td>وزير الخارجية الإيراني: انضمام سورية لمعاهدة ح...</td>\n",
       "      <td>20/09/2013</td>\n",
       "      <td>\\n20/09/2013\\nوزير الخارجية الإيراني: انضمام س...</td>\n",
       "      <td>['واشنطن']</td>\n",
       "      <td>Techreen</td>\n",
       "      <td>neutral</td>\n",
       "      <td>0.5859406590461731</td>\n",
       "      <td>neutral</td>\n",
       "      <td>0.774108</td>\n",
       "    </tr>\n",
       "    <tr>\n",
       "      <th>3</th>\n",
       "      <td>3</td>\n",
       "      <td>274893</td>\n",
       "      <td>TRN_ARB_0297960</td>\n",
       "      <td>http://tishreen.news.sy/tishreen/public/read/2...</td>\n",
       "      <td>استمرار أمريكا وحلفائها بدعم وتسليح الإرهابيين...</td>\n",
       "      <td>20/09/2013</td>\n",
       "      <td>\\n20/09/2013\\n«الخارجية» في رسالتين إلى رئيس م...</td>\n",
       "      <td>['أمريكا', 'القاعدة']</td>\n",
       "      <td>Techreen</td>\n",
       "      <td>negative</td>\n",
       "      <td>0.9461716612180074</td>\n",
       "      <td>negative</td>\n",
       "      <td>0.957832</td>\n",
       "    </tr>\n",
       "    <tr>\n",
       "      <th>4</th>\n",
       "      <td>4</td>\n",
       "      <td>274894</td>\n",
       "      <td>TRN_ARB_0297984</td>\n",
       "      <td>http://tishreen.news.sy/tishreen/public/read/2...</td>\n",
       "      <td>المفاوض الفلسطيني.. والسباحة من جديد في بحر ال...</td>\n",
       "      <td>22/09/2013</td>\n",
       "      <td>\\n22/09/2013\\nالمفاوض الفلسطيني.. والسباحة من ...</td>\n",
       "      <td>['واشنطن']</td>\n",
       "      <td>Techreen</td>\n",
       "      <td>negative</td>\n",
       "      <td>0.9543005029360453</td>\n",
       "      <td>negative</td>\n",
       "      <td>0.954988</td>\n",
       "    </tr>\n",
       "    <tr>\n",
       "      <th>...</th>\n",
       "      <td>...</td>\n",
       "      <td>...</td>\n",
       "      <td>...</td>\n",
       "      <td>...</td>\n",
       "      <td>...</td>\n",
       "      <td>...</td>\n",
       "      <td>...</td>\n",
       "      <td>...</td>\n",
       "      <td>...</td>\n",
       "      <td>...</td>\n",
       "      <td>...</td>\n",
       "      <td>...</td>\n",
       "      <td>...</td>\n",
       "    </tr>\n",
       "    <tr>\n",
       "      <th>23557</th>\n",
       "      <td>352</td>\n",
       "      <td>121732</td>\n",
       "      <td>QBS_ARB_0250040</td>\n",
       "      <td>http://www.alqabas.com.kw/print/263738</td>\n",
       "      <td>بوتفليقة يبحث مع كلينتون تعزيز الشراكة الاقتصا...</td>\n",
       "      <td>تم النشر في 2012/10/29</td>\n",
       "      <td>(كونا) -- بحث الرئيس الجزائري عبدالعزيز بوتفلي...</td>\n",
       "      <td>['أمريكا', 'واشنطن', 'كلينتون']</td>\n",
       "      <td>Alqabas</td>\n",
       "      <td>neutral</td>\n",
       "      <td>0.990750253200531</td>\n",
       "      <td>neutral</td>\n",
       "      <td>0.994249</td>\n",
       "    </tr>\n",
       "    <tr>\n",
       "      <th>23558</th>\n",
       "      <td>353</td>\n",
       "      <td>121733</td>\n",
       "      <td>QBS_ARB_0250057</td>\n",
       "      <td>http://www.alqabas.com.kw/print/263755</td>\n",
       "      <td>الصراع في سوريا يشحذ عزيمة الجهاديين الأردنيين</td>\n",
       "      <td>تم النشر في 2012/10/29</td>\n",
       "      <td>عمان- سليمان الخالدي (رويترز)- يسلط إعلان الأر...</td>\n",
       "      <td>['القاعدة']</td>\n",
       "      <td>Alqabas</td>\n",
       "      <td>False</td>\n",
       "      <td>False</td>\n",
       "      <td>positive</td>\n",
       "      <td>0.820226</td>\n",
       "    </tr>\n",
       "    <tr>\n",
       "      <th>23559</th>\n",
       "      <td>354</td>\n",
       "      <td>121734</td>\n",
       "      <td>QBS_ARB_0250059</td>\n",
       "      <td>http://www.alqabas.com.kw/print/263757</td>\n",
       "      <td>العودة يدعو إلى الامتناع عن السفر إلى سوريا لل...</td>\n",
       "      <td>تم النشر في 2012/10/29</td>\n",
       "      <td>الرياض - يو بي آي - دعا عالم الدين السعودي، ال...</td>\n",
       "      <td>['القاعدة']</td>\n",
       "      <td>Alqabas</td>\n",
       "      <td>neutral</td>\n",
       "      <td>0.6828629374504089</td>\n",
       "      <td>neutral</td>\n",
       "      <td>0.902794</td>\n",
       "    </tr>\n",
       "    <tr>\n",
       "      <th>23560</th>\n",
       "      <td>355</td>\n",
       "      <td>121735</td>\n",
       "      <td>QBS_ARB_0250084</td>\n",
       "      <td>http://www.alqabas.com.kw/print/263784</td>\n",
       "      <td>ميامي وليكرز أبرز المرشحين لنيل اللقب</td>\n",
       "      <td>تم النشر في 2012/10/29</td>\n",
       "      <td>واشنطن - أ ف ب - يشهد الموسم المقبل من الدوري ...</td>\n",
       "      <td>['واشنطن', 'بوش']</td>\n",
       "      <td>Alqabas</td>\n",
       "      <td>neutral</td>\n",
       "      <td>0.9449390172958374</td>\n",
       "      <td>neutral</td>\n",
       "      <td>0.904816</td>\n",
       "    </tr>\n",
       "    <tr>\n",
       "      <th>23561</th>\n",
       "      <td>356</td>\n",
       "      <td>121736</td>\n",
       "      <td>QBS_ARB_0250090</td>\n",
       "      <td>http://www.alqabas.com.kw/print/263792</td>\n",
       "      <td>اوباما يحذر مواطنيه من خطر الاعصار ساندي</td>\n",
       "      <td>تم النشر في 2012/10/29</td>\n",
       "      <td>(ا ف ب) - حذر الرئيس باراك اوباما الاثنين مواط...</td>\n",
       "      <td>['واشنطن']</td>\n",
       "      <td>Alqabas</td>\n",
       "      <td>neutral</td>\n",
       "      <td>0.9412329792976379</td>\n",
       "      <td>neutral</td>\n",
       "      <td>0.825468</td>\n",
       "    </tr>\n",
       "  </tbody>\n",
       "</table>\n",
       "<p>23562 rows × 13 columns</p>\n",
       "</div>"
      ],
      "text/plain": [
       "       index  Unnamed: 0               id  \\\n",
       "0          0      274890  TRN_ARB_0297955   \n",
       "1          1      274891  TRN_ARB_0297957   \n",
       "2          2      274892  TRN_ARB_0297958   \n",
       "3          3      274893  TRN_ARB_0297960   \n",
       "4          4      274894  TRN_ARB_0297984   \n",
       "...      ...         ...              ...   \n",
       "23557    352      121732  QBS_ARB_0250040   \n",
       "23558    353      121733  QBS_ARB_0250057   \n",
       "23559    354      121734  QBS_ARB_0250059   \n",
       "23560    355      121735  QBS_ARB_0250084   \n",
       "23561    356      121736  QBS_ARB_0250090   \n",
       "\n",
       "                                                     url  \\\n",
       "0      http://tishreen.news.sy/tishreen/public/read/2...   \n",
       "1      http://tishreen.news.sy/tishreen/public/read/2...   \n",
       "2      http://tishreen.news.sy/tishreen/public/read/2...   \n",
       "3      http://tishreen.news.sy/tishreen/public/read/2...   \n",
       "4      http://tishreen.news.sy/tishreen/public/read/2...   \n",
       "...                                                  ...   \n",
       "23557             http://www.alqabas.com.kw/print/263738   \n",
       "23558             http://www.alqabas.com.kw/print/263755   \n",
       "23559             http://www.alqabas.com.kw/print/263757   \n",
       "23560             http://www.alqabas.com.kw/print/263784   \n",
       "23561             http://www.alqabas.com.kw/print/263792   \n",
       "\n",
       "                                                headline  \\\n",
       "0      وزير الخارجية الصيني: سنقوم بدور بنّاء وإيجابي...   \n",
       "1      قواتنا الباسلة تضيّق الخناق على إرهابيي «القاع...   \n",
       "2      وزير الخارجية الإيراني: انضمام سورية لمعاهدة ح...   \n",
       "3      استمرار أمريكا وحلفائها بدعم وتسليح الإرهابيين...   \n",
       "4      المفاوض الفلسطيني.. والسباحة من جديد في بحر ال...   \n",
       "...                                                  ...   \n",
       "23557  بوتفليقة يبحث مع كلينتون تعزيز الشراكة الاقتصا...   \n",
       "23558     الصراع في سوريا يشحذ عزيمة الجهاديين الأردنيين   \n",
       "23559  العودة يدعو إلى الامتناع عن السفر إلى سوريا لل...   \n",
       "23560              ميامي وليكرز أبرز المرشحين لنيل اللقب   \n",
       "23561           اوباما يحذر مواطنيه من خطر الاعصار ساندي   \n",
       "\n",
       "                     dateline  \\\n",
       "0                  20/09/2013   \n",
       "1                  20/09/2013   \n",
       "2                  20/09/2013   \n",
       "3                  20/09/2013   \n",
       "4                  22/09/2013   \n",
       "...                       ...   \n",
       "23557  تم النشر في 2012/10/29   \n",
       "23558  تم النشر في 2012/10/29   \n",
       "23559  تم النشر في 2012/10/29   \n",
       "23560  تم النشر في 2012/10/29   \n",
       "23561  تم النشر في 2012/10/29   \n",
       "\n",
       "                                                    text  \\\n",
       "0      \\n20/09/2013\\nوزير الخارجية الصيني: سنقوم بدور...   \n",
       "1      \\n20/09/2013\\nضبط مستودع أسلحة للإرهابيين في د...   \n",
       "2      \\n20/09/2013\\nوزير الخارجية الإيراني: انضمام س...   \n",
       "3      \\n20/09/2013\\n«الخارجية» في رسالتين إلى رئيس م...   \n",
       "4      \\n22/09/2013\\nالمفاوض الفلسطيني.. والسباحة من ...   \n",
       "...                                                  ...   \n",
       "23557  (كونا) -- بحث الرئيس الجزائري عبدالعزيز بوتفلي...   \n",
       "23558  عمان- سليمان الخالدي (رويترز)- يسلط إعلان الأر...   \n",
       "23559  الرياض - يو بي آي - دعا عالم الدين السعودي، ال...   \n",
       "23560  واشنطن - أ ف ب - يشهد الموسم المقبل من الدوري ...   \n",
       "23561  (ا ف ب) - حذر الرئيس باراك اوباما الاثنين مواط...   \n",
       "\n",
       "                                  tags    source text_label  \\\n",
       "0                           ['واشنطن']  Techreen    neutral   \n",
       "1                          ['القاعدة']  Techreen      False   \n",
       "2                           ['واشنطن']  Techreen    neutral   \n",
       "3                ['أمريكا', 'القاعدة']  Techreen   negative   \n",
       "4                           ['واشنطن']  Techreen   negative   \n",
       "...                                ...       ...        ...   \n",
       "23557  ['أمريكا', 'واشنطن', 'كلينتون']   Alqabas    neutral   \n",
       "23558                      ['القاعدة']   Alqabas      False   \n",
       "23559                      ['القاعدة']   Alqabas    neutral   \n",
       "23560                ['واشنطن', 'بوش']   Alqabas    neutral   \n",
       "23561                       ['واشنطن']   Alqabas    neutral   \n",
       "\n",
       "               text_score headline_label  headline_score  \n",
       "0      0.9574713706970215        neutral        0.538953  \n",
       "1                   False       positive        0.899801  \n",
       "2      0.5859406590461731        neutral        0.774108  \n",
       "3      0.9461716612180074       negative        0.957832  \n",
       "4      0.9543005029360453       negative        0.954988  \n",
       "...                   ...            ...             ...  \n",
       "23557   0.990750253200531        neutral        0.994249  \n",
       "23558               False       positive        0.820226  \n",
       "23559  0.6828629374504089        neutral        0.902794  \n",
       "23560  0.9449390172958374        neutral        0.904816  \n",
       "23561  0.9412329792976379        neutral        0.825468  \n",
       "\n",
       "[23562 rows x 13 columns]"
      ]
     },
     "execution_count": 10,
     "metadata": {},
     "output_type": "execute_result"
    }
   ],
   "source": [
    "df"
   ]
  },
  {
   "cell_type": "code",
   "execution_count": null,
   "id": "446aec7a",
   "metadata": {},
   "outputs": [],
   "source": [
    "9"
   ]
  }
 ],
 "metadata": {
  "kernelspec": {
   "display_name": "Python 3 (ipykernel)",
   "language": "python",
   "name": "python3"
  },
  "language_info": {
   "codemirror_mode": {
    "name": "ipython",
    "version": 3
   },
   "file_extension": ".py",
   "mimetype": "text/x-python",
   "name": "python",
   "nbconvert_exporter": "python",
   "pygments_lexer": "ipython3",
   "version": "3.9.7"
  }
 },
 "nbformat": 4,
 "nbformat_minor": 5
}
