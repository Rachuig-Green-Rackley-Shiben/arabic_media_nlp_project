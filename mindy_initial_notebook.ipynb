{
 "cells": [
  {
   "cell_type": "code",
   "execution_count": 1,
   "id": "7c1feb53",
   "metadata": {},
   "outputs": [],
   "source": [
    "import pandas as pd\n",
    "from bs4 import BeautifulSoup\n",
    "import xml.etree.cElementTree as ET"
   ]
  },
  {
   "cell_type": "code",
   "execution_count": null,
   "id": "0bf73afe",
   "metadata": {},
   "outputs": [],
   "source": [
    "import googletrans"
   ]
  },
  {
   "cell_type": "code",
   "execution_count": 2,
   "id": "617a8ed5",
   "metadata": {},
   "outputs": [],
   "source": [
    "from googletrans import Translator"
   ]
  },
  {
   "cell_type": "code",
   "execution_count": 7,
   "id": "9e00971e",
   "metadata": {},
   "outputs": [
    {
     "data": {
      "text/plain": [
       "'Hello how are you?'"
      ]
     },
     "execution_count": 7,
     "metadata": {},
     "output_type": "execute_result"
    }
   ],
   "source": [
    "translator = Translator()\n",
    "\n",
    "translation = translator.translate(\"مرحبا كيف حالك؟\",  dest='en')\n",
    "translation.text"
   ]
  },
  {
   "cell_type": "code",
   "execution_count": 6,
   "id": "63579d2e",
   "metadata": {},
   "outputs": [
    {
     "data": {
      "text/plain": [
       "'Hello how are you'"
      ]
     },
     "execution_count": 6,
     "metadata": {},
     "output_type": "execute_result"
    }
   ],
   "source": []
  },
  {
   "cell_type": "code",
   "execution_count": null,
   "id": "c91d8826",
   "metadata": {},
   "outputs": [],
   "source": [
    "f = open('/Users/mindyshiben/Documents/Alittihad_utf_8.sgm', 'r')\n",
    "data= f.read()\n",
    "soup = BeautifulSoup(data)\n",
    "topics= soup.findAll('body') # find all body tags\n",
    "len(topics)"
   ]
  },
  {
   "cell_type": "code",
   "execution_count": null,
   "id": "3cf27107",
   "metadata": {},
   "outputs": [],
   "source": [
    "soup"
   ]
  },
  {
   "cell_type": "code",
   "execution_count": null,
   "id": "8f94d2a2",
   "metadata": {},
   "outputs": [],
   "source": [
    "f = open('/Users/mindyshiben/codeup-data-science/Alittihad_XML_CP1256-1/Alittihad_CP1256.xml',  'r', encoding ='CP1256')\n",
    "data= f.read()\n",
    "soup = BeautifulSoup(data)\n",
    "topics= soup.findAll('body') # find all body tags\n",
    "data.head()"
   ]
  },
  {
   "cell_type": "code",
   "execution_count": null,
   "id": "77b384c5",
   "metadata": {},
   "outputs": [],
   "source": [
    "data"
   ]
  },
  {
   "cell_type": "code",
   "execution_count": null,
   "id": "21302823",
   "metadata": {},
   "outputs": [],
   "source": [
    "import pandas as pd\n",
    "\n",
    "xml_data = open('/Users/mindyshiben/codeup-data-science/Alittihad_XML_CP1256-1/Alittihad_CP1256.xml',  'r', encoding ='CP1256').read()  # Read file\n",
    "root = ET.XML(xml_data)  # Parse XML\n",
    "\n",
    "data = []\n",
    "cols = []\n",
    "for i, child in enumerate(root):\n",
    "    data.append([subchild.text for subchild in child])\n",
    "    cols.append(child.tag)\n",
    "\n",
    "df = pd.DataFrame(data).T  # Write in DF and transpose it\n",
    "df.columns = cols  # Update column names\n",
    "print(df)"
   ]
  },
  {
   "cell_type": "code",
   "execution_count": null,
   "id": "1dc8d32b",
   "metadata": {},
   "outputs": [],
   "source": [
    "file = open('/Users/mindyshiben/codeup-data-science/Alittihad_XML_CP1256-1/Alittihad_CP1256.xml', encoding ='CP1256')"
   ]
  },
  {
   "cell_type": "code",
   "execution_count": null,
   "id": "1d1eb48f",
   "metadata": {},
   "outputs": [],
   "source": [
    "from lxml import etree\n",
    "from functools import partial\n",
    "\n",
    "def fast_iter(context, func):\n",
    "    for event, elem in context:\n",
    "        func(elem)\n",
    "        elem.clear()\n",
    "        while elem.getprevious() is not None:\n",
    "            del elem.getparent()[0]\n",
    "    del context\n",
    "\n",
    "def printattname(elem, attname):\n",
    "    return elem.attrib[attname]\n",
    "\n",
    "def main(fname, tag, attname):\n",
    "\n",
    "    fun = partial(printattname, attname=attname)\n",
    "    with open(fname) as f:\n",
    "        context = etree.iterparse(f, events=(\"end\",), tag=tag)\n",
    "        fast_iter(context, fun)\n",
    "\n",
    "if __name__ == \"__main__\":\n",
    "    from docopt import docopt\n",
    "    main(args[\"<xmlfile>\"], args[\"<tag>\"], args[\"<attname>\"])\n"
   ]
  },
  {
   "cell_type": "code",
   "execution_count": null,
   "id": "95366afc",
   "metadata": {},
   "outputs": [],
   "source": [
    "import numpy as np\n",
    "from xml.etree.ElementTree import iterparse\n",
    "#from cElementTree import iterparse          # POSSIBLY FASTER\n",
    "\n",
    "filename = file\n",
    "data = []\n",
    "\n",
    "for event, elem in iterparse(filename,  events=(\"start\", \"end\")):    \n",
    "    if elem.tag == \"TimeStep\" and event == 'start':\n",
    "        TS = elem.attrib['TS']\n",
    "        elem.clear()\n",
    "        \n",
    "    if elem.tag == \"Particle\" and event == 'start':\n",
    "        cdata = elem.text.split(',')\n",
    "        data.append([TS, elem.attrib['PT'], cdata[0], cdata[1]])\n",
    "        elem.clear()\n",
    "\n",
    "mat = np.array(data).astype(np.float)   \n",
    "print(mat)\n"
   ]
  },
  {
   "cell_type": "code",
   "execution_count": null,
   "id": "7a655ed9",
   "metadata": {},
   "outputs": [],
   "source": [
    "import xml.sax"
   ]
  },
  {
   "cell_type": "code",
   "execution_count": null,
   "id": "3510049c",
   "metadata": {},
   "outputs": [],
   "source": [
    "parser = xml.sax.make_parser()"
   ]
  },
  {
   "cell_type": "code",
   "execution_count": null,
   "id": "6dd3a9f3",
   "metadata": {},
   "outputs": [],
   "source": [
    "class MyHandler(xml.sax.handler.ContentHandler):\n",
    "    def __init__(self):\n",
    "        self._charBuffer = []\n",
    "        self._result = []\n",
    "\n",
    "    def _getCharacterData(self):\n",
    "        data = ''.join(self._charBuffer).strip()\n",
    "        self._charBuffer = []\n",
    "        return data.strip() #remove strip() if whitespace is important\n",
    "\n",
    "    def parse(self, f):\n",
    "        xml.sax.parse(f, self)\n",
    "        return self._result\n",
    "\n",
    "    def characters(self, data):\n",
    "        self._charBuffer.append(data)\n",
    "\n",
    "#     def startElement(self, name, attrs):\n",
    "#         if name == 'job': self._result.append({})\n",
    "\n",
    "#     def endElement(self, name):\n",
    "#         if not name == 'job': self._result[-1][name] = self._getCharacterData()\n",
    "\n",
    "jobs = MyHandler().parse('/Users/mindyshiben/Documents/Alittihad_utf_8.sgm')"
   ]
  },
  {
   "cell_type": "code",
   "execution_count": null,
   "id": "d9692c1c",
   "metadata": {},
   "outputs": [],
   "source": []
  }
 ],
 "metadata": {
  "kernelspec": {
   "display_name": "Python 3 (ipykernel)",
   "language": "python",
   "name": "python3"
  },
  "language_info": {
   "codemirror_mode": {
    "name": "ipython",
    "version": 3
   },
   "file_extension": ".py",
   "mimetype": "text/x-python",
   "name": "python",
   "nbconvert_exporter": "python",
   "pygments_lexer": "ipython3",
   "version": "3.9.7"
  }
 },
 "nbformat": 4,
 "nbformat_minor": 5
}
