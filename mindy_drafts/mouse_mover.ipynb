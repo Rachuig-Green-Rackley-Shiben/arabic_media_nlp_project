{
 "cells": [
  {
   "cell_type": "code",
   "execution_count": null,
   "id": "7578bf00",
   "metadata": {},
   "outputs": [],
   "source": [
    "import pyautogui\n",
    "\n",
    "pyautogui.PAUSE = 15\n",
    "pyautogui.FAILSAFE = False\n",
    "\n",
    "\n",
    "while True:\n",
    "    pyautogui.moveTo(100, 200, 2)\n",
    "    pyautogui.moveTo(200,100, 2)"
   ]
  },
  {
   "cell_type": "code",
   "execution_count": 9,
   "id": "c1ecaccb",
   "metadata": {},
   "outputs": [],
   "source": [
    "import pandas as pd\n",
    "from googletrans import Translator\n",
    "from camel_tools.sentiment import SentimentAnalyzer\n",
    "from transformers import pipeline"
   ]
  },
  {
   "cell_type": "code",
   "execution_count": null,
   "id": "c6b43f94",
   "metadata": {},
   "outputs": [],
   "source": [
    "df = pd.read_csv('block_3_part_1.csv')"
   ]
  }
 ],
 "metadata": {
  "kernelspec": {
   "display_name": "Python 3 (ipykernel)",
   "language": "python",
   "name": "python3"
  },
  "language_info": {
   "codemirror_mode": {
    "name": "ipython",
    "version": 3
   },
   "file_extension": ".py",
   "mimetype": "text/x-python",
   "name": "python",
   "nbconvert_exporter": "python",
   "pygments_lexer": "ipython3",
   "version": "3.9.7"
  }
 },
 "nbformat": 4,
 "nbformat_minor": 5
}
