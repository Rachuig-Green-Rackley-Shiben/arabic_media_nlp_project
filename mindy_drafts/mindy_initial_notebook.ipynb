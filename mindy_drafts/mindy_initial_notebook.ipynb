{
 "cells": [
  {
   "cell_type": "code",
   "execution_count": 1,
   "id": "7c1feb53",
   "metadata": {},
   "outputs": [],
   "source": [
    "import pandas as pd\n",
    "from bs4 import BeautifulSoup\n",
    "import xml.etree.cElementTree as ET"
   ]
  },
  {
   "cell_type": "code",
   "execution_count": null,
   "id": "364996f9",
   "metadata": {},
   "outputs": [],
   "source": [
    "import googletrans"
   ]
  },
  {
   "cell_type": "code",
   "execution_count": 2,
   "id": "58290705",
   "metadata": {},
   "outputs": [],
   "source": [
    "from googletrans import Translator"
   ]
  },
  {
   "cell_type": "code",
   "execution_count": 7,
   "id": "e8ee7d25",
   "metadata": {},
   "outputs": [
    {
     "data": {
      "text/plain": [
       "'Hello how are you?'"
      ]
     },
     "execution_count": 7,
     "metadata": {},
     "output_type": "execute_result"
    }
   ],
   "source": [
    "translator = Translator()\n",
    "\n",
    "translation = translator.translate(\"مرحبا كيف حالك؟\",  dest='en')\n",
    "translation.text"
   ]
  },
  {
   "cell_type": "code",
   "execution_count": 6,
   "id": "38cc0aac",
   "metadata": {},
   "outputs": [
    {
     "data": {
      "text/plain": [
       "'Hello how are you'"
      ]
     },
     "execution_count": 6,
     "metadata": {},
     "output_type": "execute_result"
    }
   ],
   "source": []
  },
  {
   "cell_type": "code",
   "execution_count": 8,
   "id": "c91d8826",
   "metadata": {},
   "outputs": [],
   "source": [
    "f = open('/Users/mindyshiben/Documents/Alittihad_utf_8.sgm', 'r')\n",
    "data= f.read()\n",
    "soup = BeautifulSoup(data)\n",
    "topics= soup.findAll('body') # find all body tags"
   ]
  },
  {
   "cell_type": "code",
   "execution_count": null,
   "id": "3cf27107",
   "metadata": {},
   "outputs": [],
   "source": [
    "soup"
   ]
  },
  {
   "cell_type": "code",
   "execution_count": 11,
   "id": "56f8c3fc",
   "metadata": {},
   "outputs": [],
   "source": [
    "from camel_tools.sentiment import SentimentAnalyzer"
   ]
  },
  {
   "cell_type": "code",
   "execution_count": 31,
   "id": "ad274475",
   "metadata": {},
   "outputs": [
    {
     "data": {
      "application/vnd.jupyter.widget-view+json": {
       "model_id": "64c720a50fae42aa879f6aef17deeac4",
       "version_major": 2,
       "version_minor": 0
      },
      "text/plain": [
       "Downloading config.json:   0%|          | 0.00/842 [00:00<?, ?B/s]"
      ]
     },
     "metadata": {},
     "output_type": "display_data"
    },
    {
     "data": {
      "application/vnd.jupyter.widget-view+json": {
       "model_id": "4254da4da6124da4b0907ae5d49b9887",
       "version_major": 2,
       "version_minor": 0
      },
      "text/plain": [
       "Downloading pytorch_model.bin:   0%|          | 0.00/416M [00:00<?, ?B/s]"
      ]
     },
     "metadata": {},
     "output_type": "display_data"
    },
    {
     "data": {
      "application/vnd.jupyter.widget-view+json": {
       "model_id": "e45c752bd8a34a8a84440abd89fcc2b6",
       "version_major": 2,
       "version_minor": 0
      },
      "text/plain": [
       "Downloading vocab.txt:   0%|          | 0.00/297k [00:00<?, ?B/s]"
      ]
     },
     "metadata": {},
     "output_type": "display_data"
    },
    {
     "data": {
      "application/vnd.jupyter.widget-view+json": {
       "model_id": "1d31567fe7454515b0687af48f420402",
       "version_major": 2,
       "version_minor": 0
      },
      "text/plain": [
       "Downloading special_tokens_map.json:   0%|          | 0.00/112 [00:00<?, ?B/s]"
      ]
     },
     "metadata": {},
     "output_type": "display_data"
    },
    {
     "data": {
      "application/vnd.jupyter.widget-view+json": {
       "model_id": "e3d5f5aa7ccf46668f5eceb50846ff14",
       "version_major": 2,
       "version_minor": 0
      },
      "text/plain": [
       "Downloading tokenizer_config.json:   0%|          | 0.00/86.0 [00:00<?, ?B/s]"
      ]
     },
     "metadata": {},
     "output_type": "display_data"
    },
    {
     "data": {
      "text/plain": [
       "['positive', 'negative']"
      ]
     },
     "execution_count": 31,
     "metadata": {},
     "output_type": "execute_result"
    }
   ],
   "source": [
    "sa = SentimentAnalyzer(\"CAMeL-Lab/bert-base-arabic-camelbert-msa-sentiment\")\n",
    "sentences = ['أنا بخير', 'أنا لست بخير']\n",
    "sa.predict(sentences)"
   ]
  },
  {
   "cell_type": "code",
   "execution_count": 32,
   "id": "9813bfbc",
   "metadata": {},
   "outputs": [
    {
     "data": {
      "text/plain": [
       "['negative']"
      ]
     },
     "execution_count": 32,
     "metadata": {},
     "output_type": "execute_result"
    }
   ],
   "source": [
    "test_1 = 'أمريكا فظيعة' #America is terrible\n",
    "sa.predict(test_1)"
   ]
  },
  {
   "cell_type": "code",
   "execution_count": 33,
   "id": "ca4e63f9",
   "metadata": {},
   "outputs": [
    {
     "data": {
      "text/plain": [
       "['neutral']"
      ]
     },
     "execution_count": 33,
     "metadata": {},
     "output_type": "execute_result"
    }
   ],
   "source": [
    "test_2 = \"هل يمكننا تناول الغداء؟\" #Can we have lunch?\n",
    "sa.predict(test_2)"
   ]
  },
  {
   "cell_type": "code",
   "execution_count": 34,
   "id": "e9832ee2",
   "metadata": {},
   "outputs": [
    {
     "data": {
      "text/plain": [
       "['negative']"
      ]
     },
     "execution_count": 34,
     "metadata": {},
     "output_type": "execute_result"
    }
   ],
   "source": [
    "test_3 =  \"قال الرئيس الأمريكي بايدن إن الكثيرين سيظلون مصابين بـ COVID-19 ، لكن اللقاحات والاختبارات والعلاج المتاحة جعلت فيروس كورونا أقل فتكًا\"\n",
    "#US President Biden says many will still get COVID-19, but available vaccines, testing and treatment have made the coronavirus less deadly\n",
    "sa.predict(test_3)"
   ]
  },
  {
   "cell_type": "code",
   "execution_count": 41,
   "id": "bcc63f37",
   "metadata": {},
   "outputs": [
    {
     "ename": "TypeError",
     "evalue": "'SentimentAnalyzer' object is not callable",
     "output_type": "error",
     "traceback": [
      "\u001b[0;31m---------------------------------------------------------------------------\u001b[0m",
      "\u001b[0;31mTypeError\u001b[0m                                 Traceback (most recent call last)",
      "\u001b[0;32m/var/folders/s4/hmz6ljm533vgpm_bhv59yw0m0000gn/T/ipykernel_19806/1503927387.py\u001b[0m in \u001b[0;36m<module>\u001b[0;34m\u001b[0m\n\u001b[1;32m      2\u001b[0m \u001b[0;31m#Osama Bin Laden killed\u001b[0m\u001b[0;34m\u001b[0m\u001b[0;34m\u001b[0m\u001b[0m\n\u001b[1;32m      3\u001b[0m \u001b[0;31m#sa.predict(test_4) #this changed\u001b[0m\u001b[0;34m\u001b[0m\u001b[0;34m\u001b[0m\u001b[0m\n\u001b[0;32m----> 4\u001b[0;31m \u001b[0msa\u001b[0m\u001b[0;34m(\u001b[0m\u001b[0mtest_4\u001b[0m\u001b[0;34m)\u001b[0m\u001b[0;34m\u001b[0m\u001b[0;34m\u001b[0m\u001b[0m\n\u001b[0m",
      "\u001b[0;31mTypeError\u001b[0m: 'SentimentAnalyzer' object is not callable"
     ]
    }
   ],
   "source": [
    "test_4 = \"مقتل أسامة بن لادن\" \n",
    "#Osama Bin Laden killed\n",
    "#sa.predict(test_4) #this changed \n",
    "sa(test_4)"
   ]
  },
  {
   "cell_type": "code",
   "execution_count": 42,
   "id": "f329e3e6",
   "metadata": {},
   "outputs": [
    {
     "data": {
      "text/plain": [
       "['neutral']"
      ]
     },
     "execution_count": 42,
     "metadata": {},
     "output_type": "execute_result"
    }
   ],
   "source": [
    "test_5 = \"أسامة بن لادن\" \n",
    "#Osama Bin Laden\n",
    "sa.predict(test_5)"
   ]
  },
  {
   "cell_type": "code",
   "execution_count": 57,
   "id": "281acdbf",
   "metadata": {},
   "outputs": [
    {
     "ename": "TypeError",
     "evalue": "__call__() missing 1 required positional argument: 'inputs'",
     "output_type": "error",
     "traceback": [
      "\u001b[0;31m---------------------------------------------------------------------------\u001b[0m",
      "\u001b[0;31mTypeError\u001b[0m                                 Traceback (most recent call last)",
      "\u001b[0;32m/var/folders/s4/hmz6ljm533vgpm_bhv59yw0m0000gn/T/ipykernel_19806/2000128624.py\u001b[0m in \u001b[0;36m<module>\u001b[0;34m\u001b[0m\n\u001b[1;32m      1\u001b[0m \u001b[0mtest_6\u001b[0m \u001b[0;34m=\u001b[0m \u001b[0;34m\"الرئيس ترامب\"\u001b[0m\u001b[0;34m\u001b[0m\u001b[0;34m\u001b[0m\u001b[0m\n\u001b[1;32m      2\u001b[0m \u001b[0;31m#President Trump\u001b[0m\u001b[0;34m\u001b[0m\u001b[0;34m\u001b[0m\u001b[0m\n\u001b[0;32m----> 3\u001b[0;31m \u001b[0msa\u001b[0m\u001b[0;34m.\u001b[0m\u001b[0mpredict\u001b[0m\u001b[0;34m(\u001b[0m\u001b[0mtest_6\u001b[0m\u001b[0;34m)\u001b[0m\u001b[0;34m\u001b[0m\u001b[0;34m\u001b[0m\u001b[0m\n\u001b[0m",
      "\u001b[0;32m/usr/local/anaconda3/lib/python3.9/site-packages/transformers/pipelines/base.py\u001b[0m in \u001b[0;36mpredict\u001b[0;34m(self, X)\u001b[0m\n\u001b[1;32m    838\u001b[0m         \u001b[0mScikit\u001b[0m \u001b[0;34m/\u001b[0m \u001b[0mKeras\u001b[0m \u001b[0minterface\u001b[0m \u001b[0mto\u001b[0m \u001b[0mtransformers\u001b[0m\u001b[0;31m'\u001b[0m \u001b[0mpipelines\u001b[0m\u001b[0;34m.\u001b[0m \u001b[0mThis\u001b[0m \u001b[0mmethod\u001b[0m \u001b[0mwill\u001b[0m \u001b[0mforward\u001b[0m \u001b[0mto\u001b[0m \u001b[0m__call__\u001b[0m\u001b[0;34m(\u001b[0m\u001b[0;34m)\u001b[0m\u001b[0;34m.\u001b[0m\u001b[0;34m\u001b[0m\u001b[0;34m\u001b[0m\u001b[0m\n\u001b[1;32m    839\u001b[0m         \"\"\"\n\u001b[0;32m--> 840\u001b[0;31m         \u001b[0;32mreturn\u001b[0m \u001b[0mself\u001b[0m\u001b[0;34m(\u001b[0m\u001b[0mX\u001b[0m\u001b[0;34m=\u001b[0m\u001b[0mX\u001b[0m\u001b[0;34m)\u001b[0m\u001b[0;34m\u001b[0m\u001b[0;34m\u001b[0m\u001b[0m\n\u001b[0m\u001b[1;32m    841\u001b[0m \u001b[0;34m\u001b[0m\u001b[0m\n\u001b[1;32m    842\u001b[0m     \u001b[0;34m@\u001b[0m\u001b[0mcontextmanager\u001b[0m\u001b[0;34m\u001b[0m\u001b[0;34m\u001b[0m\u001b[0m\n",
      "\u001b[0;32m/usr/local/anaconda3/lib/python3.9/site-packages/transformers/pipelines/text_classification.py\u001b[0m in \u001b[0;36m__call__\u001b[0;34m(self, *args, **kwargs)\u001b[0m\n\u001b[1;32m    136\u001b[0m             \u001b[0mIf\u001b[0m\u001b[0;31m \u001b[0m\u001b[0;31m`\u001b[0m\u001b[0mtop_k\u001b[0m\u001b[0;31m`\u001b[0m \u001b[0;32mis\u001b[0m \u001b[0mused\u001b[0m\u001b[0;34m,\u001b[0m \u001b[0mone\u001b[0m \u001b[0msuch\u001b[0m \u001b[0mdictionary\u001b[0m \u001b[0;32mis\u001b[0m \u001b[0mreturned\u001b[0m \u001b[0mper\u001b[0m \u001b[0mlabel\u001b[0m\u001b[0;34m.\u001b[0m\u001b[0;34m\u001b[0m\u001b[0;34m\u001b[0m\u001b[0m\n\u001b[1;32m    137\u001b[0m         \"\"\"\n\u001b[0;32m--> 138\u001b[0;31m         \u001b[0mresult\u001b[0m \u001b[0;34m=\u001b[0m \u001b[0msuper\u001b[0m\u001b[0;34m(\u001b[0m\u001b[0;34m)\u001b[0m\u001b[0;34m.\u001b[0m\u001b[0m__call__\u001b[0m\u001b[0;34m(\u001b[0m\u001b[0;34m*\u001b[0m\u001b[0margs\u001b[0m\u001b[0;34m,\u001b[0m \u001b[0;34m**\u001b[0m\u001b[0mkwargs\u001b[0m\u001b[0;34m)\u001b[0m\u001b[0;34m\u001b[0m\u001b[0;34m\u001b[0m\u001b[0m\n\u001b[0m\u001b[1;32m    139\u001b[0m         \u001b[0;31m# TODO try and retrieve it in a nicer way from _sanitize_parameters.\u001b[0m\u001b[0;34m\u001b[0m\u001b[0;34m\u001b[0m\u001b[0m\n\u001b[1;32m    140\u001b[0m         \u001b[0m_legacy\u001b[0m \u001b[0;34m=\u001b[0m \u001b[0;34m\"top_k\"\u001b[0m \u001b[0;32mnot\u001b[0m \u001b[0;32min\u001b[0m \u001b[0mkwargs\u001b[0m\u001b[0;34m\u001b[0m\u001b[0;34m\u001b[0m\u001b[0m\n",
      "\u001b[0;31mTypeError\u001b[0m: __call__() missing 1 required positional argument: 'inputs'"
     ]
    }
   ],
   "source": [
    "test_6 = \"الرئيس ترامب\"\n",
    "#President Trump\n",
    "sa.predict(test_6)"
   ]
  },
  {
   "cell_type": "markdown",
   "id": "1ade411d",
   "metadata": {},
   "source": [
    "### Notes:\n",
    "- It appears all names are neutral\n",
    "- End to terrorism: "
   ]
  },
  {
   "cell_type": "code",
   "execution_count": 65,
   "id": "3651cfb8",
   "metadata": {},
   "outputs": [
    {
     "data": {
      "text/plain": [
       "[{'label': 'negative', 'score': 0.7404600381851196}]"
      ]
     },
     "execution_count": 65,
     "metadata": {},
     "output_type": "execute_result"
    }
   ],
   "source": [
    "test_7 = \"االإرهاب\"\n",
    "#terrorism\n",
    "#sa.predict(test_7)\n",
    "sa(test_7)"
   ]
  },
  {
   "cell_type": "code",
   "execution_count": 66,
   "id": "b24aaec2",
   "metadata": {},
   "outputs": [
    {
     "data": {
      "text/plain": [
       "[{'label': 'neutral', 'score': 0.5095989108085632}]"
      ]
     },
     "execution_count": 66,
     "metadata": {},
     "output_type": "execute_result"
    }
   ],
   "source": [
    "test_7 = \"الإرهاب خير\"\n",
    "#terrorism is good\n",
    "#sa.predict(test_7)\n",
    "sa(test_7)"
   ]
  },
  {
   "cell_type": "code",
   "execution_count": 63,
   "id": "ea217b11",
   "metadata": {},
   "outputs": [
    {
     "data": {
      "text/plain": [
       "[{'label': 'neutral', 'score': 0.6464316844940186}]"
      ]
     },
     "execution_count": 63,
     "metadata": {},
     "output_type": "execute_result"
    }
   ],
   "source": [
    "test_8 = \"نهاية الإرهاب\"\n",
    "#end to terrorism\n",
    "sa(test_8)"
   ]
  },
  {
   "cell_type": "code",
   "execution_count": 76,
   "id": "de990e12",
   "metadata": {},
   "outputs": [
    {
     "data": {
      "text/plain": [
       "('terrorism has ended', [{'label': 'positive', 'score': 0.9403408765792847}])"
      ]
     },
     "execution_count": 76,
     "metadata": {},
     "output_type": "execute_result"
    }
   ],
   "source": [
    "test_9 = \"لقد انتهى الإرهاب\"\n",
    "test_9_en = 'terrorism has ended'\n",
    "test_9 = test_9_en, sa(test_9)\n",
    "test_9"
   ]
  },
  {
   "cell_type": "code",
   "execution_count": 58,
   "id": "9e370f9e",
   "metadata": {},
   "outputs": [],
   "source": [
    "from transformers import pipeline"
   ]
  },
  {
   "cell_type": "code",
   "execution_count": 69,
   "id": "7b900e01",
   "metadata": {},
   "outputs": [
    {
     "name": "stdout",
     "output_type": "stream",
     "text": [
      "[{'label': 'positive', 'score': 0.9616649150848389}, {'label': 'negative', 'score': 0.9779177904129028}]\n"
     ]
    }
   ],
   "source": [
    "sa = pipeline('text-classification', model='CAMeL-Lab/bert-base-arabic-camelbert-msa-sentiment')\n",
    "sentences = ['أنا بخير', 'أنا لست بخير']\n",
    "print(sa(sentences))"
   ]
  },
  {
   "cell_type": "code",
   "execution_count": 79,
   "id": "3cea319f",
   "metadata": {},
   "outputs": [
    {
     "data": {
      "text/plain": [
       "([{'label': 'neutral', 'score': 0.5095989108085632}],\n",
       " ('terrorism has ended', [{'label': 'positive', 'score': 0.9403408765792847}]))"
      ]
     },
     "execution_count": 79,
     "metadata": {},
     "output_type": "execute_result"
    }
   ],
   "source": [
    "sa([test_7]), test_9"
   ]
  },
  {
   "cell_type": "code",
   "execution_count": 50,
   "id": "bac7fb11",
   "metadata": {},
   "outputs": [
    {
     "data": {
      "text/plain": [
       "[{'label': 'negative', 'score': 0.8890805244445801}]"
      ]
     },
     "execution_count": 50,
     "metadata": {},
     "output_type": "execute_result"
    }
   ],
   "source": [
    "sa(test_7)"
   ]
  },
  {
   "cell_type": "code",
   "execution_count": 51,
   "id": "ca8c32bf",
   "metadata": {},
   "outputs": [
    {
     "data": {
      "text/plain": [
       "[{'label': 'neutral', 'score': 0.9116173386573792}]"
      ]
     },
     "execution_count": 51,
     "metadata": {},
     "output_type": "execute_result"
    }
   ],
   "source": [
    "sa(test_6) #Trump"
   ]
  },
  {
   "cell_type": "code",
   "execution_count": 52,
   "id": "e3b7dc63",
   "metadata": {},
   "outputs": [
    {
     "data": {
      "text/plain": [
       "[{'label': 'neutral', 'score': 0.5159112215042114}]"
      ]
     },
     "execution_count": 52,
     "metadata": {},
     "output_type": "execute_result"
    }
   ],
   "source": [
    "sa(test_5) #bin laden"
   ]
  },
  {
   "cell_type": "code",
   "execution_count": null,
   "id": "7b5d40fa",
   "metadata": {},
   "outputs": [],
   "source": []
  },
  {
   "cell_type": "code",
   "execution_count": null,
   "id": "f77da997",
   "metadata": {},
   "outputs": [],
   "source": []
  },
  {
   "cell_type": "code",
   "execution_count": null,
   "id": "8f94d2a2",
   "metadata": {},
   "outputs": [],
   "source": [
    "f = open('/Users/mindyshiben/codeup-data-science/Alittihad_XML_CP1256-1/Alittihad_CP1256.xml',  'r', encoding ='CP1256')\n",
    "data= f.read()\n",
    "soup = BeautifulSoup(data)\n",
    "topics= soup.findAll('body') # find all body tags\n",
    "data.head()"
   ]
  },
  {
   "cell_type": "code",
   "execution_count": null,
   "id": "fb8503ae",
   "metadata": {},
   "outputs": [],
   "source": []
  },
  {
   "cell_type": "code",
   "execution_count": null,
   "id": "be8ed51c",
   "metadata": {},
   "outputs": [],
   "source": []
  },
  {
   "cell_type": "code",
   "execution_count": null,
   "id": "f23eff29",
   "metadata": {},
   "outputs": [],
   "source": []
  },
  {
   "cell_type": "code",
   "execution_count": null,
   "id": "b2860da0",
   "metadata": {},
   "outputs": [],
   "source": []
  },
  {
   "cell_type": "code",
   "execution_count": null,
   "id": "77b384c5",
   "metadata": {},
   "outputs": [],
   "source": [
    "data"
   ]
  },
  {
   "cell_type": "code",
   "execution_count": null,
   "id": "21302823",
   "metadata": {},
   "outputs": [],
   "source": [
    "import pandas as pd\n",
    "\n",
    "xml_data = open('/Users/mindyshiben/codeup-data-science/Alittihad_XML_CP1256-1/Alittihad_CP1256.xml',  'r', encoding ='CP1256').read()  # Read file\n",
    "root = ET.XML(xml_data)  # Parse XML\n",
    "\n",
    "data = []\n",
    "cols = []\n",
    "for i, child in enumerate(root):\n",
    "    data.append([subchild.text for subchild in child])\n",
    "    cols.append(child.tag)\n",
    "\n",
    "df = pd.DataFrame(data).T  # Write in DF and transpose it\n",
    "df.columns = cols  # Update column names\n",
    "print(df)"
   ]
  },
  {
   "cell_type": "code",
   "execution_count": null,
   "id": "abada2f7",
   "metadata": {},
   "outputs": [],
   "source": [
    "file = open('/Users/mindyshiben/codeup-data-science/Alittihad_XML_CP1256-1/Alittihad_CP1256.xml', encoding ='CP1256')"
   ]
  },
  {
   "cell_type": "code",
   "execution_count": null,
   "id": "71226b41",
   "metadata": {},
   "outputs": [],
   "source": [
    "from lxml import etree\n",
    "from functools import partial\n",
    "\n",
    "def fast_iter(context, func):\n",
    "    for event, elem in context:\n",
    "        func(elem)\n",
    "        elem.clear()\n",
    "        while elem.getprevious() is not None:\n",
    "            del elem.getparent()[0]\n",
    "    del context\n",
    "\n",
    "def printattname(elem, attname):\n",
    "    return elem.attrib[attname]\n",
    "\n",
    "def main(fname, tag, attname):\n",
    "\n",
    "    fun = partial(printattname, attname=attname)\n",
    "    with open(fname) as f:\n",
    "        context = etree.iterparse(f, events=(\"end\",), tag=tag)\n",
    "        fast_iter(context, fun)\n",
    "\n",
    "if __name__ == \"__main__\":\n",
    "    from docopt import docopt\n",
    "    main(args[\"<xmlfile>\"], args[\"<tag>\"], args[\"<attname>\"])\n"
   ]
  },
  {
   "cell_type": "code",
   "execution_count": null,
   "id": "0f24d5e3",
   "metadata": {},
   "outputs": [],
   "source": [
    "import numpy as np\n",
    "from xml.etree.ElementTree import iterparse\n",
    "#from cElementTree import iterparse          # POSSIBLY FASTER\n",
    "\n",
    "filename = file\n",
    "data = []\n",
    "\n",
    "for event, elem in iterparse(filename,  events=(\"start\", \"end\")):    \n",
    "    if elem.tag == \"TimeStep\" and event == 'start':\n",
    "        TS = elem.attrib['TS']\n",
    "        elem.clear()\n",
    "        \n",
    "    if elem.tag == \"Particle\" and event == 'start':\n",
    "        cdata = elem.text.split(',')\n",
    "        data.append([TS, elem.attrib['PT'], cdata[0], cdata[1]])\n",
    "        elem.clear()\n",
    "\n",
    "mat = np.array(data).astype(np.float)   \n",
    "print(mat)\n"
   ]
  },
  {
   "cell_type": "code",
   "execution_count": null,
   "id": "a752f1d9",
   "metadata": {},
   "outputs": [],
   "source": [
    "import xml.sax"
   ]
  },
  {
   "cell_type": "code",
   "execution_count": null,
   "id": "97a7328c",
   "metadata": {},
   "outputs": [],
   "source": [
    "parser = xml.sax.make_parser()"
   ]
  },
  {
   "cell_type": "code",
   "execution_count": null,
   "id": "fc276b1b",
   "metadata": {},
   "outputs": [],
   "source": [
    "class MyHandler(xml.sax.handler.ContentHandler):\n",
    "    def __init__(self):\n",
    "        self._charBuffer = []\n",
    "        self._result = []\n",
    "\n",
    "    def _getCharacterData(self):\n",
    "        data = ''.join(self._charBuffer).strip()\n",
    "        self._charBuffer = []\n",
    "        return data.strip() #remove strip() if whitespace is important\n",
    "\n",
    "    def parse(self, f):\n",
    "        xml.sax.parse(f, self)\n",
    "        return self._result\n",
    "\n",
    "    def characters(self, data):\n",
    "        self._charBuffer.append(data)\n",
    "\n",
    "#     def startElement(self, name, attrs):\n",
    "#         if name == 'job': self._result.append({})\n",
    "\n",
    "#     def endElement(self, name):\n",
    "#         if not name == 'job': self._result[-1][name] = self._getCharacterData()\n",
    "\n",
    "jobs = MyHandler().parse('/Users/mindyshiben/Documents/Alittihad_utf_8.sgm')"
   ]
  },
  {
   "cell_type": "code",
   "execution_count": null,
   "id": "53366295",
   "metadata": {},
   "outputs": [],
   "source": []
  }
 ],
 "metadata": {
  "kernelspec": {
   "display_name": "Python 3 (ipykernel)",
   "language": "python",
   "name": "python3"
  },
  "language_info": {
   "codemirror_mode": {
    "name": "ipython",
    "version": 3
   },
   "file_extension": ".py",
   "mimetype": "text/x-python",
   "name": "python",
   "nbconvert_exporter": "python",
   "pygments_lexer": "ipython3",
   "version": "3.9.7"
  }
 },
 "nbformat": 4,
 "nbformat_minor": 5
}
