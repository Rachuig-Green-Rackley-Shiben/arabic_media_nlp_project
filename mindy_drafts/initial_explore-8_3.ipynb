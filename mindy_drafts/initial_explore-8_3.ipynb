{
 "cells": [
  {
   "cell_type": "code",
   "execution_count": 1,
   "id": "5720c246",
   "metadata": {},
   "outputs": [],
   "source": [
    "import pandas as pd\n",
    "import numpy as np\n",
    "import helper\n",
    "import seaborn as sns\n",
    "import matplotlib as plt\n",
    "%matplotlib inline\n",
    "import matplotlib.pyplot as plt\n",
    "\n",
    "from googletrans import Translator"
   ]
  },
  {
   "cell_type": "code",
   "execution_count": 2,
   "id": "ae6ee8b8",
   "metadata": {},
   "outputs": [],
   "source": [
    "new = pd.read_csv('daily8_3.csv')"
   ]
  },
  {
   "cell_type": "code",
   "execution_count": 5,
   "id": "22fe2ac5",
   "metadata": {},
   "outputs": [
    {
     "name": "stdout",
     "output_type": "stream",
     "text": [
      "<class 'pandas.core.frame.DataFrame'>\n",
      "RangeIndex: 54162 entries, 0 to 54161\n",
      "Data columns (total 12 columns):\n",
      " #   Column          Non-Null Count  Dtype  \n",
      "---  ------          --------------  -----  \n",
      " 0   index           54162 non-null  int64  \n",
      " 1   id              54162 non-null  object \n",
      " 2   url             54162 non-null  object \n",
      " 3   headline        54162 non-null  object \n",
      " 4   dateline        54162 non-null  object \n",
      " 5   text            54162 non-null  object \n",
      " 6   tags            54162 non-null  object \n",
      " 7   source          54162 non-null  object \n",
      " 8   text_label      54162 non-null  object \n",
      " 9   text_score      54162 non-null  object \n",
      " 10  headline_label  54162 non-null  object \n",
      " 11  headline_score  54162 non-null  float64\n",
      "dtypes: float64(1), int64(1), object(10)\n",
      "memory usage: 5.0+ MB\n"
     ]
    }
   ],
   "source": [
    "new.info()"
   ]
  },
  {
   "cell_type": "code",
   "execution_count": 7,
   "id": "166e6220",
   "metadata": {},
   "outputs": [],
   "source": [
    "df = new"
   ]
  },
  {
   "cell_type": "code",
   "execution_count": 8,
   "id": "2c6d56b1",
   "metadata": {},
   "outputs": [
    {
     "data": {
      "text/plain": [
       "1        0\n",
       "3        0\n",
       "4        0\n",
       "5        0\n",
       "6        1\n",
       "        ..\n",
       "54154    0\n",
       "54156   -1\n",
       "54157    0\n",
       "54158    0\n",
       "54160    0\n",
       "Name: text_label, Length: 39011, dtype: int64"
      ]
     },
     "execution_count": 8,
     "metadata": {},
     "output_type": "execute_result"
    }
   ],
   "source": [
    "no_false = df[df.text_label != 'False']\n",
    "label_map ={'neutral':0,\n",
    "           'positive':1,\n",
    "           'negative':-1}\n",
    "no_false.text_label.map(label_map)"
   ]
  },
  {
   "cell_type": "code",
   "execution_count": 9,
   "id": "c54299de",
   "metadata": {},
   "outputs": [
    {
     "name": "stdout",
     "output_type": "stream",
     "text": [
      "<class 'pandas.core.frame.DataFrame'>\n",
      "RangeIndex: 54162 entries, 0 to 54161\n",
      "Data columns (total 12 columns):\n",
      " #   Column          Non-Null Count  Dtype  \n",
      "---  ------          --------------  -----  \n",
      " 0   index           54162 non-null  int64  \n",
      " 1   id              54162 non-null  object \n",
      " 2   url             54162 non-null  object \n",
      " 3   headline        54162 non-null  object \n",
      " 4   dateline        54162 non-null  object \n",
      " 5   text            54162 non-null  object \n",
      " 6   tags            54162 non-null  object \n",
      " 7   source          54162 non-null  object \n",
      " 8   text_label      54162 non-null  object \n",
      " 9   text_score      54162 non-null  object \n",
      " 10  headline_label  54162 non-null  object \n",
      " 11  headline_score  54162 non-null  float64\n",
      "dtypes: float64(1), int64(1), object(10)\n",
      "memory usage: 5.0+ MB\n"
     ]
    }
   ],
   "source": [
    "df.info()"
   ]
  },
  {
   "cell_type": "code",
   "execution_count": 10,
   "id": "32c773d0",
   "metadata": {},
   "outputs": [
    {
     "data": {
      "text/plain": [
       "['واشنطن']                                                           11218\n",
       "['القاعدة']                                                          11201\n",
       "['بوش']                                                               9074\n",
       "['أمريكا']                                                            3199\n",
       "['فيسبوك']                                                            2528\n",
       "                                                                     ...  \n",
       "['بوش', '9/11', '11 سبتمبر']                                             1\n",
       "['واشنطن', 'بوش', 'كلينتون', '9/11']                                     1\n",
       "['بوش', 'تشيني', 'كلينتون', 'القاعدة']                                   1\n",
       "['واشنطن', 'بوش', 'مركز التجارة العالمي', '11 سبتمبر', 'القاعدة']        1\n",
       "['أوباما', 'آل غور']                                                     1\n",
       "Name: tags, Length: 435, dtype: int64"
      ]
     },
     "execution_count": 10,
     "metadata": {},
     "output_type": "execute_result"
    }
   ],
   "source": [
    "df.tags.value_counts()"
   ]
  },
  {
   "cell_type": "code",
   "execution_count": 11,
   "id": "238ee712",
   "metadata": {},
   "outputs": [
    {
     "data": {
      "text/plain": [
       "435"
      ]
     },
     "execution_count": 11,
     "metadata": {},
     "output_type": "execute_result"
    }
   ],
   "source": [
    "df.tags.nunique()"
   ]
  },
  {
   "cell_type": "code",
   "execution_count": 241,
   "id": "cc9dd792",
   "metadata": {},
   "outputs": [
    {
     "data": {
      "text/plain": [
       "70"
      ]
     },
     "execution_count": 241,
     "metadata": {},
     "output_type": "execute_result"
    }
   ],
   "source": [
    "(df.tags.value_counts() > 10).sum()"
   ]
  },
  {
   "cell_type": "code",
   "execution_count": 315,
   "id": "cdfcbe90",
   "metadata": {},
   "outputs": [
    {
     "data": {
      "text/plain": [
       "['واشنطن']                                                True\n",
       "['القاعدة']                                               True\n",
       "['أمريكا']                                                True\n",
       "['بوش']                                                   True\n",
       "['أوباما']                                                True\n",
       "                                                         ...  \n",
       "['واشنطن', 'بوش', 'كلينتون', 'حرب الخليج', 'القاعدة']    False\n",
       "['واشنطن', 'بوش', 'كلينتون', 'أسامة بن لادن']            False\n",
       "['بوش', 'كلينتون', 'القاعدة']                            False\n",
       "['كلينتون', 'آل غور']                                    False\n",
       "['بوش', 'كلينتون', 'آل غور', 'حرب الخليج']               False\n",
       "Name: tags, Length: 334, dtype: bool"
      ]
     },
     "execution_count": 315,
     "metadata": {},
     "output_type": "execute_result"
    }
   ],
   "source": [
    "df.tags.value_counts() > 1"
   ]
  },
  {
   "cell_type": "code",
   "execution_count": 12,
   "id": "fc493d53",
   "metadata": {},
   "outputs": [],
   "source": [
    "tag_count = dict(df['tags'].value_counts())\n",
    "df['tag_count'] = df['tags']\n",
    "df['tag_count'] = df['tag_count'].map(tag_count)\n",
    "\n",
    "tags= df[df.tag_count > 1]"
   ]
  },
  {
   "cell_type": "code",
   "execution_count": 13,
   "id": "ec4f3b7a",
   "metadata": {},
   "outputs": [
    {
     "data": {
      "text/plain": [
       "264"
      ]
     },
     "execution_count": 13,
     "metadata": {},
     "output_type": "execute_result"
    }
   ],
   "source": [
    "tags.tags.nunique()"
   ]
  },
  {
   "cell_type": "code",
   "execution_count": 14,
   "id": "b15f28b2",
   "metadata": {},
   "outputs": [
    {
     "data": {
      "text/html": [
       "<div>\n",
       "<style scoped>\n",
       "    .dataframe tbody tr th:only-of-type {\n",
       "        vertical-align: middle;\n",
       "    }\n",
       "\n",
       "    .dataframe tbody tr th {\n",
       "        vertical-align: top;\n",
       "    }\n",
       "\n",
       "    .dataframe thead th {\n",
       "        text-align: right;\n",
       "    }\n",
       "</style>\n",
       "<table border=\"1\" class=\"dataframe\">\n",
       "  <thead>\n",
       "    <tr style=\"text-align: right;\">\n",
       "      <th></th>\n",
       "      <th>index</th>\n",
       "      <th>id</th>\n",
       "      <th>url</th>\n",
       "      <th>headline</th>\n",
       "      <th>dateline</th>\n",
       "      <th>text</th>\n",
       "      <th>tags</th>\n",
       "      <th>source</th>\n",
       "      <th>text_label</th>\n",
       "      <th>text_score</th>\n",
       "      <th>headline_label</th>\n",
       "      <th>headline_score</th>\n",
       "      <th>tag_count</th>\n",
       "    </tr>\n",
       "  </thead>\n",
       "  <tbody>\n",
       "    <tr>\n",
       "      <th>0</th>\n",
       "      <td>0</td>\n",
       "      <td>ETD_ARB_0000033</td>\n",
       "      <td>http://www.alittihad.ae/details.php?id=53&amp;y=20...</td>\n",
       "      <td>الوثائق الرئاسية الأميركية··· متجاهلو التاريخ ...</td>\n",
       "      <td>2008-01-01</td>\n",
       "      <td>ربما نسي الكثيرون الآن الأمر التنفيذي الخاص با...</td>\n",
       "      <td>['واشنطن', 'بوش']</td>\n",
       "      <td>Alittihad</td>\n",
       "      <td>False</td>\n",
       "      <td>False</td>\n",
       "      <td>negative</td>\n",
       "      <td>0.992800</td>\n",
       "      <td>2464</td>\n",
       "    </tr>\n",
       "    <tr>\n",
       "      <th>1</th>\n",
       "      <td>1</td>\n",
       "      <td>ETD_ARB_0000035</td>\n",
       "      <td>http://www.alittihad.ae/details.php?id=55&amp;y=20...</td>\n",
       "      <td>التنبؤات السنوية</td>\n",
       "      <td>2008-01-01</td>\n",
       "      <td>هذه هي حلقة التنبؤات المشتركة السنوية الرابعة ...</td>\n",
       "      <td>['أوباما', 'كلينتون']</td>\n",
       "      <td>Alittihad</td>\n",
       "      <td>neutral</td>\n",
       "      <td>0.9615980386734009</td>\n",
       "      <td>neutral</td>\n",
       "      <td>0.974024</td>\n",
       "      <td>194</td>\n",
       "    </tr>\n",
       "    <tr>\n",
       "      <th>2</th>\n",
       "      <td>2</td>\n",
       "      <td>ETD_ARB_0000036</td>\n",
       "      <td>http://www.alittihad.ae/details.php?id=56&amp;y=20...</td>\n",
       "      <td>شلهوب والحاسوب ·· يقدم وجبة تعليمية وفكرية ممت...</td>\n",
       "      <td>2008-01-01</td>\n",
       "      <td>''''كم هو جميل، هذا العالم السحري عالم الأطفال...</td>\n",
       "      <td>['بوش']</td>\n",
       "      <td>Alittihad</td>\n",
       "      <td>False</td>\n",
       "      <td>False</td>\n",
       "      <td>positive</td>\n",
       "      <td>0.836829</td>\n",
       "      <td>9074</td>\n",
       "    </tr>\n",
       "    <tr>\n",
       "      <th>3</th>\n",
       "      <td>3</td>\n",
       "      <td>ETD_ARB_0000062</td>\n",
       "      <td>http://www.alittihad.ae/details.php?id=82&amp;y=20...</td>\n",
       "      <td>48 قتيلاً وجريحاً باعتداءات متفرقة في العراق</td>\n",
       "      <td>2008-01-01</td>\n",
       "      <td>في استهداف جديد لعناصر ''''صحوة'''' العشائر ال...</td>\n",
       "      <td>['القاعدة']</td>\n",
       "      <td>Alittihad</td>\n",
       "      <td>neutral</td>\n",
       "      <td>0.8726907769838969</td>\n",
       "      <td>negative</td>\n",
       "      <td>0.701162</td>\n",
       "      <td>11201</td>\n",
       "    </tr>\n",
       "    <tr>\n",
       "      <th>4</th>\n",
       "      <td>4</td>\n",
       "      <td>ETD_ARB_0000065</td>\n",
       "      <td>http://www.alittihad.ae/details.php?id=85&amp;y=20...</td>\n",
       "      <td>النفط فوق 100 دولار·· هيلاري رئيسة لأميركا·· ا...</td>\n",
       "      <td>2008-01-01</td>\n",
       "      <td>استقبل العالم أول أيام العام الجديد ،2008 باحت...</td>\n",
       "      <td>['كلينتون']</td>\n",
       "      <td>Alittihad</td>\n",
       "      <td>neutral</td>\n",
       "      <td>0.9573821425437927</td>\n",
       "      <td>neutral</td>\n",
       "      <td>0.791736</td>\n",
       "      <td>725</td>\n",
       "    </tr>\n",
       "  </tbody>\n",
       "</table>\n",
       "</div>"
      ],
      "text/plain": [
       "   index               id                                                url  \\\n",
       "0      0  ETD_ARB_0000033  http://www.alittihad.ae/details.php?id=53&y=20...   \n",
       "1      1  ETD_ARB_0000035  http://www.alittihad.ae/details.php?id=55&y=20...   \n",
       "2      2  ETD_ARB_0000036  http://www.alittihad.ae/details.php?id=56&y=20...   \n",
       "3      3  ETD_ARB_0000062  http://www.alittihad.ae/details.php?id=82&y=20...   \n",
       "4      4  ETD_ARB_0000065  http://www.alittihad.ae/details.php?id=85&y=20...   \n",
       "\n",
       "                                            headline    dateline  \\\n",
       "0  الوثائق الرئاسية الأميركية··· متجاهلو التاريخ ...  2008-01-01   \n",
       "1                                   التنبؤات السنوية  2008-01-01   \n",
       "2  شلهوب والحاسوب ·· يقدم وجبة تعليمية وفكرية ممت...  2008-01-01   \n",
       "3       48 قتيلاً وجريحاً باعتداءات متفرقة في العراق  2008-01-01   \n",
       "4  النفط فوق 100 دولار·· هيلاري رئيسة لأميركا·· ا...  2008-01-01   \n",
       "\n",
       "                                                text                   tags  \\\n",
       "0  ربما نسي الكثيرون الآن الأمر التنفيذي الخاص با...      ['واشنطن', 'بوش']   \n",
       "1  هذه هي حلقة التنبؤات المشتركة السنوية الرابعة ...  ['أوباما', 'كلينتون']   \n",
       "2  ''''كم هو جميل، هذا العالم السحري عالم الأطفال...                ['بوش']   \n",
       "3  في استهداف جديد لعناصر ''''صحوة'''' العشائر ال...            ['القاعدة']   \n",
       "4  استقبل العالم أول أيام العام الجديد ،2008 باحت...            ['كلينتون']   \n",
       "\n",
       "      source text_label          text_score headline_label  headline_score  \\\n",
       "0  Alittihad      False               False       negative        0.992800   \n",
       "1  Alittihad    neutral  0.9615980386734009        neutral        0.974024   \n",
       "2  Alittihad      False               False       positive        0.836829   \n",
       "3  Alittihad    neutral  0.8726907769838969       negative        0.701162   \n",
       "4  Alittihad    neutral  0.9573821425437927        neutral        0.791736   \n",
       "\n",
       "   tag_count  \n",
       "0       2464  \n",
       "1        194  \n",
       "2       9074  \n",
       "3      11201  \n",
       "4        725  "
      ]
     },
     "execution_count": 14,
     "metadata": {},
     "output_type": "execute_result"
    }
   ],
   "source": [
    "tags.head()"
   ]
  },
  {
   "cell_type": "code",
   "execution_count": 15,
   "id": "b2b55ac0",
   "metadata": {},
   "outputs": [],
   "source": [
    "df = tags"
   ]
  },
  {
   "cell_type": "code",
   "execution_count": 16,
   "id": "0b78e587",
   "metadata": {},
   "outputs": [
    {
     "name": "stderr",
     "output_type": "stream",
     "text": [
      "/var/folders/s4/hmz6ljm533vgpm_bhv59yw0m0000gn/T/ipykernel_96342/1571876605.py:38: SettingWithCopyWarning: \n",
      "A value is trying to be set on a copy of a slice from a DataFrame.\n",
      "Try using .loc[row_indexer,col_indexer] = value instead\n",
      "\n",
      "See the caveats in the documentation: https://pandas.pydata.org/pandas-docs/stable/user_guide/indexing.html#returning-a-view-versus-a-copy\n",
      "  df['english_tags'] = tags.tags.apply(make_eng_tags)\n"
     ]
    }
   ],
   "source": [
    "\n",
    "topics = {'America' : 'أمريكا',\n",
    "            'American' : 'أمريكيّ',\n",
    "            'American (f)' : 'أمريكيّة',\n",
    "            'American (pl)' : 'أمريكيّين',\n",
    "            'The United States' : 'الولايات المتحدة',\n",
    "            'The United States' : 'دول موحّدة',\n",
    "            'Washington' : 'واشنطن',\n",
    "            'Bush' : 'بوش',\n",
    "            'Obama' : 'أوباما',\n",
    "            'Cheney' : 'تشيني',\n",
    "            'Clinton' : 'كلينتون',\n",
    "            'Osama Bin Laden' : 'أسامة بن لادن',\n",
    "            'Al Gore' : 'آل غور',\n",
    "            'World Trade Center' : 'مركز التجارة العالمي',\n",
    "            '9/11' : '9/11',\n",
    "            'September 11' : '11 سبتمبر',\n",
    "            'Gulf War' : 'حرب الخليج',\n",
    "            'Google' : 'غوغل',\n",
    "            'Facebook' : 'فيسبوك',\n",
    "            'Al Qaida' : 'القاعدة'}\n",
    "\n",
    "def flip_key_value_pairs(dicts):\n",
    "    \n",
    "    res = dict((v,k) for k,v in dicts.items())    \n",
    "    return res\n",
    "\n",
    "\n",
    "def make_eng_tags(df_tags):\n",
    "    eng_tags =[]\n",
    "    \n",
    "    rev_topics = flip_key_value_pairs(topics)\n",
    "    for key, value in rev_topics.items():\n",
    "        if key in df_tags:\n",
    "            eng_tags.append(value)\n",
    "            \n",
    "    return eng_tags\n",
    "\n",
    "df['english_tags'] = tags.tags.apply(make_eng_tags)"
   ]
  },
  {
   "cell_type": "code",
   "execution_count": 192,
   "id": "0420a75a",
   "metadata": {},
   "outputs": [
    {
     "data": {
      "text/html": [
       "<div>\n",
       "<style scoped>\n",
       "    .dataframe tbody tr th:only-of-type {\n",
       "        vertical-align: middle;\n",
       "    }\n",
       "\n",
       "    .dataframe tbody tr th {\n",
       "        vertical-align: top;\n",
       "    }\n",
       "\n",
       "    .dataframe thead th {\n",
       "        text-align: right;\n",
       "    }\n",
       "</style>\n",
       "<table border=\"1\" class=\"dataframe\">\n",
       "  <thead>\n",
       "    <tr style=\"text-align: right;\">\n",
       "      <th></th>\n",
       "      <th>index</th>\n",
       "      <th>Unnamed: 0</th>\n",
       "      <th>id</th>\n",
       "      <th>url</th>\n",
       "      <th>headline</th>\n",
       "      <th>dateline</th>\n",
       "      <th>text</th>\n",
       "      <th>tags</th>\n",
       "      <th>source</th>\n",
       "      <th>text_label</th>\n",
       "      <th>text_score</th>\n",
       "      <th>headline_label</th>\n",
       "      <th>headline_score</th>\n",
       "      <th>tag_count</th>\n",
       "      <th>english_tags</th>\n",
       "    </tr>\n",
       "  </thead>\n",
       "  <tbody>\n",
       "    <tr>\n",
       "      <th>0</th>\n",
       "      <td>0</td>\n",
       "      <td>274890</td>\n",
       "      <td>TRN_ARB_0297955</td>\n",
       "      <td>http://tishreen.news.sy/tishreen/public/read/2...</td>\n",
       "      <td>وزير الخارجية الصيني: سنقوم بدور بنّاء وإيجابي...</td>\n",
       "      <td>2013-09-20</td>\n",
       "      <td>\\n20/09/2013\\nوزير الخارجية الصيني: سنقوم بدور...</td>\n",
       "      <td>['واشنطن']</td>\n",
       "      <td>Techreen</td>\n",
       "      <td>neutral</td>\n",
       "      <td>0.9574713706970215</td>\n",
       "      <td>neutral</td>\n",
       "      <td>0.538953</td>\n",
       "      <td>4393</td>\n",
       "      <td>[Washington]</td>\n",
       "    </tr>\n",
       "    <tr>\n",
       "      <th>1</th>\n",
       "      <td>1</td>\n",
       "      <td>274891</td>\n",
       "      <td>TRN_ARB_0297957</td>\n",
       "      <td>http://tishreen.news.sy/tishreen/public/read/2...</td>\n",
       "      <td>قواتنا الباسلة تضيّق الخناق على إرهابيي «القاع...</td>\n",
       "      <td>2013-09-20</td>\n",
       "      <td>\\n20/09/2013\\nضبط مستودع أسلحة للإرهابيين في د...</td>\n",
       "      <td>['القاعدة']</td>\n",
       "      <td>Techreen</td>\n",
       "      <td>False</td>\n",
       "      <td>False</td>\n",
       "      <td>positive</td>\n",
       "      <td>0.899801</td>\n",
       "      <td>4015</td>\n",
       "      <td>[Al Qaida]</td>\n",
       "    </tr>\n",
       "    <tr>\n",
       "      <th>2</th>\n",
       "      <td>2</td>\n",
       "      <td>274892</td>\n",
       "      <td>TRN_ARB_0297958</td>\n",
       "      <td>http://tishreen.news.sy/tishreen/public/read/2...</td>\n",
       "      <td>وزير الخارجية الإيراني: انضمام سورية لمعاهدة ح...</td>\n",
       "      <td>2013-09-20</td>\n",
       "      <td>\\n20/09/2013\\nوزير الخارجية الإيراني: انضمام س...</td>\n",
       "      <td>['واشنطن']</td>\n",
       "      <td>Techreen</td>\n",
       "      <td>neutral</td>\n",
       "      <td>0.5859406590461731</td>\n",
       "      <td>neutral</td>\n",
       "      <td>0.774108</td>\n",
       "      <td>4393</td>\n",
       "      <td>[Washington]</td>\n",
       "    </tr>\n",
       "    <tr>\n",
       "      <th>3</th>\n",
       "      <td>3</td>\n",
       "      <td>274893</td>\n",
       "      <td>TRN_ARB_0297960</td>\n",
       "      <td>http://tishreen.news.sy/tishreen/public/read/2...</td>\n",
       "      <td>استمرار أمريكا وحلفائها بدعم وتسليح الإرهابيين...</td>\n",
       "      <td>2013-09-20</td>\n",
       "      <td>\\n20/09/2013\\n«الخارجية» في رسالتين إلى رئيس م...</td>\n",
       "      <td>['أمريكا', 'القاعدة']</td>\n",
       "      <td>Techreen</td>\n",
       "      <td>negative</td>\n",
       "      <td>0.9461716612180074</td>\n",
       "      <td>negative</td>\n",
       "      <td>0.957832</td>\n",
       "      <td>128</td>\n",
       "      <td>[America, Al Qaida]</td>\n",
       "    </tr>\n",
       "    <tr>\n",
       "      <th>4</th>\n",
       "      <td>4</td>\n",
       "      <td>274894</td>\n",
       "      <td>TRN_ARB_0297984</td>\n",
       "      <td>http://tishreen.news.sy/tishreen/public/read/2...</td>\n",
       "      <td>المفاوض الفلسطيني.. والسباحة من جديد في بحر ال...</td>\n",
       "      <td>2013-09-22</td>\n",
       "      <td>\\n22/09/2013\\nالمفاوض الفلسطيني.. والسباحة من ...</td>\n",
       "      <td>['واشنطن']</td>\n",
       "      <td>Techreen</td>\n",
       "      <td>negative</td>\n",
       "      <td>0.9543005029360453</td>\n",
       "      <td>negative</td>\n",
       "      <td>0.954988</td>\n",
       "      <td>4393</td>\n",
       "      <td>[Washington]</td>\n",
       "    </tr>\n",
       "    <tr>\n",
       "      <th>...</th>\n",
       "      <td>...</td>\n",
       "      <td>...</td>\n",
       "      <td>...</td>\n",
       "      <td>...</td>\n",
       "      <td>...</td>\n",
       "      <td>...</td>\n",
       "      <td>...</td>\n",
       "      <td>...</td>\n",
       "      <td>...</td>\n",
       "      <td>...</td>\n",
       "      <td>...</td>\n",
       "      <td>...</td>\n",
       "      <td>...</td>\n",
       "      <td>...</td>\n",
       "      <td>...</td>\n",
       "    </tr>\n",
       "    <tr>\n",
       "      <th>23557</th>\n",
       "      <td>352</td>\n",
       "      <td>121732</td>\n",
       "      <td>QBS_ARB_0250040</td>\n",
       "      <td>http://www.alqabas.com.kw/print/263738</td>\n",
       "      <td>بوتفليقة يبحث مع كلينتون تعزيز الشراكة الاقتصا...</td>\n",
       "      <td>2012-10-29</td>\n",
       "      <td>(كونا) -- بحث الرئيس الجزائري عبدالعزيز بوتفلي...</td>\n",
       "      <td>['أمريكا', 'واشنطن', 'كلينتون']</td>\n",
       "      <td>Alqabas</td>\n",
       "      <td>neutral</td>\n",
       "      <td>0.990750253200531</td>\n",
       "      <td>neutral</td>\n",
       "      <td>0.994249</td>\n",
       "      <td>11</td>\n",
       "      <td>[America, Washington, Clinton]</td>\n",
       "    </tr>\n",
       "    <tr>\n",
       "      <th>23558</th>\n",
       "      <td>353</td>\n",
       "      <td>121733</td>\n",
       "      <td>QBS_ARB_0250057</td>\n",
       "      <td>http://www.alqabas.com.kw/print/263755</td>\n",
       "      <td>الصراع في سوريا يشحذ عزيمة الجهاديين الأردنيين</td>\n",
       "      <td>2012-10-29</td>\n",
       "      <td>عمان- سليمان الخالدي (رويترز)- يسلط إعلان الأر...</td>\n",
       "      <td>['القاعدة']</td>\n",
       "      <td>Alqabas</td>\n",
       "      <td>False</td>\n",
       "      <td>False</td>\n",
       "      <td>positive</td>\n",
       "      <td>0.820226</td>\n",
       "      <td>4015</td>\n",
       "      <td>[Al Qaida]</td>\n",
       "    </tr>\n",
       "    <tr>\n",
       "      <th>23559</th>\n",
       "      <td>354</td>\n",
       "      <td>121734</td>\n",
       "      <td>QBS_ARB_0250059</td>\n",
       "      <td>http://www.alqabas.com.kw/print/263757</td>\n",
       "      <td>العودة يدعو إلى الامتناع عن السفر إلى سوريا لل...</td>\n",
       "      <td>2012-10-29</td>\n",
       "      <td>الرياض - يو بي آي - دعا عالم الدين السعودي، ال...</td>\n",
       "      <td>['القاعدة']</td>\n",
       "      <td>Alqabas</td>\n",
       "      <td>neutral</td>\n",
       "      <td>0.6828629374504089</td>\n",
       "      <td>neutral</td>\n",
       "      <td>0.902794</td>\n",
       "      <td>4015</td>\n",
       "      <td>[Al Qaida]</td>\n",
       "    </tr>\n",
       "    <tr>\n",
       "      <th>23560</th>\n",
       "      <td>355</td>\n",
       "      <td>121735</td>\n",
       "      <td>QBS_ARB_0250084</td>\n",
       "      <td>http://www.alqabas.com.kw/print/263784</td>\n",
       "      <td>ميامي وليكرز أبرز المرشحين لنيل اللقب</td>\n",
       "      <td>2012-10-29</td>\n",
       "      <td>واشنطن - أ ف ب - يشهد الموسم المقبل من الدوري ...</td>\n",
       "      <td>['واشنطن', 'بوش']</td>\n",
       "      <td>Alqabas</td>\n",
       "      <td>neutral</td>\n",
       "      <td>0.9449390172958374</td>\n",
       "      <td>neutral</td>\n",
       "      <td>0.904816</td>\n",
       "      <td>804</td>\n",
       "      <td>[Washington, Bush]</td>\n",
       "    </tr>\n",
       "    <tr>\n",
       "      <th>23561</th>\n",
       "      <td>356</td>\n",
       "      <td>121736</td>\n",
       "      <td>QBS_ARB_0250090</td>\n",
       "      <td>http://www.alqabas.com.kw/print/263792</td>\n",
       "      <td>اوباما يحذر مواطنيه من خطر الاعصار ساندي</td>\n",
       "      <td>2012-10-29</td>\n",
       "      <td>(ا ف ب) - حذر الرئيس باراك اوباما الاثنين مواط...</td>\n",
       "      <td>['واشنطن']</td>\n",
       "      <td>Alqabas</td>\n",
       "      <td>neutral</td>\n",
       "      <td>0.9412329792976379</td>\n",
       "      <td>neutral</td>\n",
       "      <td>0.825468</td>\n",
       "      <td>4393</td>\n",
       "      <td>[Washington]</td>\n",
       "    </tr>\n",
       "  </tbody>\n",
       "</table>\n",
       "<p>22896 rows × 15 columns</p>\n",
       "</div>"
      ],
      "text/plain": [
       "       index  Unnamed: 0               id  \\\n",
       "0          0      274890  TRN_ARB_0297955   \n",
       "1          1      274891  TRN_ARB_0297957   \n",
       "2          2      274892  TRN_ARB_0297958   \n",
       "3          3      274893  TRN_ARB_0297960   \n",
       "4          4      274894  TRN_ARB_0297984   \n",
       "...      ...         ...              ...   \n",
       "23557    352      121732  QBS_ARB_0250040   \n",
       "23558    353      121733  QBS_ARB_0250057   \n",
       "23559    354      121734  QBS_ARB_0250059   \n",
       "23560    355      121735  QBS_ARB_0250084   \n",
       "23561    356      121736  QBS_ARB_0250090   \n",
       "\n",
       "                                                     url  \\\n",
       "0      http://tishreen.news.sy/tishreen/public/read/2...   \n",
       "1      http://tishreen.news.sy/tishreen/public/read/2...   \n",
       "2      http://tishreen.news.sy/tishreen/public/read/2...   \n",
       "3      http://tishreen.news.sy/tishreen/public/read/2...   \n",
       "4      http://tishreen.news.sy/tishreen/public/read/2...   \n",
       "...                                                  ...   \n",
       "23557             http://www.alqabas.com.kw/print/263738   \n",
       "23558             http://www.alqabas.com.kw/print/263755   \n",
       "23559             http://www.alqabas.com.kw/print/263757   \n",
       "23560             http://www.alqabas.com.kw/print/263784   \n",
       "23561             http://www.alqabas.com.kw/print/263792   \n",
       "\n",
       "                                                headline   dateline  \\\n",
       "0      وزير الخارجية الصيني: سنقوم بدور بنّاء وإيجابي... 2013-09-20   \n",
       "1      قواتنا الباسلة تضيّق الخناق على إرهابيي «القاع... 2013-09-20   \n",
       "2      وزير الخارجية الإيراني: انضمام سورية لمعاهدة ح... 2013-09-20   \n",
       "3      استمرار أمريكا وحلفائها بدعم وتسليح الإرهابيين... 2013-09-20   \n",
       "4      المفاوض الفلسطيني.. والسباحة من جديد في بحر ال... 2013-09-22   \n",
       "...                                                  ...        ...   \n",
       "23557  بوتفليقة يبحث مع كلينتون تعزيز الشراكة الاقتصا... 2012-10-29   \n",
       "23558     الصراع في سوريا يشحذ عزيمة الجهاديين الأردنيين 2012-10-29   \n",
       "23559  العودة يدعو إلى الامتناع عن السفر إلى سوريا لل... 2012-10-29   \n",
       "23560              ميامي وليكرز أبرز المرشحين لنيل اللقب 2012-10-29   \n",
       "23561           اوباما يحذر مواطنيه من خطر الاعصار ساندي 2012-10-29   \n",
       "\n",
       "                                                    text  \\\n",
       "0      \\n20/09/2013\\nوزير الخارجية الصيني: سنقوم بدور...   \n",
       "1      \\n20/09/2013\\nضبط مستودع أسلحة للإرهابيين في د...   \n",
       "2      \\n20/09/2013\\nوزير الخارجية الإيراني: انضمام س...   \n",
       "3      \\n20/09/2013\\n«الخارجية» في رسالتين إلى رئيس م...   \n",
       "4      \\n22/09/2013\\nالمفاوض الفلسطيني.. والسباحة من ...   \n",
       "...                                                  ...   \n",
       "23557  (كونا) -- بحث الرئيس الجزائري عبدالعزيز بوتفلي...   \n",
       "23558  عمان- سليمان الخالدي (رويترز)- يسلط إعلان الأر...   \n",
       "23559  الرياض - يو بي آي - دعا عالم الدين السعودي، ال...   \n",
       "23560  واشنطن - أ ف ب - يشهد الموسم المقبل من الدوري ...   \n",
       "23561  (ا ف ب) - حذر الرئيس باراك اوباما الاثنين مواط...   \n",
       "\n",
       "                                  tags    source text_label  \\\n",
       "0                           ['واشنطن']  Techreen    neutral   \n",
       "1                          ['القاعدة']  Techreen      False   \n",
       "2                           ['واشنطن']  Techreen    neutral   \n",
       "3                ['أمريكا', 'القاعدة']  Techreen   negative   \n",
       "4                           ['واشنطن']  Techreen   negative   \n",
       "...                                ...       ...        ...   \n",
       "23557  ['أمريكا', 'واشنطن', 'كلينتون']   Alqabas    neutral   \n",
       "23558                      ['القاعدة']   Alqabas      False   \n",
       "23559                      ['القاعدة']   Alqabas    neutral   \n",
       "23560                ['واشنطن', 'بوش']   Alqabas    neutral   \n",
       "23561                       ['واشنطن']   Alqabas    neutral   \n",
       "\n",
       "               text_score headline_label  headline_score  tag_count  \\\n",
       "0      0.9574713706970215        neutral        0.538953       4393   \n",
       "1                   False       positive        0.899801       4015   \n",
       "2      0.5859406590461731        neutral        0.774108       4393   \n",
       "3      0.9461716612180074       negative        0.957832        128   \n",
       "4      0.9543005029360453       negative        0.954988       4393   \n",
       "...                   ...            ...             ...        ...   \n",
       "23557   0.990750253200531        neutral        0.994249         11   \n",
       "23558               False       positive        0.820226       4015   \n",
       "23559  0.6828629374504089        neutral        0.902794       4015   \n",
       "23560  0.9449390172958374        neutral        0.904816        804   \n",
       "23561  0.9412329792976379        neutral        0.825468       4393   \n",
       "\n",
       "                         english_tags  \n",
       "0                        [Washington]  \n",
       "1                          [Al Qaida]  \n",
       "2                        [Washington]  \n",
       "3                 [America, Al Qaida]  \n",
       "4                        [Washington]  \n",
       "...                               ...  \n",
       "23557  [America, Washington, Clinton]  \n",
       "23558                      [Al Qaida]  \n",
       "23559                      [Al Qaida]  \n",
       "23560              [Washington, Bush]  \n",
       "23561                    [Washington]  \n",
       "\n",
       "[22896 rows x 15 columns]"
      ]
     },
     "execution_count": 192,
     "metadata": {},
     "output_type": "execute_result"
    }
   ],
   "source": [
    "df"
   ]
  },
  {
   "cell_type": "code",
   "execution_count": 17,
   "id": "922542cb",
   "metadata": {},
   "outputs": [
    {
     "name": "stdout",
     "output_type": "stream",
     "text": [
      "<class 'pandas.core.frame.DataFrame'>\n",
      "Int64Index: 53991 entries, 0 to 54161\n",
      "Data columns (total 14 columns):\n",
      " #   Column          Non-Null Count  Dtype  \n",
      "---  ------          --------------  -----  \n",
      " 0   index           53991 non-null  int64  \n",
      " 1   id              53991 non-null  object \n",
      " 2   url             53991 non-null  object \n",
      " 3   headline        53991 non-null  object \n",
      " 4   dateline        53991 non-null  object \n",
      " 5   text            53991 non-null  object \n",
      " 6   tags            53991 non-null  object \n",
      " 7   source          53991 non-null  object \n",
      " 8   text_label      53991 non-null  object \n",
      " 9   text_score      53991 non-null  object \n",
      " 10  headline_label  53991 non-null  object \n",
      " 11  headline_score  53991 non-null  float64\n",
      " 12  tag_count       53991 non-null  int64  \n",
      " 13  english_tags    53991 non-null  object \n",
      "dtypes: float64(1), int64(2), object(11)\n",
      "memory usage: 6.2+ MB\n"
     ]
    }
   ],
   "source": [
    "df.info()"
   ]
  },
  {
   "cell_type": "code",
   "execution_count": 18,
   "id": "aef019f8",
   "metadata": {},
   "outputs": [
    {
     "ename": "TypeError",
     "evalue": "unhashable type: 'list'",
     "output_type": "error",
     "traceback": [
      "\u001b[0;31m---------------------------------------------------------------------------\u001b[0m",
      "\u001b[0;31mTypeError\u001b[0m                                 Traceback (most recent call last)",
      "\u001b[0;32mpandas/_libs/hashtable_class_helper.pxi\u001b[0m in \u001b[0;36mpandas._libs.hashtable.PyObjectHashTable.map_locations\u001b[0;34m()\u001b[0m\n",
      "\u001b[0;31mTypeError\u001b[0m: unhashable type: 'list'"
     ]
    },
    {
     "name": "stderr",
     "output_type": "stream",
     "text": [
      "Exception ignored in: 'pandas._libs.index.IndexEngine._call_map_locations'\n",
      "Traceback (most recent call last):\n",
      "  File \"pandas/_libs/hashtable_class_helper.pxi\", line 5231, in pandas._libs.hashtable.PyObjectHashTable.map_locations\n",
      "TypeError: unhashable type: 'list'\n"
     ]
    },
    {
     "data": {
      "text/plain": [
       "[Washington]                                            11218\n",
       "[Al Qaida]                                              11201\n",
       "[Bush]                                                   9074\n",
       "[America]                                                3199\n",
       "[Facebook]                                               2528\n",
       "                                                        ...  \n",
       "[Washington, Bush, 9/11]                                    2\n",
       "[Washington, Bush, Obama, Osama Bin Laden]                  2\n",
       "[Washington, Bush, Google]                                  2\n",
       "[Bush, Cheney, Clinton, September 11, Al Qaida]             2\n",
       "[Washington, Obama, Clinton, September 11, Al Qaida]        2\n",
       "Name: english_tags, Length: 264, dtype: int64"
      ]
     },
     "execution_count": 18,
     "metadata": {},
     "output_type": "execute_result"
    }
   ],
   "source": [
    "df.english_tags.value_counts()"
   ]
  },
  {
   "cell_type": "code",
   "execution_count": 321,
   "id": "df045932",
   "metadata": {},
   "outputs": [],
   "source": [
    "df = df.dropna()"
   ]
  },
  {
   "cell_type": "code",
   "execution_count": 19,
   "id": "43e84932",
   "metadata": {},
   "outputs": [
    {
     "data": {
      "text/plain": [
       "0            [Washington, Bush]\n",
       "1              [Obama, Clinton]\n",
       "2                        [Bush]\n",
       "3                    [Al Qaida]\n",
       "4                     [Clinton]\n",
       "                  ...          \n",
       "54157                [Al Qaida]\n",
       "54158                   [Obama]\n",
       "54159    [Washington, Al Qaida]\n",
       "54160              [Washington]\n",
       "54161         [Obama, Al Qaida]\n",
       "Name: english_tags, Length: 53991, dtype: object"
      ]
     },
     "execution_count": 19,
     "metadata": {},
     "output_type": "execute_result"
    }
   ],
   "source": [
    "df['english_tags'] "
   ]
  },
  {
   "cell_type": "code",
   "execution_count": 177,
   "id": "12f94707",
   "metadata": {},
   "outputs": [],
   "source": []
  },
  {
   "cell_type": "code",
   "execution_count": 20,
   "id": "95f6eef1",
   "metadata": {},
   "outputs": [
    {
     "name": "stderr",
     "output_type": "stream",
     "text": [
      "/var/folders/s4/hmz6ljm533vgpm_bhv59yw0m0000gn/T/ipykernel_96342/1390237561.py:1: SettingWithCopyWarning: \n",
      "A value is trying to be set on a copy of a slice from a DataFrame.\n",
      "Try using .loc[row_indexer,col_indexer] = value instead\n",
      "\n",
      "See the caveats in the documentation: https://pandas.pydata.org/pandas-docs/stable/user_guide/indexing.html#returning-a-view-versus-a-copy\n",
      "  df['string_tags'] = df['english_tags'].apply(lambda x: ','.join(map(str, x)))\n"
     ]
    }
   ],
   "source": [
    "df['string_tags'] = df['english_tags'].apply(lambda x: ','.join(map(str, x)))"
   ]
  },
  {
   "cell_type": "code",
   "execution_count": 21,
   "id": "e18f0c65",
   "metadata": {},
   "outputs": [
    {
     "data": {
      "text/plain": [
       "array(['Washington,Bush', 'Obama,Clinton', 'Bush', 'Al Qaida', 'Clinton',\n",
       "       'Washington', 'Osama Bin Laden,Al Qaida', 'Bush,Clinton',\n",
       "       'September 11', 'Washington,Bush,Al Qaida', 'Bush,Obama,Clinton',\n",
       "       'Google', 'America',\n",
       "       'Washington,Bush,Obama,Osama Bin Laden,Al Qaida',\n",
       "       'Washington,Al Qaida', 'Washington,Bush,Clinton',\n",
       "       'Bush,Cheney,Al Qaida',\n",
       "       'Washington,Bush,Cheney,Osama Bin Laden,Al Qaida', 'Bush,Obama',\n",
       "       'Washington,Bush,Cheney,Al Qaida', 'Cheney',\n",
       "       'Washington,Bush,Gulf War', 'Washington,Obama,Clinton',\n",
       "       'Bush,Al Qaida', 'Bush,Obama,Clinton,Al Qaida', 'Gulf War',\n",
       "       'Washington,Obama,Clinton,Al Qaida', 'Washington,Clinton',\n",
       "       'Washington,Obama,Clinton,Al Gore', 'Bush,September 11,Al Qaida',\n",
       "       '9/11', 'Washington,Bush,Obama,Clinton',\n",
       "       'Bush,Obama,Cheney,Clinton', 'Washington,Bush,September 11',\n",
       "       'Washington,Osama Bin Laden,Al Qaida', 'Washington,Gulf War',\n",
       "       'Washington,Bush,Cheney', 'World Trade Center', 'Bush,Cheney',\n",
       "       'Washington,September 11', 'Washington,Cheney', 'Bush,Gulf War',\n",
       "       'Bush,Clinton,Al Qaida', 'Osama Bin Laden',\n",
       "       'Bush,Osama Bin Laden,Al Qaida',\n",
       "       'Washington,Bush,Osama Bin Laden,Al Qaida',\n",
       "       'Washington,Bush,Al Gore', 'World Trade Center,Al Qaida',\n",
       "       'Washington,World Trade Center', 'Washington,9/11', 'America,Bush',\n",
       "       'Cheney,Al Qaida', 'America,Washington,Bush',\n",
       "       'Washington,Bush,Clinton,Al Qaida', 'Bush,Osama Bin Laden',\n",
       "       'Washington,Cheney,Al Qaida',\n",
       "       'Washington,Bush,World Trade Center,September 11',\n",
       "       'Osama Bin Laden,9/11,Al Qaida', 'Gulf War,Al Qaida',\n",
       "       'Washington,Bush,Gulf War,Al Qaida',\n",
       "       'Osama Bin Laden,Gulf War,Al Qaida',\n",
       "       'Osama Bin Laden,September 11,Al Qaida',\n",
       "       'Washington,Clinton,Gulf War', 'Bush,Cheney,Clinton',\n",
       "       'Washington,Bush,Osama Bin Laden', 'Bush,9/11',\n",
       "       'Clinton,Osama Bin Laden,Al Qaida', 'Bush,Gulf War,Al Qaida',\n",
       "       'America,Al Qaida', 'Washington,Bush,Cheney,World Trade Center',\n",
       "       'Google,Al Qaida', 'Clinton,Al Qaida',\n",
       "       'Washington,Osama Bin Laden', 'American,American (pl)',\n",
       "       'Washington,Obama', 'Obama,Al Qaida', 'Facebook',\n",
       "       'Bush,Obama,Cheney,Clinton,Al Qaida', 'Obama',\n",
       "       'Washington,Bush,Obama', 'Washington,Obama,Al Qaida',\n",
       "       'Washington,Bush,Obama,Cheney', 'Washington,Clinton,Al Qaida',\n",
       "       'Washington,Obama,Osama Bin Laden,September 11,Al Qaida',\n",
       "       'September 11,Al Qaida', 'Obama,Clinton,Osama Bin Laden,Al Qaida',\n",
       "       'Obama,Clinton,Al Qaida', 'Obama,September 11',\n",
       "       'Washington,September 11,Al Qaida',\n",
       "       'Washington,Bush,Clinton,Gulf War',\n",
       "       'Washington,Bush,Clinton,September 11', 'Bush,World Trade Center',\n",
       "       'Osama Bin Laden,Gulf War',\n",
       "       'Washington,Osama Bin Laden,September 11,Al Qaida',\n",
       "       'Washington,Bush,Cheney,Clinton,September 11',\n",
       "       'Washington,Bush,Clinton,Osama Bin Laden,September 11,Al Qaida',\n",
       "       'Washington,Bush,September 11,Al Qaida',\n",
       "       'Washington,Cheney,Osama Bin Laden,Al Qaida',\n",
       "       'Clinton,Gulf War,Al Qaida', 'Bush,September 11',\n",
       "       'America,Washington', 'Bush,Cheney,September 11,Al Qaida',\n",
       "       'Washington,Google', 'Bush,World Trade Center,September 11',\n",
       "       'Washington,World Trade Center,September 11,Al Qaida',\n",
       "       'September 11,Gulf War', 'Washington,Bush,Cheney,September 11',\n",
       "       'World Trade Center,September 11',\n",
       "       'World Trade Center,September 11,Al Qaida', 'Google,Facebook',\n",
       "       'Obama,Facebook', 'Osama Bin Laden,September 11',\n",
       "       'Washington,Bush,Obama,Clinton,September 11',\n",
       "       'Washington,Facebook',\n",
       "       'Washington,Bush,Obama,Osama Bin Laden,September 11,Al Qaida',\n",
       "       'Obama,Osama Bin Laden', 'Obama,Google', 'Obama,Clinton,Facebook',\n",
       "       'Washington,Bush,Osama Bin Laden,September 11,Al Qaida',\n",
       "       'Washington,Bush,Obama,Clinton,World Trade Center,September 11,Al Qaida',\n",
       "       'Washington,Clinton,September 11',\n",
       "       'Washington,Obama,Clinton,Osama Bin Laden,Al Qaida',\n",
       "       'Obama,Clinton,September 11', 'Bush,Obama,Al Qaida',\n",
       "       'Obama,September 11,Al Qaida',\n",
       "       'Washington,Bush,Obama,Clinton,Al Qaida',\n",
       "       'Washington,Obama,Clinton,September 11',\n",
       "       'Washington,Bush,Obama,Al Qaida', 'Obama,World Trade Center',\n",
       "       'Washington,Obama,Facebook', 'Facebook,Al Qaida',\n",
       "       'Washington,Obama,September 11,Al Qaida', 'Obama,Google,Facebook',\n",
       "       'Clinton,September 11', 'Washington,Bush,Facebook',\n",
       "       'Bush,Facebook', 'Bush,Google,Facebook',\n",
       "       'Washington,Facebook,Al Qaida', 'Clinton,Facebook',\n",
       "       '9/11,Al Qaida', 'Washington,Bush,Obama,September 11',\n",
       "       'Clinton,Google', 'Washington,Obama,Osama Bin Laden,Al Qaida',\n",
       "       'World Trade Center,9/11', 'Washington,Obama,Facebook,Al Qaida',\n",
       "       'Bush,Google', 'Bush,Cheney,September 11', 'September 11,Facebook',\n",
       "       'Washington,Gulf War,Al Qaida', 'Washington,Obama,September 11',\n",
       "       'America,Washington,Obama',\n",
       "       'Obama,Osama Bin Laden,September 11,Al Qaida',\n",
       "       'September 11,Google', 'Obama,Osama Bin Laden,Al Qaida',\n",
       "       'Clinton,September 11,Al Qaida', 'America,Facebook',\n",
       "       'Washington,Obama,Google', 'Washington,Al Gore', 'America,Obama',\n",
       "       'Bush,Al Gore', 'America,Clinton', 'Washington,Clinton,Facebook',\n",
       "       'America,Bush,Obama',\n",
       "       'Washington,Obama,Osama Bin Laden,September 11',\n",
       "       'America,Osama Bin Laden,Al Qaida',\n",
       "       'Washington,Bush,Obama,September 11,Al Qaida',\n",
       "       'Obama,Clinton,Google', 'America,Washington,Al Qaida',\n",
       "       'Washington,Clinton,Google',\n",
       "       'Washington,Obama,Clinton,Osama Bin Laden,September 11,Al Qaida',\n",
       "       'Washington,World Trade Center,September 11',\n",
       "       'Bush,Clinton,September 11', 'Bush,Obama,September 11',\n",
       "       'America,Washington,Bush,Obama', 'Bush,Clinton,Al Gore',\n",
       "       'Washington,Bush,Clinton,Al Gore',\n",
       "       'Bush,Clinton,Osama Bin Laden,September 11,Al Qaida',\n",
       "       'America,Bush,September 11', '9/11,September 11',\n",
       "       'Washington,Bush,Cheney,Clinton',\n",
       "       'Washington,Bush,Cheney,September 11,Al Qaida',\n",
       "       'America,September 11',\n",
       "       'Bush,World Trade Center,9/11,September 11,Al Qaida',\n",
       "       'Washington,Bush,Clinton,September 11,Al Qaida', 'Al Gore',\n",
       "       'Clinton,Al Gore', 'Bush,Osama Bin Laden,September 11,Al Qaida',\n",
       "       'Washington,Osama Bin Laden,World Trade Center,September 11,Al Qaida',\n",
       "       'Bush,September 11,Gulf War',\n",
       "       'Osama Bin Laden,World Trade Center,September 11,Al Qaida',\n",
       "       'Bush,Cheney,Clinton,September 11,Al Qaida',\n",
       "       'Osama Bin Laden,Facebook,Al Qaida',\n",
       "       'Washington,Bush,9/11,September 11,Al Qaida',\n",
       "       'Washington,Bush,Google', 'Washington,Bush,Obama,Osama Bin Laden',\n",
       "       'Washington,Bush,9/11',\n",
       "       'Washington,Clinton,Osama Bin Laden,Al Qaida',\n",
       "       'America,Washington,Clinton',\n",
       "       'Washington,Clinton,September 11,Al Qaida',\n",
       "       'Bush,Clinton,Gulf War', 'America,Bush,Cheney,Clinton',\n",
       "       'Bush,Obama,Cheney', 'Clinton,Osama Bin Laden',\n",
       "       'Washington,Obama,Google,Facebook', 'Washington,Google,Facebook',\n",
       "       'Osama Bin Laden,Facebook', 'Washington,Obama,Gulf War',\n",
       "       'America,Washington,Obama,Al Qaida',\n",
       "       'America,Obama,Osama Bin Laden,Al Qaida', 'Obama,Gulf War',\n",
       "       'Obama,World Trade Center,September 11',\n",
       "       'America,September 11,Al Qaida', 'America,Google',\n",
       "       'America,Osama Bin Laden,September 11', 'Washington,Obama,Cheney',\n",
       "       'Washington,Obama,Osama Bin Laden',\n",
       "       'Clinton,Osama Bin Laden,September 11,Al Qaida',\n",
       "       'America,Bush,Al Qaida', 'America,Washington,Bush,Obama,Clinton',\n",
       "       'America,Obama,Clinton', 'America,Bush,Obama,Clinton',\n",
       "       'America,Washington,Bush,Cheney', 'America,Gulf War',\n",
       "       'America,Bush,Clinton',\n",
       "       'America,Bush,Osama Bin Laden,September 11,Al Qaida',\n",
       "       'America,Bush,Osama Bin Laden,Al Qaida',\n",
       "       'America,Washington,Bush,Al Qaida',\n",
       "       'America,Washington,September 11',\n",
       "       'America,Washington,Bush,Osama Bin Laden,Al Qaida',\n",
       "       'America,Osama Bin Laden', 'America,Bush,Osama Bin Laden',\n",
       "       'America,Washington,Bush,Osama Bin Laden,September 11,Al Qaida',\n",
       "       'America,Washington,September 11,Al Qaida',\n",
       "       'America,Osama Bin Laden,September 11,Al Qaida',\n",
       "       'America,Gulf War,Al Qaida', 'America,Bush,September 11,Al Qaida',\n",
       "       'America,Washington,Osama Bin Laden,September 11,Al Qaida',\n",
       "       'America,Washington,Bush,Obama,Al Qaida',\n",
       "       'America,Washington,Bush,Obama,Osama Bin Laden,Al Qaida',\n",
       "       'America,Bush,Obama,Al Qaida', 'America,Obama,Al Qaida',\n",
       "       'America,Obama,September 11', 'America,Washington,Obama,Clinton',\n",
       "       'America,Bush,Obama,Osama Bin Laden,Al Qaida',\n",
       "       'America,Washington,Obama,Clinton,Al Qaida',\n",
       "       'America,Washington,Bush,Clinton',\n",
       "       'Washington,Obama,World Trade Center,September 11',\n",
       "       'America,Washington,Osama Bin Laden,World Trade Center,September 11,Al Qaida',\n",
       "       'Bush,Obama,Osama Bin Laden', 'American,American (f)',\n",
       "       'Obama,World Trade Center,Al Qaida',\n",
       "       'America,Obama,Osama Bin Laden,September 11,Al Qaida',\n",
       "       'America,Washington,Obama,Osama Bin Laden,September 11,Al Qaida',\n",
       "       'America,Washington,Osama Bin Laden,Al Qaida',\n",
       "       'Bush,Obama,Osama Bin Laden,Al Qaida',\n",
       "       'America,Obama,Clinton,Al Qaida',\n",
       "       'America,Washington,Obama,Osama Bin Laden,Al Qaida',\n",
       "       'America,Obama,Osama Bin Laden', 'American',\n",
       "       'America,Bush,Gulf War', 'America,Facebook,Al Qaida',\n",
       "       'America,Washington,Obama,September 11',\n",
       "       'America,Washington,World Trade Center,September 11,Al Qaida',\n",
       "       'Washington,Obama,Clinton,September 11,Al Qaida'], dtype=object)"
      ]
     },
     "execution_count": 21,
     "metadata": {},
     "output_type": "execute_result"
    }
   ],
   "source": [
    "df['string_tags'].unique()"
   ]
  },
  {
   "cell_type": "code",
   "execution_count": 22,
   "id": "707d12ad",
   "metadata": {},
   "outputs": [
    {
     "data": {
      "text/plain": [
       "<AxesSubplot:xlabel='string_tags', ylabel='count'>"
      ]
     },
     "execution_count": 22,
     "metadata": {},
     "output_type": "execute_result"
    },
    {
     "data": {
      "image/png": "[encoded data removed]",
      "text/plain": [
       "<Figure size 1440x360 with 1 Axes>"
      ]
     },
     "metadata": {
      "needs_background": "light"
     },
     "output_type": "display_data"
    }
   ],
   "source": [
    "plt.rcParams[\"figure.figsize\"] = (20,5)\n",
    "sns.countplot(data=df, x= 'string_tags', hue='source')"
   ]
  },
  {
   "cell_type": "code",
   "execution_count": 136,
   "id": "3a713018",
   "metadata": {},
   "outputs": [
    {
     "name": "stdout",
     "output_type": "stream",
     "text": [
      "<class 'pandas.core.frame.DataFrame'>\n",
      "Int64Index: 20362 entries, 0 to 23561\n",
      "Data columns (total 16 columns):\n",
      " #   Column          Non-Null Count  Dtype         \n",
      "---  ------          --------------  -----         \n",
      " 0   index           20362 non-null  int64         \n",
      " 1   Unnamed: 0      20362 non-null  int64         \n",
      " 2   id              20362 non-null  object        \n",
      " 3   url             20362 non-null  object        \n",
      " 4   headline        20362 non-null  object        \n",
      " 5   dateline        20362 non-null  datetime64[ns]\n",
      " 6   text            20362 non-null  object        \n",
      " 7   tags            20362 non-null  object        \n",
      " 8   source          20362 non-null  object        \n",
      " 9   text_label      20362 non-null  object        \n",
      " 10  text_score      20362 non-null  object        \n",
      " 11  headline_label  20362 non-null  object        \n",
      " 12  headline_score  20362 non-null  float64       \n",
      " 13  tag_count       20362 non-null  int64         \n",
      " 14  english_tags    20362 non-null  object        \n",
      " 15  string_tags     20362 non-null  object        \n",
      "dtypes: datetime64[ns](1), float64(1), int64(3), object(11)\n",
      "memory usage: 3.1+ MB\n"
     ]
    }
   ],
   "source": [
    "df.info()"
   ]
  },
  {
   "cell_type": "code",
   "execution_count": 142,
   "id": "27dbf3aa",
   "metadata": {},
   "outputs": [
    {
     "data": {
      "text/plain": [
       "<AxesSubplot:xlabel='string_tags', ylabel='Percent'>"
      ]
     },
     "execution_count": 142,
     "metadata": {},
     "output_type": "execute_result"
    },
    {
     "data": {
      "image/png": "[encoded data removed]",
      "text/plain": [
       "<Figure size 1800x360 with 1 Axes>"
      ]
     },
     "metadata": {
      "needs_background": "light"
     },
     "output_type": "display_data"
    }
   ],
   "source": [
    "plt.rcParams[\"figure.figsize\"] = (25,5)\n",
    "sns.histplot(data=df, x= 'string_tags', hue='headline_label', stat='percent')"
   ]
  },
  {
   "cell_type": "code",
   "execution_count": 23,
   "id": "c549c076",
   "metadata": {},
   "outputs": [],
   "source": [
    "df = df[df.text_label != 'False']"
   ]
  },
  {
   "cell_type": "code",
   "execution_count": 24,
   "id": "0d4e3920",
   "metadata": {},
   "outputs": [],
   "source": [
    "bush = df[(df['string_tags'] == 'Bush')]\n",
    "obama = df[(df['string_tags'] == 'Obama')]\n",
    "clinton = df[(df['string_tags'] == 'Clinton')]"
   ]
  },
  {
   "cell_type": "code",
   "execution_count": 25,
   "id": "e78870e6",
   "metadata": {},
   "outputs": [],
   "source": [
    "washington = df[(df['string_tags'] == 'Washington')]\n",
    "al_q = df[(df['string_tags'] == 'Al Qaida')]\n",
    "america = df[(df['string_tags'] == 'America')]"
   ]
  },
  {
   "cell_type": "code",
   "execution_count": 254,
   "id": "724666f1",
   "metadata": {},
   "outputs": [
    {
     "data": {
      "text/plain": [
       "neutral     0.736866\n",
       "negative    0.205163\n",
       "positive    0.057971\n",
       "Name: text_label, dtype: float64"
      ]
     },
     "execution_count": 254,
     "metadata": {},
     "output_type": "execute_result"
    }
   ],
   "source": [
    "bush.text_label.value_counts(normalize = True)"
   ]
  },
  {
   "cell_type": "code",
   "execution_count": 26,
   "id": "d9f36eaf",
   "metadata": {},
   "outputs": [
    {
     "data": {
      "text/plain": [
       "neutral     0.737209\n",
       "negative    0.195659\n",
       "positive    0.067132\n",
       "Name: text_label, dtype: float64"
      ]
     },
     "execution_count": 26,
     "metadata": {},
     "output_type": "execute_result"
    }
   ],
   "source": [
    "bush.text_label.value_counts(normalize = True)"
   ]
  },
  {
   "cell_type": "code",
   "execution_count": 255,
   "id": "c9f8490b",
   "metadata": {},
   "outputs": [
    {
     "data": {
      "text/plain": [
       "neutral     0.739781\n",
       "negative    0.225324\n",
       "positive    0.034895\n",
       "Name: text_label, dtype: float64"
      ]
     },
     "execution_count": 255,
     "metadata": {},
     "output_type": "execute_result"
    }
   ],
   "source": [
    "obama.text_label.value_counts(normalize = True)"
   ]
  },
  {
   "cell_type": "code",
   "execution_count": 27,
   "id": "b88358df",
   "metadata": {},
   "outputs": [
    {
     "data": {
      "text/plain": [
       "neutral     0.778835\n",
       "negative    0.176576\n",
       "positive    0.044590\n",
       "Name: text_label, dtype: float64"
      ]
     },
     "execution_count": 27,
     "metadata": {},
     "output_type": "execute_result"
    }
   ],
   "source": [
    "obama.text_label.value_counts(normalize = True)"
   ]
  },
  {
   "cell_type": "code",
   "execution_count": 256,
   "id": "331bec69",
   "metadata": {},
   "outputs": [
    {
     "data": {
      "text/plain": [
       "neutral     0.814815\n",
       "negative    0.174074\n",
       "positive    0.011111\n",
       "Name: text_label, dtype: float64"
      ]
     },
     "execution_count": 256,
     "metadata": {},
     "output_type": "execute_result"
    }
   ],
   "source": [
    "clinton.text_label.value_counts(normalize = True)"
   ]
  },
  {
   "cell_type": "code",
   "execution_count": 28,
   "id": "03dbaf08",
   "metadata": {},
   "outputs": [
    {
     "data": {
      "text/plain": [
       "neutral     0.790576\n",
       "negative    0.157068\n",
       "positive    0.052356\n",
       "Name: text_label, dtype: float64"
      ]
     },
     "execution_count": 28,
     "metadata": {},
     "output_type": "execute_result"
    }
   ],
   "source": [
    "clinton.text_label.value_counts(normalize = True)"
   ]
  },
  {
   "cell_type": "code",
   "execution_count": 29,
   "id": "cc4e01d2",
   "metadata": {},
   "outputs": [
    {
     "data": {
      "text/plain": [
       "573"
      ]
     },
     "execution_count": 29,
     "metadata": {},
     "output_type": "execute_result"
    }
   ],
   "source": [
    "len(clinton)"
   ]
  },
  {
   "cell_type": "code",
   "execution_count": 259,
   "id": "5961e847",
   "metadata": {},
   "outputs": [
    {
     "data": {
      "text/plain": [
       "neutral     0.749302\n",
       "negative    0.187151\n",
       "positive    0.063547\n",
       "Name: text_label, dtype: float64"
      ]
     },
     "execution_count": 259,
     "metadata": {},
     "output_type": "execute_result"
    }
   ],
   "source": [
    "al_q.text_label.value_counts(normalize = True)"
   ]
  },
  {
   "cell_type": "code",
   "execution_count": 30,
   "id": "6819c2e0",
   "metadata": {},
   "outputs": [
    {
     "data": {
      "text/plain": [
       "neutral     0.77841\n",
       "negative    0.18114\n",
       "positive    0.04045\n",
       "Name: text_label, dtype: float64"
      ]
     },
     "execution_count": 30,
     "metadata": {},
     "output_type": "execute_result"
    }
   ],
   "source": [
    "al_q.text_label.value_counts(normalize = True)"
   ]
  },
  {
   "cell_type": "code",
   "execution_count": 260,
   "id": "fbd933f6",
   "metadata": {},
   "outputs": [
    {
     "data": {
      "text/plain": [
       "neutral     0.798902\n",
       "negative    0.177116\n",
       "positive    0.023982\n",
       "Name: text_label, dtype: float64"
      ]
     },
     "execution_count": 260,
     "metadata": {},
     "output_type": "execute_result"
    }
   ],
   "source": [
    "washington.text_label.value_counts(normalize = True)"
   ]
  },
  {
   "cell_type": "code",
   "execution_count": 31,
   "id": "2531654f",
   "metadata": {},
   "outputs": [
    {
     "data": {
      "text/plain": [
       "neutral     0.801676\n",
       "negative    0.169442\n",
       "positive    0.028882\n",
       "Name: text_label, dtype: float64"
      ]
     },
     "execution_count": 31,
     "metadata": {},
     "output_type": "execute_result"
    }
   ],
   "source": [
    "washington.text_label.value_counts(normalize = True)"
   ]
  },
  {
   "cell_type": "code",
   "execution_count": 262,
   "id": "ebb2a48a",
   "metadata": {},
   "outputs": [
    {
     "data": {
      "text/plain": [
       "neutral     0.618126\n",
       "negative    0.317642\n",
       "positive    0.064232\n",
       "Name: text_label, dtype: float64"
      ]
     },
     "execution_count": 262,
     "metadata": {},
     "output_type": "execute_result"
    }
   ],
   "source": [
    "america.text_label.value_counts(normalize = True)"
   ]
  },
  {
   "cell_type": "code",
   "execution_count": 32,
   "id": "9abc885b",
   "metadata": {},
   "outputs": [
    {
     "data": {
      "text/plain": [
       "neutral     0.676430\n",
       "negative    0.251976\n",
       "positive    0.071595\n",
       "Name: text_label, dtype: float64"
      ]
     },
     "execution_count": 32,
     "metadata": {},
     "output_type": "execute_result"
    }
   ],
   "source": [
    "america.text_label.value_counts(normalize = True)"
   ]
  },
  {
   "cell_type": "code",
   "execution_count": 270,
   "id": "eeb84740",
   "metadata": {},
   "outputs": [
    {
     "data": {
      "text/plain": [
       "text_label  source        \n",
       "negative    Techreen          147\n",
       "            SaudiYoum          72\n",
       "            Youm7              63\n",
       "            Almustaqbal        62\n",
       "            Almasryalyoum      51\n",
       "            Alqabas            45\n",
       "            Ryiadh             39\n",
       "            Alittihad          37\n",
       "            Sabanews           11\n",
       "            Echoroukonline      9\n",
       "neutral     Youm7             344\n",
       "            Almustaqbal       298\n",
       "            SaudiYoum         296\n",
       "            Alittihad         283\n",
       "            Sabanews          249\n",
       "            Alqabas           201\n",
       "            Techreen          181\n",
       "            Ryiadh            159\n",
       "            Almasryalyoum      72\n",
       "            Echoroukonline     63\n",
       "positive    SaudiYoum          47\n",
       "            Alittihad          34\n",
       "            Ryiadh             24\n",
       "            Sabanews           20\n",
       "            Techreen           20\n",
       "            Alqabas            13\n",
       "            Youm7              10\n",
       "            Almustaqbal         8\n",
       "            Almasryalyoum       6\n",
       "Name: source, dtype: int64"
      ]
     },
     "execution_count": 270,
     "metadata": {},
     "output_type": "execute_result"
    }
   ],
   "source": [
    "al_q.source.groupby(al_q.text_label).value_counts() "
   ]
  },
  {
   "cell_type": "code",
   "execution_count": 296,
   "id": "9a363287",
   "metadata": {},
   "outputs": [
    {
     "data": {
      "text/plain": [
       "<AxesSubplot:xlabel='source', ylabel='Count'>"
      ]
     },
     "execution_count": 296,
     "metadata": {},
     "output_type": "execute_result"
    },
    {
     "data": {
      "image/png": "[encoded data removed]",
      "text/plain": [
       "<Figure size 1800x360 with 1 Axes>"
      ]
     },
     "metadata": {
      "needs_background": "light"
     },
     "output_type": "display_data"
    }
   ],
   "source": [
    "plt.rcParams[\"figure.figsize\"] = (25,5)\n",
    "sns.histplot(data=al_q, x='source', hue='text_label')"
   ]
  },
  {
   "cell_type": "code",
   "execution_count": 33,
   "id": "bfb6b06d",
   "metadata": {},
   "outputs": [
    {
     "data": {
      "text/plain": [
       "<AxesSubplot:xlabel='source', ylabel='Count'>"
      ]
     },
     "execution_count": 33,
     "metadata": {},
     "output_type": "execute_result"
    },
    {
     "data": {
      "image/png": "[encoded data removed]",
      "text/plain": [
       "<Figure size 1800x360 with 1 Axes>"
      ]
     },
     "metadata": {
      "needs_background": "light"
     },
     "output_type": "display_data"
    }
   ],
   "source": [
    "plt.rcParams[\"figure.figsize\"] = (25,5)\n",
    "sns.histplot(data=al_q, x='source', hue='text_label')"
   ]
  },
  {
   "cell_type": "code",
   "execution_count": 298,
   "id": "6b67514a",
   "metadata": {
    "scrolled": true
   },
   "outputs": [
    {
     "data": {
      "text/plain": [
       "<AxesSubplot:xlabel='source', ylabel='Count'>"
      ]
     },
     "execution_count": 298,
     "metadata": {},
     "output_type": "execute_result"
    },
    {
     "data": {
      "image/png": "[encoded data removed]",
      "text/plain": [
       "<Figure size 1800x360 with 1 Axes>"
      ]
     },
     "metadata": {
      "needs_background": "light"
     },
     "output_type": "display_data"
    }
   ],
   "source": [
    "plt.rcParams[\"figure.figsize\"] = (25,5)\n",
    "sns.histplot(data=washington, x='source', hue='text_label')"
   ]
  },
  {
   "cell_type": "code",
   "execution_count": 330,
   "id": "611ceb85",
   "metadata": {},
   "outputs": [],
   "source": [
    "df = new"
   ]
  },
  {
   "cell_type": "code",
   "execution_count": 299,
   "id": "6f9a0132",
   "metadata": {},
   "outputs": [
    {
     "data": {
      "text/plain": [
       "Youm7             3082\n",
       "SaudiYoum         2443\n",
       "Techreen          2026\n",
       "Almustaqbal       1827\n",
       "Alittihad         1648\n",
       "Almasryalyoum     1489\n",
       "Alqabas           1437\n",
       "Ryiadh            1318\n",
       "Sabanews          1085\n",
       "Echoroukonline     270\n",
       "Name: source, dtype: int64"
      ]
     },
     "execution_count": 299,
     "metadata": {},
     "output_type": "execute_result"
    }
   ],
   "source": [
    "df.source.value_counts()"
   ]
  },
  {
   "cell_type": "code",
   "execution_count": 331,
   "id": "0e1a8b98",
   "metadata": {},
   "outputs": [
    {
     "data": {
      "text/plain": [
       "source          text_label\n",
       "Alittihad       neutral       1380\n",
       "                False         1176\n",
       "                negative       200\n",
       "                positive       100\n",
       "Almasryalyoum   neutral        943\n",
       "                False          616\n",
       "                negative       536\n",
       "                positive        47\n",
       "Almustaqbal     neutral       1474\n",
       "                False          811\n",
       "                negative       359\n",
       "                positive        37\n",
       "Alqabas         neutral       1102\n",
       "                False          497\n",
       "                negative       295\n",
       "                positive        66\n",
       "Echoroukonline  neutral        217\n",
       "                negative        52\n",
       "                False           42\n",
       "                positive         8\n",
       "Ryiadh          neutral        885\n",
       "                False          795\n",
       "                negative       371\n",
       "                positive        91\n",
       "Sabanews        neutral        996\n",
       "                False           68\n",
       "                negative        63\n",
       "                positive        30\n",
       "SaudiYoum       neutral       1817\n",
       "                False          974\n",
       "                negative       514\n",
       "                positive       179\n",
       "Techreen        negative      1097\n",
       "                neutral        926\n",
       "                False          773\n",
       "                positive        60\n",
       "Youm7           neutral       2569\n",
       "                False          793\n",
       "                negative       484\n",
       "                positive        81\n",
       "Name: text_label, dtype: int64"
      ]
     },
     "execution_count": 331,
     "metadata": {},
     "output_type": "execute_result"
    }
   ],
   "source": [
    "df['text_label'].groupby(df.source).value_counts()"
   ]
  },
  {
   "cell_type": "code",
   "execution_count": 333,
   "id": "e6795149",
   "metadata": {},
   "outputs": [],
   "source": [
    "df = df[df.text_label != 'False']"
   ]
  },
  {
   "cell_type": "code",
   "execution_count": 334,
   "id": "af73e2b8",
   "metadata": {},
   "outputs": [
    {
     "data": {
      "text/plain": [
       "<AxesSubplot:xlabel='source', ylabel='Count'>"
      ]
     },
     "execution_count": 334,
     "metadata": {},
     "output_type": "execute_result"
    },
    {
     "data": {
      "image/png": "[encoded data removed]",
      "text/plain": [
       "<Figure size 1800x360 with 1 Axes>"
      ]
     },
     "metadata": {
      "needs_background": "light"
     },
     "output_type": "display_data"
    }
   ],
   "source": [
    "plt.rcParams[\"figure.figsize\"] = (25,5)\n",
    "sns.histplot(data=df, x='source', hue='text_label')"
   ]
  },
  {
   "cell_type": "markdown",
   "id": "21776f46",
   "metadata": {},
   "source": [
    "Look at the high negatives here and also the one, maybe 2 that seem pretty neutral"
   ]
  },
  {
   "cell_type": "code",
   "execution_count": 329,
   "id": "e8c593e1",
   "metadata": {},
   "outputs": [
    {
     "name": "stdout",
     "output_type": "stream",
     "text": [
      "<class 'pandas.core.frame.DataFrame'>\n",
      "Int64Index: 16904 entries, 0 to 23561\n",
      "Data columns (total 16 columns):\n",
      " #   Column          Non-Null Count  Dtype         \n",
      "---  ------          --------------  -----         \n",
      " 0   index           16904 non-null  int64         \n",
      " 1   Unnamed: 0      16904 non-null  int64         \n",
      " 2   id              16904 non-null  object        \n",
      " 3   url             16904 non-null  object        \n",
      " 4   headline        16904 non-null  object        \n",
      " 5   dateline        16904 non-null  datetime64[ns]\n",
      " 6   text            16904 non-null  object        \n",
      " 7   tags            16904 non-null  object        \n",
      " 8   source          16904 non-null  object        \n",
      " 9   text_label      16904 non-null  object        \n",
      " 10  text_score      16904 non-null  object        \n",
      " 11  headline_label  16904 non-null  object        \n",
      " 12  headline_score  16904 non-null  float64       \n",
      " 13  tag_count       16904 non-null  int64         \n",
      " 14  english_tags    16904 non-null  object        \n",
      " 15  string_tags     16904 non-null  object        \n",
      "dtypes: datetime64[ns](1), float64(1), int64(3), object(11)\n",
      "memory usage: 2.7+ MB\n"
     ]
    }
   ],
   "source": [
    "df.info()"
   ]
  },
  {
   "cell_type": "code",
   "execution_count": null,
   "id": "a7539756",
   "metadata": {},
   "outputs": [],
   "source": [
    "Alittihad UAE\n",
    "Echoroukonline Algeria\n",
    "Alriyadh Saudi Arabia\n",
    "Alyaum Saudi Arabia\n",
    "Tishreen Syria\n",
    "Alqabas Kuwait\n",
    "Almustaqbal Lebanon\n",
    "Almasryalyoum Egypt\n",
    "youm7 Egypt\n",
    "Sabanews Yemen"
   ]
  },
  {
   "cell_type": "code",
   "execution_count": 335,
   "id": "7e12e07c",
   "metadata": {},
   "outputs": [
    {
     "data": {
      "text/plain": [
       "Youm7             3134\n",
       "SaudiYoum         2510\n",
       "Techreen          2083\n",
       "Almustaqbal       1870\n",
       "Alittihad         1680\n",
       "Almasryalyoum     1526\n",
       "Alqabas           1463\n",
       "Ryiadh            1347\n",
       "Sabanews          1089\n",
       "Echoroukonline     277\n",
       "Name: source, dtype: int64"
      ]
     },
     "execution_count": 335,
     "metadata": {},
     "output_type": "execute_result"
    }
   ],
   "source": [
    "df.source.value_counts()"
   ]
  },
  {
   "cell_type": "code",
   "execution_count": 360,
   "id": "2f5148ca",
   "metadata": {},
   "outputs": [
    {
     "name": "stderr",
     "output_type": "stream",
     "text": [
      "/var/folders/s4/hmz6ljm533vgpm_bhv59yw0m0000gn/T/ipykernel_51119/3458671951.py:28: SettingWithCopyWarning: \n",
      "A value is trying to be set on a copy of a slice from a DataFrame.\n",
      "Try using .loc[row_indexer,col_indexer] = value instead\n",
      "\n",
      "See the caveats in the documentation: https://pandas.pydata.org/pandas-docs/stable/user_guide/indexing.html#returning-a-view-versus-a-copy\n",
      "  df['country'] = df.source.apply(make_countries)\n"
     ]
    }
   ],
   "source": [
    "topics = {'UAE' : 'Alittihad',\n",
    "            'Algeria' : 'Echoroukonline',\n",
    "            'KSA' : 'Ryiadh',\n",
    "            'KSA' : 'SaudiYoum',\n",
    "            'Syria' : 'Techreen',\n",
    "            'Kuwait' : 'Alqabas',\n",
    "            'Lebanon' : 'Almustaqbal',\n",
    "            'Egypt' : 'Almasryalyoum',\n",
    "            'Egypt' : 'Youm7',\n",
    "            'Yemen' : 'Sabanews'}\n",
    "\n",
    "def flip_key_value_pairs(dicts):\n",
    "    \n",
    "    res = dict((v,k) for k,v in dicts.items())    \n",
    "    return res\n",
    "\n",
    "\n",
    "def make_countries(df):\n",
    "    country_tags =[]\n",
    "    \n",
    "    rev_topics = flip_key_value_pairs(topics)\n",
    "    for key, value in rev_topics.items():\n",
    "        if key in df:\n",
    "            country_tags.append(value)\n",
    "            \n",
    "    return country_tags\n",
    "\n",
    "df['country'] = df.source.apply(make_countries)"
   ]
  },
  {
   "cell_type": "code",
   "execution_count": 361,
   "id": "eead19f7",
   "metadata": {},
   "outputs": [
    {
     "name": "stdout",
     "output_type": "stream",
     "text": [
      "<class 'pandas.core.frame.DataFrame'>\n",
      "Int64Index: 16979 entries, 0 to 23561\n",
      "Data columns (total 16 columns):\n",
      " #   Column          Non-Null Count  Dtype         \n",
      "---  ------          --------------  -----         \n",
      " 0   index           16979 non-null  int64         \n",
      " 1   Unnamed: 0      16979 non-null  int64         \n",
      " 2   id              16979 non-null  object        \n",
      " 3   url             16979 non-null  object        \n",
      " 4   headline        16979 non-null  object        \n",
      " 5   dateline        16979 non-null  datetime64[ns]\n",
      " 6   text            16979 non-null  object        \n",
      " 7   tags            16979 non-null  object        \n",
      " 8   source          16979 non-null  object        \n",
      " 9   text_label      16979 non-null  object        \n",
      " 10  text_score      16979 non-null  object        \n",
      " 11  headline_label  16979 non-null  object        \n",
      " 12  headline_score  16979 non-null  float64       \n",
      " 13  tag_count       16979 non-null  int64         \n",
      " 14  country         16979 non-null  object        \n",
      " 15  country_string  16979 non-null  object        \n",
      "dtypes: datetime64[ns](1), float64(1), int64(3), object(11)\n",
      "memory usage: 2.2+ MB\n"
     ]
    }
   ],
   "source": [
    "df.info()"
   ]
  },
  {
   "cell_type": "code",
   "execution_count": 351,
   "id": "57d0fe42",
   "metadata": {},
   "outputs": [
    {
     "ename": "TypeError",
     "evalue": "unhashable type: 'list'",
     "output_type": "error",
     "traceback": [
      "\u001b[0;31m---------------------------------------------------------------------------\u001b[0m",
      "\u001b[0;31mTypeError\u001b[0m                                 Traceback (most recent call last)",
      "\u001b[0;32mpandas/_libs/hashtable_class_helper.pxi\u001b[0m in \u001b[0;36mpandas._libs.hashtable.PyObjectHashTable.map_locations\u001b[0;34m()\u001b[0m\n",
      "\u001b[0;31mTypeError\u001b[0m: unhashable type: 'list'"
     ]
    },
    {
     "name": "stderr",
     "output_type": "stream",
     "text": [
      "Exception ignored in: 'pandas._libs.index.IndexEngine._call_map_locations'\n",
      "Traceback (most recent call last):\n",
      "  File \"pandas/_libs/hashtable_class_helper.pxi\", line 5231, in pandas._libs.hashtable.PyObjectHashTable.map_locations\n",
      "TypeError: unhashable type: 'list'\n"
     ]
    },
    {
     "data": {
      "text/plain": [
       "[Egypt]      3134\n",
       "[]           2873\n",
       "[KSA]        2510\n",
       "[Syria]      2083\n",
       "[Lebanon]    1870\n",
       "[UAE]        1680\n",
       "[Kuwait]     1463\n",
       "[Yemen]      1089\n",
       "[Algeria]     277\n",
       "Name: country, dtype: int64"
      ]
     },
     "execution_count": 351,
     "metadata": {},
     "output_type": "execute_result"
    }
   ],
   "source": [
    "df.country.value_counts()"
   ]
  },
  {
   "cell_type": "code",
   "execution_count": 349,
   "id": "3506e9cc",
   "metadata": {},
   "outputs": [
    {
     "data": {
      "text/plain": [
       "16979"
      ]
     },
     "execution_count": 349,
     "metadata": {},
     "output_type": "execute_result"
    }
   ],
   "source": [
    "df.source.value_counts().sum()"
   ]
  },
  {
   "cell_type": "code",
   "execution_count": 352,
   "id": "c4102824",
   "metadata": {},
   "outputs": [
    {
     "name": "stderr",
     "output_type": "stream",
     "text": [
      "/var/folders/s4/hmz6ljm533vgpm_bhv59yw0m0000gn/T/ipykernel_51119/844095673.py:1: SettingWithCopyWarning: \n",
      "A value is trying to be set on a copy of a slice from a DataFrame.\n",
      "Try using .loc[row_indexer,col_indexer] = value instead\n",
      "\n",
      "See the caveats in the documentation: https://pandas.pydata.org/pandas-docs/stable/user_guide/indexing.html#returning-a-view-versus-a-copy\n",
      "  df['country_string'] = df['country'].apply(lambda x: ','.join(map(str, x)))\n"
     ]
    }
   ],
   "source": [
    "df['country_string'] = df['country'].apply(lambda x: ','.join(map(str, x)))"
   ]
  },
  {
   "cell_type": "code",
   "execution_count": 356,
   "id": "91ec3293",
   "metadata": {},
   "outputs": [
    {
     "data": {
      "text/plain": [
       "Egypt      3134\n",
       "           2873\n",
       "KSA        2510\n",
       "Syria      2083\n",
       "Lebanon    1870\n",
       "UAE        1680\n",
       "Kuwait     1463\n",
       "Yemen      1089\n",
       "Algeria     277\n",
       "Name: country_string, dtype: int64"
      ]
     },
     "execution_count": 356,
     "metadata": {},
     "output_type": "execute_result"
    }
   ],
   "source": [
    "df['country_string'].value_counts()"
   ]
  },
  {
   "cell_type": "code",
   "execution_count": 357,
   "id": "535d2c70",
   "metadata": {},
   "outputs": [
    {
     "data": {
      "text/plain": [
       "Youm7             3134\n",
       "SaudiYoum         2510\n",
       "Techreen          2083\n",
       "Almustaqbal       1870\n",
       "Alittihad         1680\n",
       "Almasryalyoum     1526\n",
       "Alqabas           1463\n",
       "Ryiadh            1347\n",
       "Sabanews          1089\n",
       "Echoroukonline     277\n",
       "Name: source, dtype: int64"
      ]
     },
     "execution_count": 357,
     "metadata": {},
     "output_type": "execute_result"
    }
   ],
   "source": [
    "df.source.value_counts()"
   ]
  },
  {
   "cell_type": "code",
   "execution_count": null,
   "id": "9ee95ff0",
   "metadata": {},
   "outputs": [],
   "source": []
  }
 ],
 "metadata": {
  "kernelspec": {
   "display_name": "Python 3 (ipykernel)",
   "language": "python",
   "name": "python3"
  },
  "language_info": {
   "codemirror_mode": {
    "name": "ipython",
    "version": 3
   },
   "file_extension": ".py",
   "mimetype": "text/x-python",
   "name": "python",
   "nbconvert_exporter": "python",
   "pygments_lexer": "ipython3",
   "version": "3.9.7"
  }
 },
 "nbformat": 4,
 "nbformat_minor": 5
}
