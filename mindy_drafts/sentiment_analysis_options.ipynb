{
 "cells": [
  {
   "cell_type": "code",
   "execution_count": 92,
   "id": "bd67866b",
   "metadata": {},
   "outputs": [],
   "source": [
    "import pandas as pd\n",
    "from googletrans import Translator\n",
    "from camel_tools.sentiment import SentimentAnalyzer\n",
    "from transformers import pipeline"
   ]
  },
  {
   "cell_type": "code",
   "execution_count": 36,
   "id": "4af9ca11",
   "metadata": {},
   "outputs": [],
   "source": [
    "mix = pipeline('text-classification', model=\"CAMeL-Lab/bert-base-arabic-camelbert-mix-sentiment\")\n",
    "ca = pipeline('text-classification', model=\"CAMeL-Lab/bert-base-arabic-camelbert-ca-sentiment\")\n",
    "da = pipeline('text-classification', model=\"CAMeL-Lab/bert-base-arabic-camelbert-da-sentiment\")\n",
    "msa = pipeline('text-classification', model=\"CAMeL-Lab/bert-base-arabic-camelbert-msa-sentiment\")"
   ]
  },
  {
   "cell_type": "code",
   "execution_count": 37,
   "id": "c0a29c37",
   "metadata": {},
   "outputs": [
    {
     "name": "stderr",
     "output_type": "stream",
     "text": [
      "Some weights of the model checkpoint at CAMeL-Lab/bert-base-arabic-camelbert-msa-half were not used when initializing BertForSequenceClassification: ['cls.predictions.bias', 'cls.predictions.decoder.bias', 'cls.predictions.transform.LayerNorm.bias', 'cls.predictions.transform.dense.weight', 'cls.predictions.transform.dense.bias', 'cls.seq_relationship.weight', 'cls.predictions.decoder.weight', 'cls.seq_relationship.bias', 'cls.predictions.transform.LayerNorm.weight']\n",
      "- This IS expected if you are initializing BertForSequenceClassification from the checkpoint of a model trained on another task or with another architecture (e.g. initializing a BertForSequenceClassification model from a BertForPreTraining model).\n",
      "- This IS NOT expected if you are initializing BertForSequenceClassification from the checkpoint of a model that you expect to be exactly identical (initializing a BertForSequenceClassification model from a BertForSequenceClassification model).\n",
      "Some weights of BertForSequenceClassification were not initialized from the model checkpoint at CAMeL-Lab/bert-base-arabic-camelbert-msa-half and are newly initialized: ['classifier.weight', 'classifier.bias']\n",
      "You should probably TRAIN this model on a down-stream task to be able to use it for predictions and inference.\n",
      "Some weights of the model checkpoint at CAMeL-Lab/bert-base-arabic-camelbert-msa-quarter were not used when initializing BertForSequenceClassification: ['cls.predictions.bias', 'cls.predictions.decoder.bias', 'cls.predictions.transform.LayerNorm.bias', 'cls.predictions.transform.dense.weight', 'cls.predictions.transform.dense.bias', 'cls.seq_relationship.weight', 'cls.predictions.decoder.weight', 'cls.seq_relationship.bias', 'cls.predictions.transform.LayerNorm.weight']\n",
      "- This IS expected if you are initializing BertForSequenceClassification from the checkpoint of a model trained on another task or with another architecture (e.g. initializing a BertForSequenceClassification model from a BertForPreTraining model).\n",
      "- This IS NOT expected if you are initializing BertForSequenceClassification from the checkpoint of a model that you expect to be exactly identical (initializing a BertForSequenceClassification model from a BertForSequenceClassification model).\n",
      "Some weights of BertForSequenceClassification were not initialized from the model checkpoint at CAMeL-Lab/bert-base-arabic-camelbert-msa-quarter and are newly initialized: ['classifier.weight', 'classifier.bias']\n",
      "You should probably TRAIN this model on a down-stream task to be able to use it for predictions and inference.\n",
      "Some weights of the model checkpoint at CAMeL-Lab/bert-base-arabic-camelbert-msa-eighth were not used when initializing BertForSequenceClassification: ['cls.predictions.bias', 'cls.predictions.decoder.bias', 'cls.predictions.transform.LayerNorm.bias', 'cls.predictions.transform.dense.weight', 'cls.predictions.transform.dense.bias', 'cls.seq_relationship.weight', 'cls.predictions.decoder.weight', 'cls.seq_relationship.bias', 'cls.predictions.transform.LayerNorm.weight']\n",
      "- This IS expected if you are initializing BertForSequenceClassification from the checkpoint of a model trained on another task or with another architecture (e.g. initializing a BertForSequenceClassification model from a BertForPreTraining model).\n",
      "- This IS NOT expected if you are initializing BertForSequenceClassification from the checkpoint of a model that you expect to be exactly identical (initializing a BertForSequenceClassification model from a BertForSequenceClassification model).\n",
      "Some weights of BertForSequenceClassification were not initialized from the model checkpoint at CAMeL-Lab/bert-base-arabic-camelbert-msa-eighth and are newly initialized: ['classifier.weight', 'classifier.bias']\n",
      "You should probably TRAIN this model on a down-stream task to be able to use it for predictions and inference.\n",
      "Some weights of the model checkpoint at CAMeL-Lab/bert-base-arabic-camelbert-msa-sixteenth were not used when initializing BertForSequenceClassification: ['cls.predictions.bias', 'cls.predictions.decoder.bias', 'cls.predictions.transform.LayerNorm.bias', 'cls.predictions.transform.dense.weight', 'cls.predictions.transform.dense.bias', 'cls.seq_relationship.weight', 'cls.predictions.decoder.weight', 'cls.seq_relationship.bias', 'cls.predictions.transform.LayerNorm.weight']\n",
      "- This IS expected if you are initializing BertForSequenceClassification from the checkpoint of a model trained on another task or with another architecture (e.g. initializing a BertForSequenceClassification model from a BertForPreTraining model).\n",
      "- This IS NOT expected if you are initializing BertForSequenceClassification from the checkpoint of a model that you expect to be exactly identical (initializing a BertForSequenceClassification model from a BertForSequenceClassification model).\n",
      "Some weights of BertForSequenceClassification were not initialized from the model checkpoint at CAMeL-Lab/bert-base-arabic-camelbert-msa-sixteenth and are newly initialized: ['classifier.weight', 'classifier.bias']\n",
      "You should probably TRAIN this model on a down-stream task to be able to use it for predictions and inference.\n"
     ]
    }
   ],
   "source": [
    "half = pipeline('text-classification', model=\"CAMeL-Lab/bert-base-arabic-camelbert-msa-half\")\n",
    "quarter = pipeline('text-classification', model=\"CAMeL-Lab/bert-base-arabic-camelbert-msa-quarter\")\n",
    "eighth = pipeline('text-classification', model=\"CAMeL-Lab/bert-base-arabic-camelbert-msa-eighth\")\n",
    "sixteenth = pipeline('text-classification', model=\"CAMeL-Lab/bert-base-arabic-camelbert-msa-sixteenth\")"
   ]
  },
  {
   "cell_type": "code",
   "execution_count": 99,
   "id": "0b5fd107",
   "metadata": {},
   "outputs": [],
   "source": [
    "msa = pipeline('text-classification', model=\"CAMeL-Lab/bert-base-arabic-camelbert-msa-sentiment\")"
   ]
  },
  {
   "cell_type": "code",
   "execution_count": null,
   "id": "ca3a56da",
   "metadata": {},
   "outputs": [],
   "source": []
  },
  {
   "cell_type": "code",
   "execution_count": 38,
   "id": "52e96a08",
   "metadata": {},
   "outputs": [],
   "source": [
    "models = ('mix, ca, da, msa, half, quarter, eighth, sixteenth')"
   ]
  },
  {
   "cell_type": "code",
   "execution_count": 82,
   "id": "57c5afb6",
   "metadata": {},
   "outputs": [
    {
     "data": {
      "text/plain": [
       "\"MP Solang Bashir Al -Gemayel confirmed, commenting on the speech of Syrian President Bashar Al -Assad, that the basic answer to the declared incitement against the stability of Lebanon and Syria together is our national unit, accusing Syria of working to distinguish between the Lebanese.\\nAnd he carried a statement issued by the media office of the Gemayel for the Syrian President, accusing him of wanting to distinguish between us and Lebanon wants a Syrian province subject to the repressive regime, the bite of Syrian -Lebanese relations, and the threat of Lebanon to political assassination and civil fighting.\\nIn her statement, Gemayel denounced the inappropriate phrases of our political and parliamentary leaderships emanating from free and fair elections, and the insult of our prime minister, the statesman and the national dialogue man and denied what he said to the martyr President Rafik Hariri by threatening Lebanon's stability, noting that the days in which we were silent when one of our leaders was unique to It came to an irreversible, because we are students of honest national unity.\\nAnd she saw that when the martyr President Rafic Hariri was trying with his utmost efforts to protect the Syrian leadership and defend its mistakes to protect Lebanon and Syria together, the main goal of attacking him from the Syrian intelligence trumpets became a memorandum that the Syrian President took himself yesterday (Thursday) attacking him and his trend, the Future Movement and its president Because it works for the truth for the sake of Lebanon, and I wondered where it is of values \\u200b\\u200band principles, and where are we?\\nShe concluded: I say all of this, so that we all know that our national unity, which needs more care, is the basic answer to the declared incitement against the stability of Lebanon and Syria together. She added that the Syrian president wanted to reassure his people and restore his prestige, so the result was that he feared his people and did not prepare his prestige\""
      ]
     },
     "execution_count": 82,
     "metadata": {},
     "output_type": "execute_result"
    }
   ],
   "source": [
    "translator = Translator()\n",
    "\n",
    "translation = translator.translate(\"'اكدت النائب صولانج بشير الجميّل، تعليقا على خطاب الرئيس السوري بشار الاسد، ان \"\"الجواب الاساس على التحريض المعلن ضد استقرار لبنان وسوريا معا، هي وحدتنا الوطنية\"\"، متهمة سوريا بالعمل على \"\"التفرقة\"\" بين اللبنانيين.\\nوحمل بيان صادر عن المكتب الاعلامي للنائب الجميل على الرئيس السوري متهما اياه بانه \"\"يريد التفرقة بيننا ويريد لبنان محافظة سورية خاضعة للنظام القمعي وتأزيم العلاقات السورية ـ اللبنانية وتهديد لبنان بالاغتيال السياسي والاقتتال الاهلي\"\".\\nوشجبت الجميل في بيانها \"\"العبارات غير اللائقة بحق قياداتنا السياسية والنيابية المنبثقة عن انتخابات حرة ونزيهة، واهانة رئيس حكومتنا، رجل الدولة ورجل الحوار الوطني وانكار ما قاله للرئيس الشهيد رفيق الحريري بتهديد استقرار لبنان\"\"، مشيرة الى ان \"\"الايام التي كنا نصمت فيها حين يستفرد احد قادتنا قد ولّت الى غير رجعة، لاننا طلاب وحدة وطنية صادقة\"\".\\nورأت انه \"\"عندما كان الرئيس الشهيد رفيق الحريري يحاول بأقصى جهوده حماية القيادة السورية ويدافع عن اخطائها حماية للبنان ولسوريا معا، اصبح الهدف الرئيسي للتهجم عليه من ابواق المخابرات السورية\"\"، مذكرة بان \"\"الرئيس السوري تولى بنفسه بالامس (الخميس) التهجم عليه وعلى تياره، \"\"تيار المستقبل\"\" ورئيسه، لانه يعمل من اجل الحقيقة لأجل لبنان\"\"، وتساءلت \"\"اين هو من القيم والمبادئ، وأين نحن؟\"\".\\nوختمت: \"\"اقول كل ذلك، كي نعرف جميعا ان وحدتنا الوطنية، التي هي بحاجة الى عناية اكثر، هي الجواب الاساس على التحريض المعلن ضد استقرار لبنان وسوريا معا\"\". واضافت \"\"لقد اراد الرئيس السوري طمأنة شعبه واستعادة هيبته، فكانت النتيجة انه اخاف شعبه ولم يستعد هيبته\",  dest='en').text\n",
    "translation"
   ]
  },
  {
   "cell_type": "code",
   "execution_count": 86,
   "id": "85eefe05",
   "metadata": {},
   "outputs": [],
   "source": [
    "text = \"'اكدت النائب صولانج بشير الجميّل، تعليقا على خطاب الرئيس السوري بشار الاسد، ان \"\"الجواب الاساس على التحريض المعلن ضد استقرار لبنان وسوريا معا، هي وحدتنا الوطنية\"\"، متهمة سوريا بالعمل على \"\"التفرقة\"\" بين اللبنانيين.\\nوحمل بيان صادر عن المكتب الاعلامي للنائب الجميل على الرئيس السوري متهما اياه بانه \"\"يريد التفرقة بيننا ويريد لبنان محافظة سورية خاضعة للنظام القمعي وتأزيم العلاقات السورية ـ اللبنانية وتهديد لبنان بالاغتيال السياسي والاقتتال الاهلي\"\".\\nوشجبت الجميل في بيانها \"\"العبارات غير اللائقة بحق قياداتنا السياسية والنيابية المنبثقة عن انتخابات حرة ونزيهة، واهانة رئيس حكومتنا، رجل الدولة ورجل الحوار الوطني وانكار ما قاله للرئيس الشهيد رفيق الحريري بتهديد استقرار لبنان\"\"، مشيرة الى ان \"\"الايام التي كنا نصمت فيها حين يستفرد احد قادتنا قد ولّت الى غير رجعة، لاننا طلاب وحدة وطنية صادقة\"\".\\nورأت انه \"\"عندما كان الرئيس الشهيد رفيق الحريري يحاول بأقصى جهوده حماية القيادة السورية ويدافع عن اخطائها حماية للبنان ولسوريا معا، اصبح الهدف الرئيسي للتهجم عليه من ابواق المخابرات السورية\"\"، مذكرة بان \"\"الرئيس السوري تولى بنفسه بالامس (الخميس) التهجم عليه وعلى تياره، \"\"تيار المستقبل\"\" ورئيسه، لانه يعمل من اجل الحقيقة لأجل لبنان\"\"، وتساءلت \"\"اين هو من القيم والمبادئ، وأين نحن؟\"\".\\nوختمت: \"\"اقول كل ذلك، كي نعرف جميعا ان وحدتنا الوطنية، التي هي بحاجة الى عناية اكثر، هي الجواب الاساس على التحريض المعلن ضد استقرار لبنان وسوريا معا\"\". واضافت \"\"لقد اراد الرئيس السوري طمأنة شعبه واستعادة هيبته، فكانت النتيجة انه اخاف شعبه ولم يستعد هيبته\""
   ]
  },
  {
   "cell_type": "code",
   "execution_count": 83,
   "id": "a27982c9",
   "metadata": {},
   "outputs": [],
   "source": [
    "import re \n",
    "import string\n",
    "import nltk\n",
    "from nltk.corpus import stopwords"
   ]
  },
  {
   "cell_type": "code",
   "execution_count": 84,
   "id": "108cdea8",
   "metadata": {},
   "outputs": [],
   "source": [
    "punctuations = '''`÷×؛<>_()*&^%][ـ،/:\"؟.,'{}~¦+|!”…“–ـ'''\n",
    "arabic_stopwords = stopwords.words('arabic')\n",
    "\n",
    "def clean_text(text):\n",
    " \n",
    "# remove punctuation\n",
    "    text = text.translate(str.maketrans('','', punctuations))\n",
    "# remove stop word\n",
    "    text = ' '.join([word for word in text.split() if word not in arabic_stopwords])\n",
    "#remove line space and space    \n",
    "    text = text.lstrip()\n",
    "    text = text.strip()\n",
    "  \n",
    "    return text"
   ]
  },
  {
   "cell_type": "code",
   "execution_count": 88,
   "id": "7ed22e83",
   "metadata": {},
   "outputs": [],
   "source": [
    "text = clean_text(text)"
   ]
  },
  {
   "cell_type": "code",
   "execution_count": 89,
   "id": "ef4f9a1b",
   "metadata": {},
   "outputs": [],
   "source": [
    "translation = translator.translate(text, dest='en')"
   ]
  },
  {
   "cell_type": "code",
   "execution_count": 103,
   "id": "a615a53f",
   "metadata": {},
   "outputs": [],
   "source": [
    "translator = Translator()"
   ]
  },
  {
   "cell_type": "code",
   "execution_count": 114,
   "id": "7b3adb29",
   "metadata": {},
   "outputs": [],
   "source": [
    "translator = Translator()\n",
    "test = \"5,000 Americans died. This is because American leadership is terrible\"\n",
    "test = translator.translate(test,  dest='ar')\n",
    "test = test.text"
   ]
  },
  {
   "cell_type": "code",
   "execution_count": 115,
   "id": "d93357dc",
   "metadata": {},
   "outputs": [
    {
     "data": {
      "text/plain": [
       "[{'label': 'negative', 'score': 0.9960427284240723}]"
      ]
     },
     "execution_count": 115,
     "metadata": {},
     "output_type": "execute_result"
    }
   ],
   "source": [
    "msa(test)"
   ]
  },
  {
   "cell_type": "code",
   "execution_count": 40,
   "id": "3b4eefd7",
   "metadata": {},
   "outputs": [
    {
     "data": {
      "text/plain": [
       "'مرحباً كيف حالك؟'"
      ]
     },
     "execution_count": 40,
     "metadata": {},
     "output_type": "execute_result"
    }
   ],
   "source": [
    "translation = translator.translate(\"Hi how are you?\",  dest='ar')\n",
    "translation.text"
   ]
  },
  {
   "cell_type": "code",
   "execution_count": 80,
   "id": "929cf5b8",
   "metadata": {},
   "outputs": [
    {
     "ename": "TypeError",
     "evalue": "the JSON object must be str, bytes or bytearray, not NoneType",
     "output_type": "error",
     "traceback": [
      "\u001b[0;31m---------------------------------------------------------------------------\u001b[0m",
      "\u001b[0;31mTypeError\u001b[0m                                 Traceback (most recent call last)",
      "\u001b[0;32m/var/folders/s4/hmz6ljm533vgpm_bhv59yw0m0000gn/T/ipykernel_24408/3663871529.py\u001b[0m in \u001b[0;36m<module>\u001b[0;34m\u001b[0m\n\u001b[0;32m----> 1\u001b[0;31m \u001b[0mthing\u001b[0m \u001b[0;34m=\u001b[0m \u001b[0mtranslator\u001b[0m\u001b[0;34m.\u001b[0m\u001b[0mtranslate\u001b[0m\u001b[0;34m(\u001b[0m\u001b[0;34m\"Historically, figure skating has been a sport in which the United States has greatly excelled in the Olympic Winter Games. Sports that are judged on both technical merit and artistic expression are challenging to judge objectively and figure skating is no exception. In 2004, the previous highly subjective figure skating scoring system was replaced with the International Judging System(IJS) which takes into account the minutiae of every skating program awarding a specific point value based on multiple calculations. Following this change, the United States has seen a drastic decrease in international accomplishment for women skaters representing the USA.The recent 2022 Olympic winter games in Beijing marks 4 consecutive Olympics in which the US women have not been awarded a medal. Many critics of the current state of international figure skating suggest that the medal drought is directly related to Russian dominance in women's figure skating. Russian figure skating has been under scrutiny for their questionable training tactics and with a recently doping scandal at the 2022 Beijing Olympics, it's more than reasonable for all other skating federations to reject Russian figure skating training tactics and put the wellbeing of athletes ahead of competitive victories However, can the 15 year medal drought be completed contributed to this?In the four most recent Winter Olympic Games, at least one of the women figure skating medals has gone to an athlete from Japan, South Korea, Italy, or Canada. It's also worth noting that the United States is continuing to excel greatly in most figure skating disciplines (especially mens and ice dancing). This project is a data-driven analysis of this project in which I explore trends that may offer insights to improve US women's figure skating scores at the Olympic Games.Historically, figure skating has been a sport in which the United States has greatly excelled in the Olympic Winter Games. Sports that are judged on both technical merit and artistic expression are challenging to judge objectively and figure skating is no exception. In 2004, the previous highly subjective figure skating scoring system was replaced with the International Judging System(IJS) which takes into account the minutiae of every skating program awarding a specific point value based on multiple calculations. Following this change, the United States has seen a drastic decrease in international accomplishment for women skaters representing the USA.The recent 2022 Olympic winter games in Beijing marks 4 consecutive Olympics in which the US women have not been awarded a medal. Many critics of the current state of international figure skating suggest that the medal drought is directly related to Russian dominance in women's figure skating. Russian figure skating has been under scrutiny for their questionable training tactics and with a recently doping scandal at the 2022 Beijing Olympics, it's more than reasonable for all other skating federations to reject Russian figure skating training tactics and put the wellbeing of athletes ahead of competitive victories However, can the 15 year medal drought be completed contributed to this?In the four most recent Winter Olympic Games, at least one of the women figure skating medals has gone to an athlete from Japan, South Korea, Italy, or Canada. It's also worth noting that the United States is continuing to excel greatly in most figure skating disciplines (especially mens and ice dancing). This project is a data-driven analysis of this project in which I explore trends that may offer insights to improve US women's figure skating scores at the Olympic Games. Historically, figure skating has been a sport in which the United States has greatly excelled in the Olympic Winter Games. Sports that are judged on both technical merit and artistic expression are challenging to judge objectively and figure skating is no exception. In 2004, the previous highly subjective figure skating scoring system was replaced with the International Judging System(IJS) which takes into account the minutiae of every skating program awarding a specific point value based on multiple calculations. Following this change, the United States has seen a drastic decrease in international accomplishment for women skaters representing the USA.The recent 2022 Olympic winter games in Beijing marks 4 consecutive Olympics in which the US women have not been awarded a medal. Many critics of the current state of international figure skating suggest that the medal drought is directly related to Russian dominance in women's figure skating. Russian figure skating has been under scrutiny for their questionable training tactics and with a recently doping scandal at the 2022 Beijing Olympics, it's more than reasonable for all other skating federations to reject Russian figure skating training tactics and put the wellbeing of athletes ahead of competitive victories However, can the 15 year medal drought be completed contributed to this?In the four most recent Winter Olympic Games, at least one of the women figure skating medals has gone to an athlete from Japan, South Korea, Italy, or Canada. It's also worth noting that the United States is continuing to excel greatly in most figure skating disciplines (especially mens and ice dancing). This project is a data-driven analysis of this project in which I explore trends that may offer insights to improve US women's figure skating scores at the Olympic Games. Historically, figure skating has been a sport in which the United States has greatly excelled in the Olympic Winter Games. Sports that are judged on both technical merit and artistic expression are challenging to judge objectively and figure skating is no exception. In 2004, the previous highly subjective figure skating scoring system was replaced with the International Judging System(IJS) which takes into account the minutiae of every skating program awarding a specific point value based on multiple calculations. Following this change, the United States has seen a drastic decrease in international accomplishment for women skaters representing the USA.The recent 2022 Olympic winter games in Beijing marks 4 consecutive Olympics in which the US women have not been awarded a medal. Many critics of the current state of international figure skating suggest that the medal drought is directly related to Russian dominance in women's figure skating. Russian figure skating has been under scrutiny for their questionable training tactics and with a recently doping scandal at the 2022 Beijing Olympics, it's more than reasonable for all other skating federations to reject Russian figure skating training tactics and put the wellbeing of athletes ahead of competitive victories However, can the 15 year medal drought be completed contributed to this?In the four most recent Winter Olympic Games, at least one of the women figure skating medals has gone to an athlete from Japan, South Korea, Italy, or Canada. It's also worth noting that the United States is continuing to excel greatly in most figure skating disciplines (especially mens and ice dancing). This project is a data-driven analysis of this project in which I explore trends that may offer insights to improve US women's figure skating scores at the Olympic Games.\"\u001b[0m\u001b[0;34m,\u001b[0m \u001b[0mdest\u001b[0m\u001b[0;34m=\u001b[0m\u001b[0;34m'ar'\u001b[0m\u001b[0;34m)\u001b[0m\u001b[0;34m.\u001b[0m\u001b[0mtext\u001b[0m\u001b[0;34m\u001b[0m\u001b[0;34m\u001b[0m\u001b[0m\n\u001b[0m",
      "\u001b[0;32m/usr/local/anaconda3/lib/python3.9/site-packages/googletrans/client.py\u001b[0m in \u001b[0;36mtranslate\u001b[0;34m(self, text, dest, src)\u001b[0m\n\u001b[1;32m    217\u001b[0m \u001b[0;34m\u001b[0m\u001b[0m\n\u001b[1;32m    218\u001b[0m         \u001b[0mdata\u001b[0m \u001b[0;34m=\u001b[0m \u001b[0mjson\u001b[0m\u001b[0;34m.\u001b[0m\u001b[0mloads\u001b[0m\u001b[0;34m(\u001b[0m\u001b[0mresp\u001b[0m\u001b[0;34m)\u001b[0m\u001b[0;34m\u001b[0m\u001b[0;34m\u001b[0m\u001b[0m\n\u001b[0;32m--> 219\u001b[0;31m         \u001b[0mparsed\u001b[0m \u001b[0;34m=\u001b[0m \u001b[0mjson\u001b[0m\u001b[0;34m.\u001b[0m\u001b[0mloads\u001b[0m\u001b[0;34m(\u001b[0m\u001b[0mdata\u001b[0m\u001b[0;34m[\u001b[0m\u001b[0;36m0\u001b[0m\u001b[0;34m]\u001b[0m\u001b[0;34m[\u001b[0m\u001b[0;36m2\u001b[0m\u001b[0;34m]\u001b[0m\u001b[0;34m)\u001b[0m\u001b[0;34m\u001b[0m\u001b[0;34m\u001b[0m\u001b[0m\n\u001b[0m\u001b[1;32m    220\u001b[0m         \u001b[0;31m# not sure\u001b[0m\u001b[0;34m\u001b[0m\u001b[0;34m\u001b[0m\u001b[0m\n\u001b[1;32m    221\u001b[0m         \u001b[0mshould_spacing\u001b[0m \u001b[0;34m=\u001b[0m \u001b[0mparsed\u001b[0m\u001b[0;34m[\u001b[0m\u001b[0;36m1\u001b[0m\u001b[0;34m]\u001b[0m\u001b[0;34m[\u001b[0m\u001b[0;36m0\u001b[0m\u001b[0;34m]\u001b[0m\u001b[0;34m[\u001b[0m\u001b[0;36m0\u001b[0m\u001b[0;34m]\u001b[0m\u001b[0;34m[\u001b[0m\u001b[0;36m3\u001b[0m\u001b[0;34m]\u001b[0m\u001b[0;34m\u001b[0m\u001b[0;34m\u001b[0m\u001b[0m\n",
      "\u001b[0;32m/usr/local/anaconda3/lib/python3.9/json/__init__.py\u001b[0m in \u001b[0;36mloads\u001b[0;34m(s, cls, object_hook, parse_float, parse_int, parse_constant, object_pairs_hook, **kw)\u001b[0m\n\u001b[1;32m    337\u001b[0m     \u001b[0;32melse\u001b[0m\u001b[0;34m:\u001b[0m\u001b[0;34m\u001b[0m\u001b[0;34m\u001b[0m\u001b[0m\n\u001b[1;32m    338\u001b[0m         \u001b[0;32mif\u001b[0m \u001b[0;32mnot\u001b[0m \u001b[0misinstance\u001b[0m\u001b[0;34m(\u001b[0m\u001b[0ms\u001b[0m\u001b[0;34m,\u001b[0m \u001b[0;34m(\u001b[0m\u001b[0mbytes\u001b[0m\u001b[0;34m,\u001b[0m \u001b[0mbytearray\u001b[0m\u001b[0;34m)\u001b[0m\u001b[0;34m)\u001b[0m\u001b[0;34m:\u001b[0m\u001b[0;34m\u001b[0m\u001b[0;34m\u001b[0m\u001b[0m\n\u001b[0;32m--> 339\u001b[0;31m             raise TypeError(f'the JSON object must be str, bytes or bytearray, '\n\u001b[0m\u001b[1;32m    340\u001b[0m                             f'not {s.__class__.__name__}')\n\u001b[1;32m    341\u001b[0m         \u001b[0ms\u001b[0m \u001b[0;34m=\u001b[0m \u001b[0ms\u001b[0m\u001b[0;34m.\u001b[0m\u001b[0mdecode\u001b[0m\u001b[0;34m(\u001b[0m\u001b[0mdetect_encoding\u001b[0m\u001b[0;34m(\u001b[0m\u001b[0ms\u001b[0m\u001b[0;34m)\u001b[0m\u001b[0;34m,\u001b[0m \u001b[0;34m'surrogatepass'\u001b[0m\u001b[0;34m)\u001b[0m\u001b[0;34m\u001b[0m\u001b[0;34m\u001b[0m\u001b[0m\n",
      "\u001b[0;31mTypeError\u001b[0m: the JSON object must be str, bytes or bytearray, not NoneType"
     ]
    }
   ],
   "source": [
    "thing = translator.translate(\"Historically, figure skating has been a sport in which the United States has greatly excelled in the Olympic Winter Games. Sports that are judged on both technical merit and artistic expression are challenging to judge objectively and figure skating is no exception. In 2004, the previous highly subjective figure skating scoring system was replaced with the International Judging System(IJS) which takes into account the minutiae of every skating program awarding a specific point value based on multiple calculations. Following this change, the United States has seen a drastic decrease in international accomplishment for women skaters representing the USA.The recent 2022 Olympic winter games in Beijing marks 4 consecutive Olympics in which the US women have not been awarded a medal. Many critics of the current state of international figure skating suggest that the medal drought is directly related to Russian dominance in women's figure skating. Russian figure skating has been under scrutiny for their questionable training tactics and with a recently doping scandal at the 2022 Beijing Olympics, it's more than reasonable for all other skating federations to reject Russian figure skating training tactics and put the wellbeing of athletes ahead of competitive victories However, can the 15 year medal drought be completed contributed to this?In the four most recent Winter Olympic Games, at least one of the women figure skating medals has gone to an athlete from Japan, South Korea, Italy, or Canada. It's also worth noting that the United States is continuing to excel greatly in most figure skating disciplines (especially mens and ice dancing). This project is a data-driven analysis of this project in which I explore trends that may offer insights to improve US women's figure skating scores at the Olympic Games.Historically, figure skating has been a sport in which the United States has greatly excelled in the Olympic Winter Games. Sports that are judged on both technical merit and artistic expression are challenging to judge objectively and figure skating is no exception. In 2004, the previous highly subjective figure skating scoring system was replaced with the International Judging System(IJS) which takes into account the minutiae of every skating program awarding a specific point value based on multiple calculations. Following this change, the United States has seen a drastic decrease in international accomplishment for women skaters representing the USA.The recent 2022 Olympic winter games in Beijing marks 4 consecutive Olympics in which the US women have not been awarded a medal. Many critics of the current state of international figure skating suggest that the medal drought is directly related to Russian dominance in women's figure skating. Russian figure skating has been under scrutiny for their questionable training tactics and with a recently doping scandal at the 2022 Beijing Olympics, it's more than reasonable for all other skating federations to reject Russian figure skating training tactics and put the wellbeing of athletes ahead of competitive victories However, can the 15 year medal drought be completed contributed to this?In the four most recent Winter Olympic Games, at least one of the women figure skating medals has gone to an athlete from Japan, South Korea, Italy, or Canada. It's also worth noting that the United States is continuing to excel greatly in most figure skating disciplines (especially mens and ice dancing). This project is a data-driven analysis of this project in which I explore trends that may offer insights to improve US women's figure skating scores at the Olympic Games. Historically, figure skating has been a sport in which the United States has greatly excelled in the Olympic Winter Games. Sports that are judged on both technical merit and artistic expression are challenging to judge objectively and figure skating is no exception. In 2004, the previous highly subjective figure skating scoring system was replaced with the International Judging System(IJS) which takes into account the minutiae of every skating program awarding a specific point value based on multiple calculations. Following this change, the United States has seen a drastic decrease in international accomplishment for women skaters representing the USA.The recent 2022 Olympic winter games in Beijing marks 4 consecutive Olympics in which the US women have not been awarded a medal. Many critics of the current state of international figure skating suggest that the medal drought is directly related to Russian dominance in women's figure skating. Russian figure skating has been under scrutiny for their questionable training tactics and with a recently doping scandal at the 2022 Beijing Olympics, it's more than reasonable for all other skating federations to reject Russian figure skating training tactics and put the wellbeing of athletes ahead of competitive victories However, can the 15 year medal drought be completed contributed to this?In the four most recent Winter Olympic Games, at least one of the women figure skating medals has gone to an athlete from Japan, South Korea, Italy, or Canada. It's also worth noting that the United States is continuing to excel greatly in most figure skating disciplines (especially mens and ice dancing). This project is a data-driven analysis of this project in which I explore trends that may offer insights to improve US women's figure skating scores at the Olympic Games. Historically, figure skating has been a sport in which the United States has greatly excelled in the Olympic Winter Games. Sports that are judged on both technical merit and artistic expression are challenging to judge objectively and figure skating is no exception. In 2004, the previous highly subjective figure skating scoring system was replaced with the International Judging System(IJS) which takes into account the minutiae of every skating program awarding a specific point value based on multiple calculations. Following this change, the United States has seen a drastic decrease in international accomplishment for women skaters representing the USA.The recent 2022 Olympic winter games in Beijing marks 4 consecutive Olympics in which the US women have not been awarded a medal. Many critics of the current state of international figure skating suggest that the medal drought is directly related to Russian dominance in women's figure skating. Russian figure skating has been under scrutiny for their questionable training tactics and with a recently doping scandal at the 2022 Beijing Olympics, it's more than reasonable for all other skating federations to reject Russian figure skating training tactics and put the wellbeing of athletes ahead of competitive victories However, can the 15 year medal drought be completed contributed to this?In the four most recent Winter Olympic Games, at least one of the women figure skating medals has gone to an athlete from Japan, South Korea, Italy, or Canada. It's also worth noting that the United States is continuing to excel greatly in most figure skating disciplines (especially mens and ice dancing). This project is a data-driven analysis of this project in which I explore trends that may offer insights to improve US women's figure skating scores at the Olympic Games.\", dest='ar').text"
   ]
  },
  {
   "cell_type": "code",
   "execution_count": null,
   "id": "a8925c30",
   "metadata": {},
   "outputs": [],
   "source": []
  },
  {
   "cell_type": "code",
   "execution_count": 78,
   "id": "89436e82",
   "metadata": {},
   "outputs": [
    {
     "data": {
      "text/plain": [
       "1646"
      ]
     },
     "execution_count": 78,
     "metadata": {},
     "output_type": "execute_result"
    }
   ],
   "source": [
    "(thing)"
   ]
  },
  {
   "cell_type": "code",
   "execution_count": 79,
   "id": "88384d70",
   "metadata": {},
   "outputs": [
    {
     "data": {
      "text/plain": [
       "[{'label': 'neutral', 'score': 0.9786195158958435}]"
      ]
     },
     "execution_count": 79,
     "metadata": {},
     "output_type": "execute_result"
    }
   ],
   "source": [
    "msa(thing)"
   ]
  },
  {
   "cell_type": "code",
   "execution_count": 48,
   "id": "e462710f",
   "metadata": {},
   "outputs": [
    {
     "data": {
      "text/plain": [
       "('America is terrible',\n",
       " 'أمريكا فظيعة',\n",
       " [{'label': 'negative', 'score': 0.9899712800979614}],\n",
       " [{'label': 'LABEL_0', 'score': 0.5600510239601135}],\n",
       " [{'label': 'negative', 'score': 0.9914566874504089}],\n",
       " [{'label': 'negative', 'score': 0.9778295159339905}],\n",
       " [{'label': 'negative', 'score': 0.9962539672851562}],\n",
       " [{'label': 'LABEL_0', 'score': 0.55503249168396}],\n",
       " [{'label': 'LABEL_0', 'score': 0.6230520606040955}],\n",
       " [{'label': 'LABEL_0', 'score': 0.6957411766052246}])"
      ]
     },
     "execution_count": 48,
     "metadata": {},
     "output_type": "execute_result"
    }
   ],
   "source": [
    "test_1 = 'أمريكا فظيعة'\n",
    "test_1_en = translator.translate(test_1,  dest='en').text\n",
    "test_1_en, test_1, mix(test_1), half(test_1), ca(test_1), da(test_1), msa(test_1), quarter(test_1), eighth(test_1), sixteenth(test_1)"
   ]
  },
  {
   "cell_type": "code",
   "execution_count": 59,
   "id": "5bc07f08",
   "metadata": {},
   "outputs": [
    {
     "name": "stdout",
     "output_type": "stream",
     "text": [
      "mix [{'label': 'negative', 'score': 0.5970765352249146}]\n",
      "half [{'label': 'LABEL_0', 'score': 0.5437316298484802}]\n"
     ]
    }
   ],
   "source": [
    "df = pd.DataFrame()"
   ]
  },
  {
   "cell_type": "code",
   "execution_count": 60,
   "id": "8fb00a31",
   "metadata": {},
   "outputs": [
    {
     "data": {
      "text/plain": [
       "('US President Biden said that many will be affected by Covid-19, but vaccines, tests and treatment have made the Corona virus below deadly virus',\n",
       " 'قال الرئيس الأمريكي بايدن إن الكثيرين سيظلون مصابين بـ COVID-19 ، لكن اللقاحات والاختبارات والعلاج المتاحة جعلت فيروس كورونا أقل فتكًا',\n",
       " [{'label': 'negative', 'score': 0.5970765352249146}],\n",
       " [{'label': 'LABEL_0', 'score': 0.5437316298484802}],\n",
       " [{'label': 'negative', 'score': 0.8715960383415222}],\n",
       " [{'label': 'negative', 'score': 0.6396971344947815}],\n",
       " [{'label': 'negative', 'score': 0.7444278597831726}],\n",
       " [{'label': 'LABEL_0', 'score': 0.609856128692627}],\n",
       " [{'label': 'LABEL_0', 'score': 0.5959587693214417}],\n",
       " [{'label': 'LABEL_0', 'score': 0.6965914964675903}])"
      ]
     },
     "execution_count": 60,
     "metadata": {},
     "output_type": "execute_result"
    }
   ],
   "source": [
    "test_1 = test_3\n",
    "test_1_en = translator.translate(test_1,  dest='en').text\n",
    "test_1_en, test_1, mix(test_1), half(test_1), ca(test_1), da(test_1), msa(test_1), quarter(test_1), eighth(test_1), sixteenth(test_1)"
   ]
  },
  {
   "cell_type": "code",
   "execution_count": 71,
   "id": "f2c92142",
   "metadata": {},
   "outputs": [
    {
     "data": {
      "text/plain": [
       "('The end of terrorism',\n",
       " 'نهاية الإرهاب',\n",
       " [{'label': 'negative', 'score': 0.7163180708885193}],\n",
       " [{'label': 'LABEL_0', 'score': 0.5541501045227051}],\n",
       " [{'label': 'negative', 'score': 0.9557932019233704}],\n",
       " [{'label': 'negative', 'score': 0.9493054747581482}],\n",
       " [{'label': 'neutral', 'score': 0.6464316844940186}],\n",
       " [{'label': 'LABEL_0', 'score': 0.5003071427345276}],\n",
       " [{'label': 'LABEL_0', 'score': 0.6172273755073547}],\n",
       " [{'label': 'LABEL_0', 'score': 0.7332640290260315}])"
      ]
     },
     "execution_count": 71,
     "metadata": {},
     "output_type": "execute_result"
    }
   ],
   "source": [
    "test_1 = test_8\n",
    "test_1_en = translator.translate(test_1,  dest='en').text\n",
    "test_1_en, test_1, mix(test_1), half(test_1), ca(test_1), da(test_1), msa(test_1), quarter(test_1), eighth(test_1), sixteenth(test_1)"
   ]
  },
  {
   "cell_type": "code",
   "execution_count": 8,
   "id": "c91d8826",
   "metadata": {},
   "outputs": [],
   "source": [
    "f = open('/Users/mindyshiben/Documents/Alittihad_utf_8.sgm', 'r')\n",
    "data= f.read()\n",
    "soup = BeautifulSoup(data)\n",
    "topics= soup.findAll('body') # find all body tags"
   ]
  },
  {
   "cell_type": "code",
   "execution_count": null,
   "id": "3cf27107",
   "metadata": {},
   "outputs": [],
   "source": [
    "soup"
   ]
  },
  {
   "cell_type": "code",
   "execution_count": 11,
   "id": "3d4c1245",
   "metadata": {},
   "outputs": [],
   "source": []
  },
  {
   "cell_type": "code",
   "execution_count": 31,
   "id": "ea552879",
   "metadata": {},
   "outputs": [
    {
     "data": {
      "application/vnd.jupyter.widget-view+json": {
       "model_id": "64c720a50fae42aa879f6aef17deeac4",
       "version_major": 2,
       "version_minor": 0
      },
      "text/plain": [
       "Downloading config.json:   0%|          | 0.00/842 [00:00<?, ?B/s]"
      ]
     },
     "metadata": {},
     "output_type": "display_data"
    },
    {
     "data": {
      "application/vnd.jupyter.widget-view+json": {
       "model_id": "4254da4da6124da4b0907ae5d49b9887",
       "version_major": 2,
       "version_minor": 0
      },
      "text/plain": [
       "Downloading pytorch_model.bin:   0%|          | 0.00/416M [00:00<?, ?B/s]"
      ]
     },
     "metadata": {},
     "output_type": "display_data"
    },
    {
     "data": {
      "application/vnd.jupyter.widget-view+json": {
       "model_id": "e45c752bd8a34a8a84440abd89fcc2b6",
       "version_major": 2,
       "version_minor": 0
      },
      "text/plain": [
       "Downloading vocab.txt:   0%|          | 0.00/297k [00:00<?, ?B/s]"
      ]
     },
     "metadata": {},
     "output_type": "display_data"
    },
    {
     "data": {
      "application/vnd.jupyter.widget-view+json": {
       "model_id": "1d31567fe7454515b0687af48f420402",
       "version_major": 2,
       "version_minor": 0
      },
      "text/plain": [
       "Downloading special_tokens_map.json:   0%|          | 0.00/112 [00:00<?, ?B/s]"
      ]
     },
     "metadata": {},
     "output_type": "display_data"
    },
    {
     "data": {
      "application/vnd.jupyter.widget-view+json": {
       "model_id": "e3d5f5aa7ccf46668f5eceb50846ff14",
       "version_major": 2,
       "version_minor": 0
      },
      "text/plain": [
       "Downloading tokenizer_config.json:   0%|          | 0.00/86.0 [00:00<?, ?B/s]"
      ]
     },
     "metadata": {},
     "output_type": "display_data"
    },
    {
     "data": {
      "text/plain": [
       "['positive', 'negative']"
      ]
     },
     "execution_count": 31,
     "metadata": {},
     "output_type": "execute_result"
    }
   ],
   "source": [
    "sa = SentimentAnalyzer(\"CAMeL-Lab/bert-base-arabic-camelbert-msa-sentiment\")\n",
    "sentences = ['أنا بخير', 'أنا لست بخير']\n",
    "sa.predict(sentences)"
   ]
  },
  {
   "cell_type": "code",
   "execution_count": 32,
   "id": "ad2cfb06",
   "metadata": {},
   "outputs": [
    {
     "data": {
      "text/plain": [
       "['negative']"
      ]
     },
     "execution_count": 32,
     "metadata": {},
     "output_type": "execute_result"
    }
   ],
   "source": [
    "test_1 = 'أمريكا فظيعة' #America is terrible\n",
    "sa.predict(test_1)"
   ]
  },
  {
   "cell_type": "code",
   "execution_count": 33,
   "id": "de412882",
   "metadata": {},
   "outputs": [
    {
     "data": {
      "text/plain": [
       "['neutral']"
      ]
     },
     "execution_count": 33,
     "metadata": {},
     "output_type": "execute_result"
    }
   ],
   "source": [
    "test_2 = \"هل يمكننا تناول الغداء؟\" #Can we have lunch?\n",
    "sa.predict(test_2)"
   ]
  },
  {
   "cell_type": "code",
   "execution_count": 51,
   "id": "03a8832f",
   "metadata": {},
   "outputs": [
    {
     "data": {
      "text/plain": [
       "[{'label': 'negative', 'score': 0.5970765352249146}]"
      ]
     },
     "execution_count": 51,
     "metadata": {},
     "output_type": "execute_result"
    }
   ],
   "source": [
    "test_3 =  \"قال الرئيس الأمريكي بايدن إن الكثيرين سيظلون مصابين بـ COVID-19 ، لكن اللقاحات والاختبارات والعلاج المتاحة جعلت فيروس كورونا أقل فتكًا\"\n",
    "#US President Biden says many will still get COVID-19, but available vaccines, testing and treatment have made the coronavirus less deadly\n",
    "mix(test_3)"
   ]
  },
  {
   "cell_type": "code",
   "execution_count": 62,
   "id": "c6afa3a8",
   "metadata": {},
   "outputs": [],
   "source": [
    "test_4 = \"مقتل أسامة بن لادن\" \n",
    "#Osama Bin Laden killed\n",
    "#sa.predict(test_4) #this changed \n",
    "#sa(test_4)"
   ]
  },
  {
   "cell_type": "code",
   "execution_count": 63,
   "id": "59535cc1",
   "metadata": {},
   "outputs": [],
   "source": [
    "test_5 = \"أسامة بن لادن\" \n",
    "#Osama Bin Laden\n",
    "#sa.predict(test_5)"
   ]
  },
  {
   "cell_type": "code",
   "execution_count": 57,
   "id": "cf61f56c",
   "metadata": {},
   "outputs": [
    {
     "ename": "TypeError",
     "evalue": "__call__() missing 1 required positional argument: 'inputs'",
     "output_type": "error",
     "traceback": [
      "\u001b[0;31m---------------------------------------------------------------------------\u001b[0m",
      "\u001b[0;31mTypeError\u001b[0m                                 Traceback (most recent call last)",
      "\u001b[0;32m/var/folders/s4/hmz6ljm533vgpm_bhv59yw0m0000gn/T/ipykernel_19806/2000128624.py\u001b[0m in \u001b[0;36m<module>\u001b[0;34m\u001b[0m\n\u001b[1;32m      1\u001b[0m \u001b[0mtest_6\u001b[0m \u001b[0;34m=\u001b[0m \u001b[0;34m\"الرئيس ترامب\"\u001b[0m\u001b[0;34m\u001b[0m\u001b[0;34m\u001b[0m\u001b[0m\n\u001b[1;32m      2\u001b[0m \u001b[0;31m#President Trump\u001b[0m\u001b[0;34m\u001b[0m\u001b[0;34m\u001b[0m\u001b[0m\n\u001b[0;32m----> 3\u001b[0;31m \u001b[0msa\u001b[0m\u001b[0;34m.\u001b[0m\u001b[0mpredict\u001b[0m\u001b[0;34m(\u001b[0m\u001b[0mtest_6\u001b[0m\u001b[0;34m)\u001b[0m\u001b[0;34m\u001b[0m\u001b[0;34m\u001b[0m\u001b[0m\n\u001b[0m",
      "\u001b[0;32m/usr/local/anaconda3/lib/python3.9/site-packages/transformers/pipelines/base.py\u001b[0m in \u001b[0;36mpredict\u001b[0;34m(self, X)\u001b[0m\n\u001b[1;32m    838\u001b[0m         \u001b[0mScikit\u001b[0m \u001b[0;34m/\u001b[0m \u001b[0mKeras\u001b[0m \u001b[0minterface\u001b[0m \u001b[0mto\u001b[0m \u001b[0mtransformers\u001b[0m\u001b[0;31m'\u001b[0m \u001b[0mpipelines\u001b[0m\u001b[0;34m.\u001b[0m \u001b[0mThis\u001b[0m \u001b[0mmethod\u001b[0m \u001b[0mwill\u001b[0m \u001b[0mforward\u001b[0m \u001b[0mto\u001b[0m \u001b[0m__call__\u001b[0m\u001b[0;34m(\u001b[0m\u001b[0;34m)\u001b[0m\u001b[0;34m.\u001b[0m\u001b[0;34m\u001b[0m\u001b[0;34m\u001b[0m\u001b[0m\n\u001b[1;32m    839\u001b[0m         \"\"\"\n\u001b[0;32m--> 840\u001b[0;31m         \u001b[0;32mreturn\u001b[0m \u001b[0mself\u001b[0m\u001b[0;34m(\u001b[0m\u001b[0mX\u001b[0m\u001b[0;34m=\u001b[0m\u001b[0mX\u001b[0m\u001b[0;34m)\u001b[0m\u001b[0;34m\u001b[0m\u001b[0;34m\u001b[0m\u001b[0m\n\u001b[0m\u001b[1;32m    841\u001b[0m \u001b[0;34m\u001b[0m\u001b[0m\n\u001b[1;32m    842\u001b[0m     \u001b[0;34m@\u001b[0m\u001b[0mcontextmanager\u001b[0m\u001b[0;34m\u001b[0m\u001b[0;34m\u001b[0m\u001b[0m\n",
      "\u001b[0;32m/usr/local/anaconda3/lib/python3.9/site-packages/transformers/pipelines/text_classification.py\u001b[0m in \u001b[0;36m__call__\u001b[0;34m(self, *args, **kwargs)\u001b[0m\n\u001b[1;32m    136\u001b[0m             \u001b[0mIf\u001b[0m\u001b[0;31m \u001b[0m\u001b[0;31m`\u001b[0m\u001b[0mtop_k\u001b[0m\u001b[0;31m`\u001b[0m \u001b[0;32mis\u001b[0m \u001b[0mused\u001b[0m\u001b[0;34m,\u001b[0m \u001b[0mone\u001b[0m \u001b[0msuch\u001b[0m \u001b[0mdictionary\u001b[0m \u001b[0;32mis\u001b[0m \u001b[0mreturned\u001b[0m \u001b[0mper\u001b[0m \u001b[0mlabel\u001b[0m\u001b[0;34m.\u001b[0m\u001b[0;34m\u001b[0m\u001b[0;34m\u001b[0m\u001b[0m\n\u001b[1;32m    137\u001b[0m         \"\"\"\n\u001b[0;32m--> 138\u001b[0;31m         \u001b[0mresult\u001b[0m \u001b[0;34m=\u001b[0m \u001b[0msuper\u001b[0m\u001b[0;34m(\u001b[0m\u001b[0;34m)\u001b[0m\u001b[0;34m.\u001b[0m\u001b[0m__call__\u001b[0m\u001b[0;34m(\u001b[0m\u001b[0;34m*\u001b[0m\u001b[0margs\u001b[0m\u001b[0;34m,\u001b[0m \u001b[0;34m**\u001b[0m\u001b[0mkwargs\u001b[0m\u001b[0;34m)\u001b[0m\u001b[0;34m\u001b[0m\u001b[0;34m\u001b[0m\u001b[0m\n\u001b[0m\u001b[1;32m    139\u001b[0m         \u001b[0;31m# TODO try and retrieve it in a nicer way from _sanitize_parameters.\u001b[0m\u001b[0;34m\u001b[0m\u001b[0;34m\u001b[0m\u001b[0m\n\u001b[1;32m    140\u001b[0m         \u001b[0m_legacy\u001b[0m \u001b[0;34m=\u001b[0m \u001b[0;34m\"top_k\"\u001b[0m \u001b[0;32mnot\u001b[0m \u001b[0;32min\u001b[0m \u001b[0mkwargs\u001b[0m\u001b[0;34m\u001b[0m\u001b[0;34m\u001b[0m\u001b[0m\n",
      "\u001b[0;31mTypeError\u001b[0m: __call__() missing 1 required positional argument: 'inputs'"
     ]
    }
   ],
   "source": [
    "test_6 = \"الرئيس ترامب\"\n",
    "#President Trump\n",
    "sa.predict(test_6)"
   ]
  },
  {
   "cell_type": "markdown",
   "id": "16c8a519",
   "metadata": {},
   "source": [
    "### Notes:\n",
    "- It appears all names are neutral\n",
    "- End to terrorism: "
   ]
  },
  {
   "cell_type": "code",
   "execution_count": 65,
   "id": "3ec2f443",
   "metadata": {},
   "outputs": [
    {
     "data": {
      "text/plain": [
       "[{'label': 'negative', 'score': 0.7404600381851196}]"
      ]
     },
     "execution_count": 65,
     "metadata": {},
     "output_type": "execute_result"
    }
   ],
   "source": [
    "test_7 = \"االإرهاب\"\n",
    "#terrorism\n",
    "#sa.predict(test_7)\n",
    "sa(test_7)"
   ]
  },
  {
   "cell_type": "code",
   "execution_count": 66,
   "id": "a64da0b8",
   "metadata": {},
   "outputs": [],
   "source": [
    "test_7 = \"الإرهاب خير\"\n",
    "#terrorism is good\n",
    "#sa.predict(test_7)\n",
    "#sa(test_7)"
   ]
  },
  {
   "cell_type": "code",
   "execution_count": 67,
   "id": "74ca75e4",
   "metadata": {},
   "outputs": [],
   "source": [
    "test_8 = \"نهاية الإرهاب\"\n",
    "#end to terrorism\n",
    "#sa(test_8)"
   ]
  },
  {
   "cell_type": "code",
   "execution_count": 76,
   "id": "42701d64",
   "metadata": {},
   "outputs": [
    {
     "data": {
      "text/plain": [
       "('terrorism has ended', [{'label': 'positive', 'score': 0.9403408765792847}])"
      ]
     },
     "execution_count": 76,
     "metadata": {},
     "output_type": "execute_result"
    }
   ],
   "source": [
    "test_9 = \"لقد انتهى الإرهاب\"\n",
    "test_9_en = 'terrorism has ended'\n",
    "test_9 = test_9_en, sa(test_9)\n",
    "test_9"
   ]
  },
  {
   "cell_type": "code",
   "execution_count": 58,
   "id": "671ffd3a",
   "metadata": {},
   "outputs": [],
   "source": []
  },
  {
   "cell_type": "code",
   "execution_count": 69,
   "id": "7928f518",
   "metadata": {},
   "outputs": [
    {
     "name": "stdout",
     "output_type": "stream",
     "text": [
      "[{'label': 'positive', 'score': 0.9616649150848389}, {'label': 'negative', 'score': 0.9779177904129028}]\n"
     ]
    }
   ],
   "source": [
    "sa = pipeline('text-classification', model='CAMeL-Lab/bert-base-arabic-camelbert-msa-sentiment')\n",
    "sentences = ['أنا بخير', 'أنا لست بخير']\n",
    "print(sa(sentences))"
   ]
  },
  {
   "cell_type": "code",
   "execution_count": 79,
   "id": "813660f2",
   "metadata": {},
   "outputs": [
    {
     "data": {
      "text/plain": [
       "([{'label': 'neutral', 'score': 0.5095989108085632}],\n",
       " ('terrorism has ended', [{'label': 'positive', 'score': 0.9403408765792847}]))"
      ]
     },
     "execution_count": 79,
     "metadata": {},
     "output_type": "execute_result"
    }
   ],
   "source": [
    "sa([test_7]), test_9"
   ]
  },
  {
   "cell_type": "code",
   "execution_count": 50,
   "id": "2263decc",
   "metadata": {},
   "outputs": [
    {
     "data": {
      "text/plain": [
       "[{'label': 'negative', 'score': 0.8890805244445801}]"
      ]
     },
     "execution_count": 50,
     "metadata": {},
     "output_type": "execute_result"
    }
   ],
   "source": [
    "sa(test_7)"
   ]
  },
  {
   "cell_type": "code",
   "execution_count": 51,
   "id": "92ab11c3",
   "metadata": {},
   "outputs": [
    {
     "data": {
      "text/plain": [
       "[{'label': 'neutral', 'score': 0.9116173386573792}]"
      ]
     },
     "execution_count": 51,
     "metadata": {},
     "output_type": "execute_result"
    }
   ],
   "source": [
    "sa(test_6) #Trump"
   ]
  },
  {
   "cell_type": "code",
   "execution_count": 52,
   "id": "c81e07ac",
   "metadata": {},
   "outputs": [
    {
     "data": {
      "text/plain": [
       "[{'label': 'neutral', 'score': 0.5159112215042114}]"
      ]
     },
     "execution_count": 52,
     "metadata": {},
     "output_type": "execute_result"
    }
   ],
   "source": [
    "sa(test_5) #bin laden"
   ]
  },
  {
   "cell_type": "code",
   "execution_count": null,
   "id": "648fd77b",
   "metadata": {},
   "outputs": [],
   "source": []
  },
  {
   "cell_type": "code",
   "execution_count": null,
   "id": "ac5e54c7",
   "metadata": {},
   "outputs": [],
   "source": []
  },
  {
   "cell_type": "code",
   "execution_count": null,
   "id": "8f94d2a2",
   "metadata": {},
   "outputs": [],
   "source": [
    "f = open('/Users/mindyshiben/codeup-data-science/Alittihad_XML_CP1256-1/Alittihad_CP1256.xml',  'r', encoding ='CP1256')\n",
    "data= f.read()\n",
    "soup = BeautifulSoup(data)\n",
    "topics= soup.findAll('body') # find all body tags\n",
    "data.head()"
   ]
  },
  {
   "cell_type": "code",
   "execution_count": null,
   "id": "f6d4c9c7",
   "metadata": {},
   "outputs": [],
   "source": []
  },
  {
   "cell_type": "code",
   "execution_count": null,
   "id": "d604fa50",
   "metadata": {},
   "outputs": [],
   "source": []
  },
  {
   "cell_type": "code",
   "execution_count": null,
   "id": "4c88c037",
   "metadata": {},
   "outputs": [],
   "source": []
  },
  {
   "cell_type": "code",
   "execution_count": null,
   "id": "29acd72c",
   "metadata": {},
   "outputs": [],
   "source": []
  },
  {
   "cell_type": "code",
   "execution_count": null,
   "id": "77b384c5",
   "metadata": {},
   "outputs": [],
   "source": [
    "data"
   ]
  },
  {
   "cell_type": "code",
   "execution_count": null,
   "id": "21302823",
   "metadata": {},
   "outputs": [],
   "source": [
    "import pandas as pd\n",
    "\n",
    "xml_data = open('/Users/mindyshiben/codeup-data-science/Alittihad_XML_CP1256-1/Alittihad_CP1256.xml',  'r', encoding ='CP1256').read()  # Read file\n",
    "root = ET.XML(xml_data)  # Parse XML\n",
    "\n",
    "data = []\n",
    "cols = []\n",
    "for i, child in enumerate(root):\n",
    "    data.append([subchild.text for subchild in child])\n",
    "    cols.append(child.tag)\n",
    "\n",
    "df = pd.DataFrame(data).T  # Write in DF and transpose it\n",
    "df.columns = cols  # Update column names\n",
    "print(df)"
   ]
  },
  {
   "cell_type": "code",
   "execution_count": null,
   "id": "b33f8a79",
   "metadata": {},
   "outputs": [],
   "source": [
    "file = open('/Users/mindyshiben/codeup-data-science/Alittihad_XML_CP1256-1/Alittihad_CP1256.xml', encoding ='CP1256')"
   ]
  },
  {
   "cell_type": "code",
   "execution_count": null,
   "id": "d87a69af",
   "metadata": {},
   "outputs": [],
   "source": [
    "from lxml import etree\n",
    "from functools import partial\n",
    "\n",
    "def fast_iter(context, func):\n",
    "    for event, elem in context:\n",
    "        func(elem)\n",
    "        elem.clear()\n",
    "        while elem.getprevious() is not None:\n",
    "            del elem.getparent()[0]\n",
    "    del context\n",
    "\n",
    "def printattname(elem, attname):\n",
    "    return elem.attrib[attname]\n",
    "\n",
    "def main(fname, tag, attname):\n",
    "\n",
    "    fun = partial(printattname, attname=attname)\n",
    "    with open(fname) as f:\n",
    "        context = etree.iterparse(f, events=(\"end\",), tag=tag)\n",
    "        fast_iter(context, fun)\n",
    "\n",
    "if __name__ == \"__main__\":\n",
    "    from docopt import docopt\n",
    "    main(args[\"<xmlfile>\"], args[\"<tag>\"], args[\"<attname>\"])\n"
   ]
  },
  {
   "cell_type": "code",
   "execution_count": null,
   "id": "3ebb4b3d",
   "metadata": {},
   "outputs": [],
   "source": [
    "import numpy as np\n",
    "from xml.etree.ElementTree import iterparse\n",
    "#from cElementTree import iterparse          # POSSIBLY FASTER\n",
    "\n",
    "filename = file\n",
    "data = []\n",
    "\n",
    "for event, elem in iterparse(filename,  events=(\"start\", \"end\")):    \n",
    "    if elem.tag == \"TimeStep\" and event == 'start':\n",
    "        TS = elem.attrib['TS']\n",
    "        elem.clear()\n",
    "        \n",
    "    if elem.tag == \"Particle\" and event == 'start':\n",
    "        cdata = elem.text.split(',')\n",
    "        data.append([TS, elem.attrib['PT'], cdata[0], cdata[1]])\n",
    "        elem.clear()\n",
    "\n",
    "mat = np.array(data).astype(np.float)   \n",
    "print(mat)\n"
   ]
  },
  {
   "cell_type": "code",
   "execution_count": null,
   "id": "e8bfc762",
   "metadata": {},
   "outputs": [],
   "source": [
    "import xml.sax"
   ]
  },
  {
   "cell_type": "code",
   "execution_count": null,
   "id": "c570b3cf",
   "metadata": {},
   "outputs": [],
   "source": [
    "parser = xml.sax.make_parser()"
   ]
  },
  {
   "cell_type": "code",
   "execution_count": null,
   "id": "c74d2a19",
   "metadata": {},
   "outputs": [],
   "source": [
    "class MyHandler(xml.sax.handler.ContentHandler):\n",
    "    def __init__(self):\n",
    "        self._charBuffer = []\n",
    "        self._result = []\n",
    "\n",
    "    def _getCharacterData(self):\n",
    "        data = ''.join(self._charBuffer).strip()\n",
    "        self._charBuffer = []\n",
    "        return data.strip() #remove strip() if whitespace is important\n",
    "\n",
    "    def parse(self, f):\n",
    "        xml.sax.parse(f, self)\n",
    "        return self._result\n",
    "\n",
    "    def characters(self, data):\n",
    "        self._charBuffer.append(data)\n",
    "\n",
    "#     def startElement(self, name, attrs):\n",
    "#         if name == 'job': self._result.append({})\n",
    "\n",
    "#     def endElement(self, name):\n",
    "#         if not name == 'job': self._result[-1][name] = self._getCharacterData()\n",
    "\n",
    "jobs = MyHandler().parse('/Users/mindyshiben/Documents/Alittihad_utf_8.sgm')"
   ]
  },
  {
   "cell_type": "code",
   "execution_count": null,
   "id": "96fca207",
   "metadata": {},
   "outputs": [],
   "source": []
  }
 ],
 "metadata": {
  "kernelspec": {
   "display_name": "Python 3 (ipykernel)",
   "language": "python",
   "name": "python3"
  },
  "language_info": {
   "codemirror_mode": {
    "name": "ipython",
    "version": 3
   },
   "file_extension": ".py",
   "mimetype": "text/x-python",
   "name": "python",
   "nbconvert_exporter": "python",
   "pygments_lexer": "ipython3",
   "version": "3.9.7"
  }
 },
 "nbformat": 4,
 "nbformat_minor": 5
}
