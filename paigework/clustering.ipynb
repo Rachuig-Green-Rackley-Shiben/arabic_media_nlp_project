{
 "cells": [
  {
   "cell_type": "code",
   "execution_count": 1,
   "id": "28b43e0b",
   "metadata": {},
   "outputs": [],
   "source": [
    "import pandas as pd\n",
    "import numpy as np\n",
    "import seaborn as sns\n",
    "import matplotlib as plt\n",
    "%matplotlib inline\n",
    "import matplotlib.pyplot as plt\n",
    "import re\n",
    "import datetime\n",
    "\n",
    "from scipy import stats\n",
    "from scipy.stats import pearsonr, spearmanr\n",
    "from sklearn.cluster import KMeans\n",
    "from sklearn.cluster import DBSCAN\n",
    "\n",
    "\n",
    "from googletrans import Translator"
   ]
  },
  {
   "cell_type": "code",
   "execution_count": null,
   "id": "dda1507a",
   "metadata": {},
   "outputs": [],
   "source": [
    "data = pd.read_csv('daily8_5.csv')\n",
    "data['dateline'] = pd.to_datetime(data.dateline)\n",
    "df = data.copy()\n",
    "df = df[df.text_label != 'False']\n",
    "df2 = df"
   ]
  },
  {
   "cell_type": "code",
   "execution_count": null,
   "id": "ecd3266e",
   "metadata": {},
   "outputs": [],
   "source": [
    "df['dateline'] = df['dateline'].astype(str)\n",
    "df = df[df.dateline != '1998-04-02']\n",
    "df['dateline'] = pd.to_datetime(df['dateline'])\n",
    "df['dateline']\n",
    "df[\"quarter\"] = pd.PeriodIndex(df.dateline, freq='Q')\n",
    "quarter_perc = pd.crosstab(df.quarter, df.text_label, margins=True)\n",
    "quarter_perc"
   ]
  },
  {
   "cell_type": "code",
   "execution_count": null,
   "id": "4d868cbe",
   "metadata": {},
   "outputs": [],
   "source": [
    "quarter_perc = quarter_perc.apply(lambda x: x / x['All'] * 100, axis=1)\n",
    "quarter_perc = quarter_perc.drop(columns=['All'])"
   ]
  },
  {
   "cell_type": "code",
   "execution_count": null,
   "id": "49085ddf",
   "metadata": {},
   "outputs": [],
   "source": [
    "quarter_perc"
   ]
  },
  {
   "cell_type": "code",
   "execution_count": null,
   "id": "9106000f",
   "metadata": {},
   "outputs": [],
   "source": [
    "plt.rcParams['figure.figsize'] = (20,6)\n",
    "quarter_perc.plot(kind = 'bar')"
   ]
  },
  {
   "cell_type": "code",
   "execution_count": null,
   "id": "f85cbddf",
   "metadata": {},
   "outputs": [],
   "source": [
    "transcription_table=pd.DataFrame(\n",
    "    {\n",
    "        'source': ['Alittihad','Echoroukonline','Ryiadh','SaudiYoum','Techreen', 'Alqabas', 'Almustaqbal','Almasryalyoum', 'Youm7','Sabanews'],\n",
    "        'country': ['UAE','Algeria','Saudi_Arabia','Saudi_Arabia','Syria', 'Kuwait', 'Lebanon','Egypt','Egypt','Yemen']\n",
    "    }\n",
    ")\n",
    "\n",
    "mapping = transcription_table.set_index('source').to_dict()['country']\n",
    "\n",
    "df['country'] = df['source'].apply(lambda x: mapping.get(x))\n",
    "#map country to news source"
   ]
  },
  {
   "cell_type": "code",
   "execution_count": null,
   "id": "ad63fdd0",
   "metadata": {},
   "outputs": [],
   "source": [
    "df.info()"
   ]
  },
  {
   "cell_type": "code",
   "execution_count": null,
   "id": "0b9d2692",
   "metadata": {},
   "outputs": [],
   "source": [
    "df['country']"
   ]
  },
  {
   "cell_type": "code",
   "execution_count": null,
   "id": "1698e865",
   "metadata": {},
   "outputs": [],
   "source": [
    "cluster1 = df[['source', 'quarter', 'country']]# Make object\n",
    "cluster1['quarter'] = cluster1['quarter'].astype(str)\n",
    "pd.get_dummies(cluster1)"
   ]
  },
  {
   "cell_type": "code",
   "execution_count": null,
   "id": "e9f8a784",
   "metadata": {},
   "outputs": [],
   "source": []
  }
 ],
 "metadata": {
  "kernelspec": {
   "display_name": "Python 3 (ipykernel)",
   "language": "python",
   "name": "python3"
  },
  "language_info": {
   "codemirror_mode": {
    "name": "ipython",
    "version": 3
   },
   "file_extension": ".py",
   "mimetype": "text/x-python",
   "name": "python",
   "nbconvert_exporter": "python",
   "pygments_lexer": "ipython3",
   "version": "3.9.7"
  }
 },
 "nbformat": 4,
 "nbformat_minor": 5
}
