{
 "cells": [
  {
   "cell_type": "code",
   "execution_count": 1,
   "id": "3291f75f",
   "metadata": {},
   "outputs": [],
   "source": [
    "import pandas as pd\n",
    "from googletrans import Translator"
   ]
  },
  {
   "cell_type": "code",
   "execution_count": 2,
   "id": "070b0d37",
   "metadata": {},
   "outputs": [
    {
     "data": {
      "text/plain": [
       "'Hello how are you?'"
      ]
     },
     "execution_count": 2,
     "metadata": {},
     "output_type": "execute_result"
    }
   ],
   "source": [
    "#example using translator\n",
    "translator = Translator()\n",
    "\n",
    "translation = translator.translate(\"مرحبا كيف حالك؟\",  dest='en')\n",
    "translation.text"
   ]
  },
  {
   "cell_type": "markdown",
   "id": "0e5f0655",
   "metadata": {},
   "source": [
    "'January' : 'يناير'\n",
    "'February' : 'فبراير'\n",
    "'March' : 'مارس'\n",
    "'April' : 'أبريل'\n",
    "'May' : 'مايو'\n",
    "'June' : 'يونيو'\n",
    "'July' : 'يوليو'\n",
    "'August' : 'أغسطس'\n",
    "'September' : 'سبتمبر'\n",
    "'October' : 'أكتوبر'\n",
    "'November' : 'نوفمبر'\n",
    "'December' : 'ديسمبر'مايو"
   ]
  },
  {
   "cell_type": "markdown",
   "id": "d96712c8",
   "metadata": {},
   "source": [
    "## World events during 2000 - 2014"
   ]
  },
  {
   "cell_type": "markdown",
   "id": "8d02590f",
   "metadata": {},
   "source": [
    "September 11, 2001\n",
    "\n",
    "9-11\n",
    "The 9/11 attack by Osama bin Laden's Islamic extremist terrorists group, al Qaeda, against the World Trade Center and the Pentagon, led to American President George W. Bush calling for and getting tougher tough security standards, including the TSA, the Transportation Security Administration and the USA Patriot Act, and then invading Afghanistan, to root out al Qaeda and stop the Taliban who were protecting the terrorists."
   ]
  },
  {
   "cell_type": "markdown",
   "id": "cc8fa8ea",
   "metadata": {},
   "source": [
    "Oct 22 2001 - US LEADS ASSAULT ON TALIBAN IN AFGHANISTAN"
   ]
  },
  {
   "cell_type": "markdown",
   "id": "bb2c265f",
   "metadata": {},
   "source": [
    "Oct 11 2002 - CONGRESS AUTHORIZES FORCE AGAINST IRAQ"
   ]
  },
  {
   "cell_type": "markdown",
   "id": "ccfaed04",
   "metadata": {},
   "source": [
    "March 19, 2003 - The United States invades Iraq and ousts Saddam Hussein, triggering worldwide protests and an 8 year war."
   ]
  },
  {
   "cell_type": "markdown",
   "id": "306f6db3",
   "metadata": {},
   "source": [
    "2003 - Gulf War II\n",
    "After al Qaeda terrorists attacked the U.S. on 9/11, America and invaded Afghanistan to capture the terrorists and oust the Taliban, after which the U.S carried out a pre-emptive strike against Iraq, to find Weapons of Mass Destruction, WMDs, and in particular to stop Saddam Hussein from making nuclear weapons; but the war became an occupation and an insurgency rose up that was countered only when President George W. Bush ordered a troop surge to stop it."
   ]
  },
  {
   "cell_type": "markdown",
   "id": "34ce3d85",
   "metadata": {},
   "source": [
    "February 4, 2004 - Facebook is formed"
   ]
  },
  {
   "cell_type": "markdown",
   "id": "21c52035",
   "metadata": {},
   "source": [
    "November 7–December 23, 2004 - The Second Battle of Fallujah occurs. It is the deadliest American battle since Vietnam, killing 95 troops. Is also considered the highest point of conflict during the Iraq war in the city of Fallujah."
   ]
  },
  {
   "cell_type": "markdown",
   "id": "62ee49f2",
   "metadata": {},
   "source": [
    "February 14, 2005 - Youtube is founded."
   ]
  },
  {
   "cell_type": "markdown",
   "id": "b1d63464",
   "metadata": {},
   "source": [
    "June 23, 2005 - Reddit is founded."
   ]
  },
  {
   "cell_type": "markdown",
   "id": "04b38bcc",
   "metadata": {},
   "source": [
    "February 22, 2006 - 2006 al-Askari mosque bombing. The attack on the mosque, one of the holiest sites in Shia Islam, has not been claimed by any group; the then President of the United States, George W. Bush, suggested from \"evidence\" that the bombing was an al-Qaeda plot.Triggers the Iraqi Civil war."
   ]
  },
  {
   "cell_type": "markdown",
   "id": "181c0403",
   "metadata": {},
   "source": [
    "March 21, 2006 - Twitter is launched."
   ]
  },
  {
   "cell_type": "markdown",
   "id": "350f15fc",
   "metadata": {},
   "source": [
    "October 9–November 13, 2006 - Google acquires YouTube for $1.65 billion"
   ]
  },
  {
   "cell_type": "markdown",
   "id": "504bceac",
   "metadata": {},
   "source": [
    "December 30, 2006 - Execution of Saddam Hussein by hanging."
   ]
  },
  {
   "cell_type": "markdown",
   "id": "3c0c27fd",
   "metadata": {},
   "source": [
    "April 16, 2007 - VIRGINIA TECH MASS SHOOTING"
   ]
  },
  {
   "cell_type": "markdown",
   "id": "94d15dbc",
   "metadata": {},
   "source": [
    "September 15, 2008 - Great Recession. Lehman Brothers filed for bankruptcy. The investment bank had taken too many risks in the subprime mortgage market. Its bankruptcy, the largest in the history of the United States, was the beginning of the global financial crisis that devastated the economy of half the world."
   ]
  },
  {
   "cell_type": "markdown",
   "id": "2532d9fa",
   "metadata": {},
   "source": [
    "January 20, 2009 - Barack Obama is inaugurated as President of the United States, the first African-American to hold the office.\n"
   ]
  },
  {
   "cell_type": "markdown",
   "id": "380aca70",
   "metadata": {},
   "source": [
    "2010 - Instagram is launched."
   ]
  },
  {
   "cell_type": "markdown",
   "id": "8f4903fd",
   "metadata": {},
   "source": [
    "August 30, 2010 - US COMBAT ROLL IN IRAQ ENDS"
   ]
  },
  {
   "cell_type": "markdown",
   "id": "3adbed75",
   "metadata": {},
   "source": [
    "May 2 2011 - U.S. Navy SEALs Take Down Osama Bin Laden"
   ]
  },
  {
   "cell_type": "markdown",
   "id": "1ec123ad",
   "metadata": {},
   "source": [
    "September 19, 2011 - Occupy Wallstreet"
   ]
  },
  {
   "cell_type": "markdown",
   "id": "d95393c3",
   "metadata": {},
   "source": [
    "December 14, 2012 - Sandy Hook shooting - 20-year-old gunman killed 26 people at Sandy Hook Elementary School in Newton, Connecticut. Of those killed, twenty were children between six and seven years old."
   ]
  },
  {
   "cell_type": "markdown",
   "id": "c840cb6a",
   "metadata": {},
   "source": [
    "April 15, 2013 - Boston Marathon Bombing"
   ]
  },
  {
   "cell_type": "markdown",
   "id": "16aa28dc",
   "metadata": {},
   "source": [
    "2014 - Rise of ISIS Presents New Foreign Policy Challenges"
   ]
  },
  {
   "cell_type": "code",
   "execution_count": null,
   "id": "99a3cd62",
   "metadata": {},
   "outputs": [],
   "source": []
  }
 ],
 "metadata": {
  "kernelspec": {
   "display_name": "Python 3 (ipykernel)",
   "language": "python",
   "name": "python3"
  },
  "language_info": {
   "codemirror_mode": {
    "name": "ipython",
    "version": 3
   },
   "file_extension": ".py",
   "mimetype": "text/x-python",
   "name": "python",
   "nbconvert_exporter": "python",
   "pygments_lexer": "ipython3",
   "version": "3.9.7"
  }
 },
 "nbformat": 4,
 "nbformat_minor": 5
}
