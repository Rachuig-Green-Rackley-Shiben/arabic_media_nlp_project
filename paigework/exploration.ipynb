{
 "cells": [
  {
   "cell_type": "code",
   "execution_count": 1,
   "id": "da23f4be",
   "metadata": {},
   "outputs": [],
   "source": [
    "import pandas as pd\n",
    "import numpy as np\n",
    "\n",
    "import re\n",
    "import nltk\n",
    "from wordcloud import WordCloud\n",
    "from nltk.corpus import stopwords\n",
    "from sklearn.model_selection import train_test_split\n",
    "from sklearn.model_selection import TimeSeriesSplit\n",
    "\n",
    "from matplotlib import pyplot as plt\n",
    "%matplotlib inline\n",
    "import seaborn as sns\n",
    "import statsmodels.api as sm\n",
    "import datetime as dt\n",
    "\n",
    "import warnings\n",
    "warnings.filterwarnings('ignore')\n",
    "\n",
    "import date_fixer\n",
    "\n",
    "from googletrans import Translator"
   ]
  },
  {
   "cell_type": "code",
   "execution_count": 2,
   "id": "3dc04e5a",
   "metadata": {},
   "outputs": [
    {
     "data": {
      "text/plain": [
       "'Hello how are you?'"
      ]
     },
     "execution_count": 2,
     "metadata": {},
     "output_type": "execute_result"
    }
   ],
   "source": [
    "#example using translator Arabic to Engligh\n",
    "translator = Translator()\n",
    "\n",
    "translation = translator.translate(\"مرحبا كيف حالك؟\",  dest='en')\n",
    "translation.text"
   ]
  },
  {
   "cell_type": "code",
   "execution_count": 3,
   "id": "f7dcfa73",
   "metadata": {},
   "outputs": [
    {
     "data": {
      "text/plain": [
       "'مرحبًاّ! كيف حالك؟'"
      ]
     },
     "execution_count": 3,
     "metadata": {},
     "output_type": "execute_result"
    }
   ],
   "source": [
    "#example using translator English to Arabic\n",
    "translator = Translator()\n",
    "\n",
    "translation = translator.translate(\"Hello, how are you?\",  dest='ar')\n",
    "translation.text"
   ]
  },
  {
   "cell_type": "code",
   "execution_count": 4,
   "id": "8bb34ea8",
   "metadata": {},
   "outputs": [
    {
     "ename": "TypeError",
     "evalue": "'NoneType' object is not subscriptable",
     "output_type": "error",
     "traceback": [
      "\u001b[0;31m---------------------------------------------------------------------------\u001b[0m",
      "\u001b[0;31mTypeError\u001b[0m                                 Traceback (most recent call last)",
      "\u001b[0;32m/var/folders/6m/5f3p8xk954n_z611nvzksq440000gn/T/ipykernel_12102/3108418092.py\u001b[0m in \u001b[0;36m<module>\u001b[0;34m\u001b[0m\n\u001b[1;32m      1\u001b[0m \u001b[0mdf\u001b[0m \u001b[0;34m=\u001b[0m \u001b[0mpd\u001b[0m\u001b[0;34m.\u001b[0m\u001b[0mread_csv\u001b[0m\u001b[0;34m(\u001b[0m\u001b[0;34m'daily8_3.csv'\u001b[0m\u001b[0;34m)\u001b[0m\u001b[0;34m\u001b[0m\u001b[0;34m\u001b[0m\u001b[0m\n\u001b[0;32m----> 2\u001b[0;31m \u001b[0mnew\u001b[0m \u001b[0;34m=\u001b[0m \u001b[0mdate_fixer\u001b[0m\u001b[0;34m.\u001b[0m\u001b[0mmake_datetime\u001b[0m\u001b[0;34m(\u001b[0m\u001b[0mdf\u001b[0m\u001b[0;34m)\u001b[0m\u001b[0;34m\u001b[0m\u001b[0;34m\u001b[0m\u001b[0m\n\u001b[0m",
      "\u001b[0;32m~/codeup-data-science/arabic_media_nlp_project/paigework/date_fixer.py\u001b[0m in \u001b[0;36mmake_datetime\u001b[0;34m(dataframe)\u001b[0m\n\u001b[1;32m    248\u001b[0m \u001b[0;34m\u001b[0m\u001b[0m\n\u001b[1;32m    249\u001b[0m         \u001b[0;32melif\u001b[0m \u001b[0mdf\u001b[0m\u001b[0;34m.\u001b[0m\u001b[0miloc\u001b[0m\u001b[0;34m[\u001b[0m\u001b[0mi\u001b[0m\u001b[0;34m]\u001b[0m\u001b[0;34m.\u001b[0m\u001b[0msource\u001b[0m \u001b[0;34m==\u001b[0m \u001b[0;34m'Alittihad'\u001b[0m\u001b[0;34m:\u001b[0m\u001b[0;34m\u001b[0m\u001b[0;34m\u001b[0m\u001b[0m\n\u001b[0;32m--> 250\u001b[0;31m             \u001b[0mdate_list\u001b[0m\u001b[0;34m.\u001b[0m\u001b[0mappend\u001b[0m\u001b[0;34m(\u001b[0m\u001b[0malittihad_date\u001b[0m\u001b[0;34m(\u001b[0m\u001b[0mdf\u001b[0m\u001b[0;34m.\u001b[0m\u001b[0miloc\u001b[0m\u001b[0;34m[\u001b[0m\u001b[0mi\u001b[0m\u001b[0;34m]\u001b[0m\u001b[0;34m[\u001b[0m\u001b[0;34m'dateline'\u001b[0m\u001b[0;34m]\u001b[0m\u001b[0;34m,\u001b[0m \u001b[0mm_maps\u001b[0m\u001b[0;34m)\u001b[0m\u001b[0;34m)\u001b[0m\u001b[0;34m\u001b[0m\u001b[0;34m\u001b[0m\u001b[0m\n\u001b[0m\u001b[1;32m    251\u001b[0m             \u001b[0mprint\u001b[0m\u001b[0;34m(\u001b[0m\u001b[0mdf\u001b[0m\u001b[0;34m.\u001b[0m\u001b[0mid\u001b[0m\u001b[0;34m.\u001b[0m\u001b[0miloc\u001b[0m\u001b[0;34m[\u001b[0m\u001b[0mi\u001b[0m\u001b[0;34m]\u001b[0m \u001b[0;34m+\u001b[0m \u001b[0;34m' successful'\u001b[0m\u001b[0;34m)\u001b[0m\u001b[0;34m\u001b[0m\u001b[0;34m\u001b[0m\u001b[0m\n\u001b[1;32m    252\u001b[0m \u001b[0;34m\u001b[0m\u001b[0m\n",
      "\u001b[0;32m~/codeup-data-science/arabic_media_nlp_project/paigework/date_fixer.py\u001b[0m in \u001b[0;36malittihad_date\u001b[0;34m(date_entry, months_map)\u001b[0m\n\u001b[1;32m     51\u001b[0m     \u001b[0mexp\u001b[0m \u001b[0;34m=\u001b[0m \u001b[0;34mr'(\\d?\\d)(.*)(\\d\\d\\d\\d)'\u001b[0m\u001b[0;34m\u001b[0m\u001b[0;34m\u001b[0m\u001b[0m\n\u001b[1;32m     52\u001b[0m     \u001b[0mmatch\u001b[0m \u001b[0;34m=\u001b[0m \u001b[0mre\u001b[0m\u001b[0;34m.\u001b[0m\u001b[0msearch\u001b[0m\u001b[0;34m(\u001b[0m\u001b[0mexp\u001b[0m\u001b[0;34m,\u001b[0m \u001b[0mdate_entry\u001b[0m\u001b[0;34m)\u001b[0m\u001b[0;34m\u001b[0m\u001b[0;34m\u001b[0m\u001b[0m\n\u001b[0;32m---> 53\u001b[0;31m     \u001b[0mday\u001b[0m \u001b[0;34m=\u001b[0m  \u001b[0mmatch\u001b[0m\u001b[0;34m[\u001b[0m\u001b[0;36m1\u001b[0m\u001b[0;34m]\u001b[0m\u001b[0;34m\u001b[0m\u001b[0;34m\u001b[0m\u001b[0m\n\u001b[0m\u001b[1;32m     54\u001b[0m     \u001b[0mmonth\u001b[0m \u001b[0;34m=\u001b[0m \u001b[0mmatch\u001b[0m\u001b[0;34m[\u001b[0m\u001b[0;36m2\u001b[0m\u001b[0;34m]\u001b[0m\u001b[0;34m.\u001b[0m\u001b[0mstrip\u001b[0m\u001b[0;34m(\u001b[0m\u001b[0;34m)\u001b[0m\u001b[0;34m\u001b[0m\u001b[0;34m\u001b[0m\u001b[0m\n\u001b[1;32m     55\u001b[0m     \u001b[0myear\u001b[0m \u001b[0;34m=\u001b[0m \u001b[0mmatch\u001b[0m\u001b[0;34m[\u001b[0m\u001b[0;36m3\u001b[0m\u001b[0;34m]\u001b[0m\u001b[0;34m\u001b[0m\u001b[0;34m\u001b[0m\u001b[0m\n",
      "\u001b[0;31mTypeError\u001b[0m: 'NoneType' object is not subscriptable"
     ]
    }
   ],
   "source": [
    "df = pd.read_csv('daily8_3.csv')\n",
    "new = date_fixer.make_datetime(df)"
   ]
  },
  {
   "cell_type": "code",
   "execution_count": null,
   "id": "b425325d",
   "metadata": {},
   "outputs": [],
   "source": [
    "def encode_sentiment(df, columns_to_encode):\n",
    "    dummies_list = columns_to_encode\n",
    "\n",
    "    dummy_df = pd.get_dummies(df[dummies_list], drop_first=False)\n",
    "    encoded = pd.concat([df, dummy_df], axis = 1)\n",
    "    return encoded"
   ]
  },
  {
   "cell_type": "code",
   "execution_count": null,
   "id": "cac68029",
   "metadata": {},
   "outputs": [],
   "source": [
    "encoded = encode_sentiment(no_false, ['text_label'])\n",
    "encoded.info()"
   ]
  },
  {
   "cell_type": "code",
   "execution_count": null,
   "id": "705f1e74",
   "metadata": {},
   "outputs": [],
   "source": [
    "encoded = encoded[encoded.text_label != 'False']\n",
    "encoded.text_label.value_counts()"
   ]
  },
  {
   "cell_type": "code",
   "execution_count": null,
   "id": "06412a43",
   "metadata": {},
   "outputs": [],
   "source": [
    "encoded.text_label_negative.value_counts()"
   ]
  },
  {
   "cell_type": "code",
   "execution_count": null,
   "id": "ffd9b1f4",
   "metadata": {},
   "outputs": [],
   "source": [
    "plt.figure(figsize = (18, 10))\n",
    "sns.histplot(data=encoded, x='dateline', hue= 'source', bins=50)"
   ]
  },
  {
   "cell_type": "code",
   "execution_count": null,
   "id": "e93afaaa",
   "metadata": {},
   "outputs": [],
   "source": [
    "plt.figure(figsize = (18, 12))\n",
    "sns.displot(data=encoded, x='dateline', col= 'source', bins=50)"
   ]
  },
  {
   "cell_type": "markdown",
   "id": "3704332f",
   "metadata": {},
   "source": [
    "### Techreen\n",
    "- Biggst spike in articles is in 2009 \n",
    "        events:\n",
    "        - Barack as 1st president in Jan 2009.\n",
    "#### Sabanews\n",
    "- Most articles written around 2012-2014.\n",
    "#### SaudiYourm\n",
    "- Most of the articles were written 2002-2004.\n",
    "        Events: \n",
    "        - Iraq War\n",
    "#### Yourm7\n",
    "- One small time for articles in 2008 , Great Recession?\n",
    "- Most articles written between 2012 - 2014 \n",
    "            Events: \n",
    "            - ISIS?\n",
    "#### Almasryalyoum\n",
    "- 2008 - 2013\n",
    "#### Ryiadh\n",
    "- 2003 - 2009\n",
    "#### Alittihad \n",
    "- 2008 - 2014\n",
    "#### Almustaqbal\n",
    "- 2004 - 2011\n",
    "#### Alqabas\n",
    "- 2006 - 2014\n",
    "#### Echoroukonline\n",
    "Not significant, very little amount of articles only in 2013."
   ]
  },
  {
   "cell_type": "code",
   "execution_count": null,
   "id": "8d7b8e6a",
   "metadata": {},
   "outputs": [],
   "source": [
    "df = encoded.set_index('dateline').sort_index()"
   ]
  },
  {
   "cell_type": "code",
   "execution_count": null,
   "id": "0d86edb8",
   "metadata": {},
   "outputs": [],
   "source": [
    "df.columns"
   ]
  },
  {
   "cell_type": "code",
   "execution_count": null,
   "id": "7dfb1797",
   "metadata": {},
   "outputs": [],
   "source": [
    "df.shape"
   ]
  },
  {
   "cell_type": "code",
   "execution_count": null,
   "id": "d7d30a48",
   "metadata": {},
   "outputs": [],
   "source": [
    "df.info"
   ]
  },
  {
   "cell_type": "code",
   "execution_count": null,
   "id": "c6587e1f",
   "metadata": {},
   "outputs": [],
   "source": [
    "df.headline_label.value_counts()"
   ]
  },
  {
   "cell_type": "code",
   "execution_count": null,
   "id": "83b59918",
   "metadata": {},
   "outputs": [],
   "source": [
    "df.tags.value_counts()"
   ]
  },
  {
   "cell_type": "code",
   "execution_count": null,
   "id": "35e8d109",
   "metadata": {},
   "outputs": [],
   "source": [
    "df.text_label.value_counts()"
   ]
  },
  {
   "cell_type": "code",
   "execution_count": null,
   "id": "1b7a7e27",
   "metadata": {},
   "outputs": [],
   "source": [
    "df.source.value_counts()"
   ]
  },
  {
   "cell_type": "markdown",
   "id": "39536e0d",
   "metadata": {},
   "source": [
    "\n"
   ]
  },
  {
   "cell_type": "code",
   "execution_count": null,
   "id": "4898e971",
   "metadata": {},
   "outputs": [],
   "source": [
    "sns.set_theme(style=\"white\")\n",
    "ax = sns.countplot(x=\"source\", data=df, palette=\"Set2\",order = new['source'].value_counts().index)\n",
    "ax.tick_params(axis='x', rotation=90)\n",
    "ax.set_xlabel('Source', size = 16)\n",
    "ax.set_ylabel('Article Count', size = 16)\n",
    "ax.set_title(\"Articles per website by count\", size = 20)\n",
    "plt.show()"
   ]
  },
  {
   "cell_type": "markdown",
   "id": "ac5d6b13",
   "metadata": {},
   "source": [
    "Takeaways:\n",
    "    \n",
    "    - Huge spike in articles written around 2011. \n",
    "    - Most of the articles are written by the souce Yourm7, which is also the top source overall.\n",
    "    - The other 2 highest times for articles written:\n",
    "        - Right after 2012 - don't have an event for beginning - mid of 2012?\n",
    "        - Beginning of 2013 - Boston Marathon shooting?"
   ]
  },
  {
   "cell_type": "code",
   "execution_count": null,
   "id": "12966b47",
   "metadata": {},
   "outputs": [],
   "source": [
    "def country_tagger(df):\n",
    "    country_map = { 'Alittihad': 'emirates',\n",
    "                    'Echoroukonline': 'algeria',\n",
    "                    'Ryiadh': 'ksa',\n",
    "                    'SaudiYoum': 'ksa',\n",
    "                    'Techreen': 'syria',\n",
    "                    'Alqabas': 'kuwait',\n",
    "                    'Almustaqbal': 'lebanon',\n",
    "                    'Almasryalyoum': 'egypt',\n",
    "                    'Youm7': 'egypt',\n",
    "                    'Sabanews': 'yemen',\n",
    "                    }\n",
    "    df['country'] = df.source.map(country_map)\n",
    "    return df"
   ]
  },
  {
   "cell_type": "code",
   "execution_count": null,
   "id": "9ce8cb37",
   "metadata": {},
   "outputs": [],
   "source": [
    "country_tagger(df)"
   ]
  },
  {
   "cell_type": "markdown",
   "id": "d90e57b8",
   "metadata": {},
   "source": [
    "## What’s the relationship between article sentiment and world events?\n",
    "\n",
    "- Hypothesis Testing not possible currently"
   ]
  },
  {
   "cell_type": "code",
   "execution_count": null,
   "id": "cd0c83b2",
   "metadata": {},
   "outputs": [],
   "source": [
    "plt.figure(figsize = (12, 8))\n",
    "sns.lineplot(data = df.resample('1M').sum(), x = 'dateline', y = 'text_label_negative', label = 'negative')\n",
    "sns.lineplot(data = df.resample('1M').sum(), x = 'dateline', y = 'text_label_neutral', label = 'neutral')\n",
    "sns.lineplot(data = df.resample('1M').sum(), x = 'dateline', y = 'text_label_positive', label = 'positive')\n",
    "plt.axvline(dt.datetime(2001, 9, 11),  color = 'black') ## 9/11\n",
    "plt.axvline(dt.datetime(2001, 10, 22), color = 'black') ## US leads assault on Taliban in Afghanistan\n",
    "plt.axvline(dt.datetime(2002, 10, 11), color = 'black') ## Congress authorizes forces against Iraq\n",
    "plt.axvline(dt.datetime(2003, 3, 19), color = 'black') ## US invades Iraq, starting war\n",
    "plt.axvline(dt.datetime(2004, 2, 4), color = 'black') ## Facebook is formed\n",
    "plt.axvline(dt.datetime(2004, 11, 7), color = 'black') ## Start of the Second Battle of Fallujah\n",
    "plt.axvline(dt.datetime(2005, 2, 14), color = 'black') ## Youtube is created\n",
    "plt.axvline(dt.datetime(2005, 6, 23), color = 'black') ## Reddit is created\n",
    "plt.axvline(dt.datetime(2006, 2, 22), color = 'black') ## al-Askari Mosque bombing, Start of Iraqi War\n",
    "plt.axvline(dt.datetime(2006, 3, 21), color = 'black') ## Twitter is created\n",
    "plt.axvline(dt.datetime(2006, 12, 30), color = 'black') ## Saddam Hussein executed\n",
    "plt.axvline(dt.datetime(2007, 4, 16), color = 'black') ## Virginia Tech Mass Shooting\n",
    "plt.axvline(dt.datetime(2008, 9, 15), color = 'black') ## Start of Great Recession\n",
    "plt.axvline(dt.datetime(2009, 1, 20), color = 'black') ## Barack Obama elected first black president\n",
    "plt.axvline(dt.datetime(2010, 8, 30), color = 'black') ## US combat roll in Iraq ends\n",
    "plt.axvline(dt.datetime(2011, 2, 14), color = 'black') ## Start of Arab Spring\n",
    "plt.axvline(dt.datetime(2011, 5, 2), color = 'black') ## Navy Seals take down Osama Bin Laden\n",
    "plt.axvline(dt.datetime(2011, 9, 19), color = 'black') ## Occupy Wallstreet\n",
    "plt.axvline(dt.datetime(2012, 12, 14), color = 'black') ## Sandy Hook Shooting\n",
    "plt.axvline(dt.datetime(2013, 4, 15), color = 'black') ## Boston Marathon Bombing\n",
    "\n",
    "\n",
    "plt.legend()"
   ]
  },
  {
   "cell_type": "code",
   "execution_count": null,
   "id": "87ab3d53",
   "metadata": {},
   "outputs": [],
   "source": []
  }
 ],
 "metadata": {
  "kernelspec": {
   "display_name": "Python 3 (ipykernel)",
   "language": "python",
   "name": "python3"
  },
  "language_info": {
   "codemirror_mode": {
    "name": "ipython",
    "version": 3
   },
   "file_extension": ".py",
   "mimetype": "text/x-python",
   "name": "python",
   "nbconvert_exporter": "python",
   "pygments_lexer": "ipython3",
   "version": "3.9.7"
  }
 },
 "nbformat": 4,
 "nbformat_minor": 5
}
