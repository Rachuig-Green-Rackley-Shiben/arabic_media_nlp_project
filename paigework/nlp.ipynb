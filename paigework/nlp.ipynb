{
 "cells": [
  {
   "cell_type": "code",
   "execution_count": 4,
   "id": "aafcb5e7",
   "metadata": {},
   "outputs": [],
   "source": [
    "import re\n",
    "import unicodedata\n",
    "import pandas as pd\n",
    "import nltk\n",
    "from wordcloud import WordCloud\n",
    "from nltk.tokenize.toktok import ToktokTokenizer\n",
    "from nltk.corpus import stopwords\n",
    "from sklearn.model_selection import train_test_split\n",
    "\n",
    "from matplotlib import pyplot as plt\n",
    "%matplotlib inline\n",
    "import seaborn as sns\n",
    "\n",
    "import warnings\n",
    "warnings.filterwarnings('ignore')\n",
    "\n",
    "from googletrans import Translator"
   ]
  },
  {
   "cell_type": "code",
   "execution_count": 2,
   "id": "1046e4a7",
   "metadata": {},
   "outputs": [],
   "source": [
    "df = pd.read_csv('cleaned_all_articles.csv')"
   ]
  },
  {
   "cell_type": "code",
   "execution_count": 3,
   "id": "1e181b44",
   "metadata": {},
   "outputs": [
    {
     "data": {
      "text/html": [
       "<div>\n",
       "<style scoped>\n",
       "    .dataframe tbody tr th:only-of-type {\n",
       "        vertical-align: middle;\n",
       "    }\n",
       "\n",
       "    .dataframe tbody tr th {\n",
       "        vertical-align: top;\n",
       "    }\n",
       "\n",
       "    .dataframe thead th {\n",
       "        text-align: right;\n",
       "    }\n",
       "</style>\n",
       "<table border=\"1\" class=\"dataframe\">\n",
       "  <thead>\n",
       "    <tr style=\"text-align: right;\">\n",
       "      <th></th>\n",
       "      <th>id</th>\n",
       "      <th>url</th>\n",
       "      <th>headline</th>\n",
       "      <th>dateline</th>\n",
       "      <th>text</th>\n",
       "      <th>tags</th>\n",
       "      <th>source</th>\n",
       "      <th>cleaned_text</th>\n",
       "    </tr>\n",
       "  </thead>\n",
       "  <tbody>\n",
       "    <tr>\n",
       "      <th>0</th>\n",
       "      <td>ETD_ARB_0000033</td>\n",
       "      <td>http://www.alittihad.ae/details.php?id=53&amp;y=20...</td>\n",
       "      <td>الوثائق الرئاسية الأميركية··· متجاهلو التاريخ ...</td>\n",
       "      <td>تاريخ النشر: الثلاثاء 01 يناير 2008</td>\n",
       "      <td>ربما نسي الكثيرون الآن الأمر التنفيذي الخاص با...</td>\n",
       "      <td>['واشنطن', 'بوش']</td>\n",
       "      <td>Alittihad</td>\n",
       "      <td>['ربما', 'نسي', 'الكثيرون', 'الان', 'الامر', '...</td>\n",
       "    </tr>\n",
       "    <tr>\n",
       "      <th>1</th>\n",
       "      <td>ETD_ARB_0000035</td>\n",
       "      <td>http://www.alittihad.ae/details.php?id=55&amp;y=20...</td>\n",
       "      <td>التنبؤات السنوية</td>\n",
       "      <td>تاريخ النشر: الثلاثاء 01 يناير 2008</td>\n",
       "      <td>هذه هي حلقة التنبؤات المشتركة السنوية الرابعة ...</td>\n",
       "      <td>['أوباما', 'كلينتون']</td>\n",
       "      <td>Alittihad</td>\n",
       "      <td>['هذه', 'هي', 'حلقه', 'التنبؤات', 'المشتركه', ...</td>\n",
       "    </tr>\n",
       "    <tr>\n",
       "      <th>2</th>\n",
       "      <td>ETD_ARB_0000036</td>\n",
       "      <td>http://www.alittihad.ae/details.php?id=56&amp;y=20...</td>\n",
       "      <td>شلهوب والحاسوب ·· يقدم وجبة تعليمية وفكرية ممت...</td>\n",
       "      <td>تاريخ النشر: الثلاثاء 01 يناير 2008</td>\n",
       "      <td>''''كم هو جميل، هذا العالم السحري عالم الأطفال...</td>\n",
       "      <td>['بوش']</td>\n",
       "      <td>Alittihad</td>\n",
       "      <td>['كم', 'هو', 'جميل', 'هذا', 'العالم', 'السحري'...</td>\n",
       "    </tr>\n",
       "    <tr>\n",
       "      <th>3</th>\n",
       "      <td>ETD_ARB_0000062</td>\n",
       "      <td>http://www.alittihad.ae/details.php?id=82&amp;y=20...</td>\n",
       "      <td>48 قتيلاً وجريحاً باعتداءات متفرقة في العراق</td>\n",
       "      <td>تاريخ النشر: الثلاثاء 01 يناير 2008</td>\n",
       "      <td>في استهداف جديد لعناصر ''''صحوة'''' العشائر ال...</td>\n",
       "      <td>['القاعدة']</td>\n",
       "      <td>Alittihad</td>\n",
       "      <td>['في', 'استهداف', 'جديد', 'لعناصر', 'صحوه', 'ا...</td>\n",
       "    </tr>\n",
       "    <tr>\n",
       "      <th>4</th>\n",
       "      <td>ETD_ARB_0000065</td>\n",
       "      <td>http://www.alittihad.ae/details.php?id=85&amp;y=20...</td>\n",
       "      <td>النفط فوق 100 دولار·· هيلاري رئيسة لأميركا·· ا...</td>\n",
       "      <td>تاريخ النشر: الثلاثاء 01 يناير 2008</td>\n",
       "      <td>استقبل العالم أول أيام العام الجديد ،2008 باحت...</td>\n",
       "      <td>['كلينتون']</td>\n",
       "      <td>Alittihad</td>\n",
       "      <td>['استقبل', 'العالم', 'اول', 'ايام', 'العام', '...</td>\n",
       "    </tr>\n",
       "  </tbody>\n",
       "</table>\n",
       "</div>"
      ],
      "text/plain": [
       "                id                                                url  \\\n",
       "0  ETD_ARB_0000033  http://www.alittihad.ae/details.php?id=53&y=20...   \n",
       "1  ETD_ARB_0000035  http://www.alittihad.ae/details.php?id=55&y=20...   \n",
       "2  ETD_ARB_0000036  http://www.alittihad.ae/details.php?id=56&y=20...   \n",
       "3  ETD_ARB_0000062  http://www.alittihad.ae/details.php?id=82&y=20...   \n",
       "4  ETD_ARB_0000065  http://www.alittihad.ae/details.php?id=85&y=20...   \n",
       "\n",
       "                                            headline  \\\n",
       "0  الوثائق الرئاسية الأميركية··· متجاهلو التاريخ ...   \n",
       "1                                   التنبؤات السنوية   \n",
       "2  شلهوب والحاسوب ·· يقدم وجبة تعليمية وفكرية ممت...   \n",
       "3       48 قتيلاً وجريحاً باعتداءات متفرقة في العراق   \n",
       "4  النفط فوق 100 دولار·· هيلاري رئيسة لأميركا·· ا...   \n",
       "\n",
       "                              dateline  \\\n",
       "0  تاريخ النشر: الثلاثاء 01 يناير 2008   \n",
       "1  تاريخ النشر: الثلاثاء 01 يناير 2008   \n",
       "2  تاريخ النشر: الثلاثاء 01 يناير 2008   \n",
       "3  تاريخ النشر: الثلاثاء 01 يناير 2008   \n",
       "4  تاريخ النشر: الثلاثاء 01 يناير 2008   \n",
       "\n",
       "                                                text                   tags  \\\n",
       "0  ربما نسي الكثيرون الآن الأمر التنفيذي الخاص با...      ['واشنطن', 'بوش']   \n",
       "1  هذه هي حلقة التنبؤات المشتركة السنوية الرابعة ...  ['أوباما', 'كلينتون']   \n",
       "2  ''''كم هو جميل، هذا العالم السحري عالم الأطفال...                ['بوش']   \n",
       "3  في استهداف جديد لعناصر ''''صحوة'''' العشائر ال...            ['القاعدة']   \n",
       "4  استقبل العالم أول أيام العام الجديد ،2008 باحت...            ['كلينتون']   \n",
       "\n",
       "      source                                       cleaned_text  \n",
       "0  Alittihad  ['ربما', 'نسي', 'الكثيرون', 'الان', 'الامر', '...  \n",
       "1  Alittihad  ['هذه', 'هي', 'حلقه', 'التنبؤات', 'المشتركه', ...  \n",
       "2  Alittihad  ['كم', 'هو', 'جميل', 'هذا', 'العالم', 'السحري'...  \n",
       "3  Alittihad  ['في', 'استهداف', 'جديد', 'لعناصر', 'صحوه', 'ا...  \n",
       "4  Alittihad  ['استقبل', 'العالم', 'اول', 'ايام', 'العام', '...  "
      ]
     },
     "execution_count": 3,
     "metadata": {},
     "output_type": "execute_result"
    }
   ],
   "source": [
    "df.head()"
   ]
  },
  {
   "cell_type": "code",
   "execution_count": 5,
   "id": "a416a6fa",
   "metadata": {},
   "outputs": [
    {
     "data": {
      "text/plain": [
       "'Hello how are you?'"
      ]
     },
     "execution_count": 5,
     "metadata": {},
     "output_type": "execute_result"
    }
   ],
   "source": [
    "translator = Translator()\n",
    "\n",
    "translation = translator.translate(\"مرحبا كيف حالك؟\",  dest='en')\n",
    "translation.text"
   ]
  },
  {
   "cell_type": "code",
   "execution_count": null,
   "id": "0c8c98c8",
   "metadata": {},
   "outputs": [],
   "source": []
  }
 ],
 "metadata": {
  "kernelspec": {
   "display_name": "Python 3 (ipykernel)",
   "language": "python",
   "name": "python3"
  },
  "language_info": {
   "codemirror_mode": {
    "name": "ipython",
    "version": 3
   },
   "file_extension": ".py",
   "mimetype": "text/x-python",
   "name": "python",
   "nbconvert_exporter": "python",
   "pygments_lexer": "ipython3",
   "version": "3.9.7"
  }
 },
 "nbformat": 4,
 "nbformat_minor": 5
}
